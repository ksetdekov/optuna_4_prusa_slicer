{
 "cells": [
  {
   "cell_type": "code",
   "execution_count": 1,
   "metadata": {},
   "outputs": [],
   "source": [
    "# !pip3 install plotly"
   ]
  },
  {
   "attachments": {},
   "cell_type": "markdown",
   "metadata": {},
   "source": [
    "# "
   ]
  },
  {
   "cell_type": "code",
   "execution_count": 2,
   "metadata": {},
   "outputs": [],
   "source": [
    "import numpy as np\n",
    "import logging\n",
    "import sys\n",
    "import pandas as pd\n",
    "import optuna\n",
    "pd.set_option('display.max_columns', 500) "
   ]
  },
  {
   "cell_type": "code",
   "execution_count": 3,
   "metadata": {},
   "outputs": [
    {
     "data": {
      "text/html": [
       "<div>\n",
       "<style scoped>\n",
       "    .dataframe tbody tr th:only-of-type {\n",
       "        vertical-align: middle;\n",
       "    }\n",
       "\n",
       "    .dataframe tbody tr th {\n",
       "        vertical-align: top;\n",
       "    }\n",
       "\n",
       "    .dataframe thead th {\n",
       "        text-align: right;\n",
       "    }\n",
       "</style>\n",
       "<table border=\"1\" class=\"dataframe\">\n",
       "  <thead>\n",
       "    <tr style=\"text-align: right;\">\n",
       "      <th></th>\n",
       "      <th>datetime</th>\n",
       "      <th>OH</th>\n",
       "      <th>GACI</th>\n",
       "      <th>STR</th>\n",
       "      <th>DEL</th>\n",
       "      <th>NOWH</th>\n",
       "      <th>NOSUPbridge</th>\n",
       "      <th>NOSUPshell</th>\n",
       "      <th>BL</th>\n",
       "      <th>RIN</th>\n",
       "    </tr>\n",
       "  </thead>\n",
       "  <tbody>\n",
       "    <tr>\n",
       "      <th>0</th>\n",
       "      <td>2023-01-06 23:50:00+03:00</td>\n",
       "      <td>2</td>\n",
       "      <td>0</td>\n",
       "      <td>0</td>\n",
       "      <td>2</td>\n",
       "      <td>1</td>\n",
       "      <td>1</td>\n",
       "      <td>2</td>\n",
       "      <td>1</td>\n",
       "      <td>1</td>\n",
       "    </tr>\n",
       "  </tbody>\n",
       "</table>\n",
       "</div>"
      ],
      "text/plain": [
       "                   datetime  OH  GACI  STR  DEL  NOWH  NOSUPbridge  \\\n",
       "0 2023-01-06 23:50:00+03:00   2     0    0    2     1            1   \n",
       "\n",
       "   NOSUPshell  BL  RIN  \n",
       "0           2   1    1  "
      ]
     },
     "execution_count": 3,
     "metadata": {},
     "output_type": "execute_result"
    }
   ],
   "source": [
    "results = pd.DataFrame({\n",
    "    'datetime': [pd.Timestamp('2023-01-06 23:50', tz='Europe/Moscow')],\n",
    "    'OH': [2],\n",
    "    'GACI': [0],\n",
    "    'STR': [0],\n",
    "    'DEL': [2],\n",
    "    'NOWH': [1],\n",
    "    'NOSUPbridge': [1],\n",
    "    'NOSUPshell': [2],\n",
    "    'BL': [1],\n",
    "    'RIN': [1]\n",
    "})\n",
    "results\n"
   ]
  },
  {
   "cell_type": "code",
   "execution_count": 4,
   "metadata": {},
   "outputs": [],
   "source": [
    "results['AQI'] = results[['OH', 'GACI', 'STR', 'DEL', 'NOWH', 'NOSUPbridge',\n",
    "       'NOSUPshell', 'BL', 'RIN']].sum(axis=1)"
   ]
  },
  {
   "cell_type": "code",
   "execution_count": 5,
   "metadata": {},
   "outputs": [],
   "source": [
    "df2 = pd.DataFrame({'first_layer_height': 0.2668088018810296, 'perimeters': 3, 'top_solid_layers': 1, 'bottom_solid_layers': 2, 'fuzzu_skin': 'off', 'fuzzu_skin_thickness': 0.021438718792543308, 'fill_pattern': 'Gyroid', 'ironing': 'True', 'brim_width': 4, 'extrusion_default': 0.3908904499463035, 'firts_layer_extrusion_width': 1.8293644109473233, 'perimeter_extrusion_width': 0.3554775186395852, 'external_perimeter_extrusion_width': 0.48409350203568047, 'infill_extrusion_width': 0.4334609604734254, 'solid_infill_extrusion_width': 0.539672457111438, 'top_infill_extrusion_width': 0.4350967346488085, 'bridge_flow_ratio': 0.9396202978169758, 'elephant_foot_compensation': 0.40037228433776834, 'flow_multiplier': 1.0936523151438795, 'temperature': 206.26848356318484}, index=[0])\n",
    "results = results.join(df2)"
   ]
  },
  {
   "cell_type": "code",
   "execution_count": 8,
   "metadata": {},
   "outputs": [
    {
     "data": {
      "text/html": [
       "<div>\n",
       "<style scoped>\n",
       "    .dataframe tbody tr th:only-of-type {\n",
       "        vertical-align: middle;\n",
       "    }\n",
       "\n",
       "    .dataframe tbody tr th {\n",
       "        vertical-align: top;\n",
       "    }\n",
       "\n",
       "    .dataframe thead th {\n",
       "        text-align: right;\n",
       "    }\n",
       "</style>\n",
       "<table border=\"1\" class=\"dataframe\">\n",
       "  <thead>\n",
       "    <tr style=\"text-align: right;\">\n",
       "      <th></th>\n",
       "      <th>datetime</th>\n",
       "      <th>OH</th>\n",
       "      <th>GACI</th>\n",
       "      <th>STR</th>\n",
       "      <th>DEL</th>\n",
       "      <th>NOWH</th>\n",
       "      <th>NOSUPbridge</th>\n",
       "      <th>NOSUPshell</th>\n",
       "      <th>BL</th>\n",
       "      <th>RIN</th>\n",
       "      <th>AQI</th>\n",
       "      <th>first_layer_height</th>\n",
       "      <th>perimeters</th>\n",
       "      <th>top_solid_layers</th>\n",
       "      <th>bottom_solid_layers</th>\n",
       "      <th>fuzzu_skin</th>\n",
       "      <th>fuzzu_skin_thickness</th>\n",
       "      <th>fill_pattern</th>\n",
       "      <th>ironing</th>\n",
       "      <th>brim_width</th>\n",
       "      <th>extrusion_default</th>\n",
       "      <th>firts_layer_extrusion_width</th>\n",
       "      <th>perimeter_extrusion_width</th>\n",
       "      <th>external_perimeter_extrusion_width</th>\n",
       "      <th>infill_extrusion_width</th>\n",
       "      <th>solid_infill_extrusion_width</th>\n",
       "      <th>top_infill_extrusion_width</th>\n",
       "      <th>bridge_flow_ratio</th>\n",
       "      <th>elephant_foot_compensation</th>\n",
       "      <th>flow_multiplier</th>\n",
       "      <th>temperature</th>\n",
       "    </tr>\n",
       "  </thead>\n",
       "  <tbody>\n",
       "    <tr>\n",
       "      <th>0</th>\n",
       "      <td>2023-01-06 23:50:00+03:00</td>\n",
       "      <td>2</td>\n",
       "      <td>0</td>\n",
       "      <td>0</td>\n",
       "      <td>2</td>\n",
       "      <td>1</td>\n",
       "      <td>1</td>\n",
       "      <td>2</td>\n",
       "      <td>1</td>\n",
       "      <td>1</td>\n",
       "      <td>10</td>\n",
       "      <td>0.266809</td>\n",
       "      <td>3</td>\n",
       "      <td>1</td>\n",
       "      <td>2</td>\n",
       "      <td>off</td>\n",
       "      <td>0.021439</td>\n",
       "      <td>Gyroid</td>\n",
       "      <td>True</td>\n",
       "      <td>4</td>\n",
       "      <td>0.39089</td>\n",
       "      <td>1.829364</td>\n",
       "      <td>0.355478</td>\n",
       "      <td>0.484094</td>\n",
       "      <td>0.433461</td>\n",
       "      <td>0.539672</td>\n",
       "      <td>0.435097</td>\n",
       "      <td>0.93962</td>\n",
       "      <td>0.400372</td>\n",
       "      <td>1.093652</td>\n",
       "      <td>206.268484</td>\n",
       "    </tr>\n",
       "  </tbody>\n",
       "</table>\n",
       "</div>"
      ],
      "text/plain": [
       "                   datetime  OH  GACI  STR  DEL  NOWH  NOSUPbridge  \\\n",
       "0 2023-01-06 23:50:00+03:00   2     0    0    2     1            1   \n",
       "\n",
       "   NOSUPshell  BL  RIN  AQI  first_layer_height  perimeters  top_solid_layers  \\\n",
       "0           2   1    1   10            0.266809           3                 1   \n",
       "\n",
       "   bottom_solid_layers fuzzu_skin  fuzzu_skin_thickness fill_pattern ironing  \\\n",
       "0                    2        off              0.021439       Gyroid    True   \n",
       "\n",
       "   brim_width  extrusion_default  firts_layer_extrusion_width  \\\n",
       "0           4            0.39089                     1.829364   \n",
       "\n",
       "   perimeter_extrusion_width  external_perimeter_extrusion_width  \\\n",
       "0                   0.355478                            0.484094   \n",
       "\n",
       "   infill_extrusion_width  solid_infill_extrusion_width  \\\n",
       "0                0.433461                      0.539672   \n",
       "\n",
       "   top_infill_extrusion_width  bridge_flow_ratio  elephant_foot_compensation  \\\n",
       "0                    0.435097            0.93962                    0.400372   \n",
       "\n",
       "   flow_multiplier  temperature  \n",
       "0         1.093652   206.268484  "
      ]
     },
     "execution_count": 8,
     "metadata": {},
     "output_type": "execute_result"
    }
   ],
   "source": [
    "results"
   ]
  },
  {
   "cell_type": "code",
   "execution_count": 24,
   "metadata": {},
   "outputs": [
    {
     "data": {
      "text/html": [
       "<div>\n",
       "<style scoped>\n",
       "    .dataframe tbody tr th:only-of-type {\n",
       "        vertical-align: middle;\n",
       "    }\n",
       "\n",
       "    .dataframe tbody tr th {\n",
       "        vertical-align: top;\n",
       "    }\n",
       "\n",
       "    .dataframe thead th {\n",
       "        text-align: right;\n",
       "    }\n",
       "</style>\n",
       "<table border=\"1\" class=\"dataframe\">\n",
       "  <thead>\n",
       "    <tr style=\"text-align: right;\">\n",
       "      <th></th>\n",
       "      <th>datetime</th>\n",
       "      <th>OH</th>\n",
       "      <th>GACI</th>\n",
       "      <th>STR</th>\n",
       "      <th>DEL</th>\n",
       "      <th>NOWH</th>\n",
       "      <th>NOSUPbridge</th>\n",
       "      <th>NOSUPshell</th>\n",
       "      <th>BL</th>\n",
       "      <th>RIN</th>\n",
       "      <th>AQI</th>\n",
       "      <th>first_layer_height</th>\n",
       "      <th>perimeters</th>\n",
       "      <th>top_solid_layers</th>\n",
       "      <th>bottom_solid_layers</th>\n",
       "      <th>fuzzu_skin</th>\n",
       "      <th>fuzzu_skin_thickness</th>\n",
       "      <th>fill_pattern</th>\n",
       "      <th>ironing</th>\n",
       "      <th>brim_width</th>\n",
       "      <th>extrusion_default</th>\n",
       "      <th>firts_layer_extrusion_width</th>\n",
       "      <th>perimeter_extrusion_width</th>\n",
       "      <th>external_perimeter_extrusion_width</th>\n",
       "      <th>infill_extrusion_width</th>\n",
       "      <th>solid_infill_extrusion_width</th>\n",
       "      <th>top_infill_extrusion_width</th>\n",
       "      <th>bridge_flow_ratio</th>\n",
       "      <th>elephant_foot_compensation</th>\n",
       "      <th>flow_multiplier</th>\n",
       "      <th>temperature</th>\n",
       "    </tr>\n",
       "  </thead>\n",
       "  <tbody>\n",
       "    <tr>\n",
       "      <th>0</th>\n",
       "      <td>2023-01-07 08:40:00+03:00</td>\n",
       "      <td>1</td>\n",
       "      <td>1</td>\n",
       "      <td>2</td>\n",
       "      <td>2</td>\n",
       "      <td>0</td>\n",
       "      <td>1</td>\n",
       "      <td>1</td>\n",
       "      <td>0</td>\n",
       "      <td>0</td>\n",
       "      <td>8</td>\n",
       "      <td>0.376929</td>\n",
       "      <td>4</td>\n",
       "      <td>5</td>\n",
       "      <td>1</td>\n",
       "      <td>External perimeters</td>\n",
       "      <td>0.364309</td>\n",
       "      <td>Gyroid</td>\n",
       "      <td>True</td>\n",
       "      <td>4</td>\n",
       "      <td>0.413103</td>\n",
       "      <td>1.561101</td>\n",
       "      <td>0.516925</td>\n",
       "      <td>0.353658</td>\n",
       "      <td>0.500029</td>\n",
       "      <td>0.647215</td>\n",
       "      <td>0.587041</td>\n",
       "      <td>0.956089</td>\n",
       "      <td>0.39464</td>\n",
       "      <td>0.920645</td>\n",
       "      <td>208.957871</td>\n",
       "    </tr>\n",
       "  </tbody>\n",
       "</table>\n",
       "</div>"
      ],
      "text/plain": [
       "                   datetime  OH  GACI  STR  DEL  NOWH  NOSUPbridge  \\\n",
       "0 2023-01-07 08:40:00+03:00   1     1    2    2     0            1   \n",
       "\n",
       "   NOSUPshell  BL  RIN  AQI  first_layer_height  perimeters  top_solid_layers  \\\n",
       "0           1   0    0    8            0.376929           4                 5   \n",
       "\n",
       "   bottom_solid_layers           fuzzu_skin  fuzzu_skin_thickness  \\\n",
       "0                    1  External perimeters              0.364309   \n",
       "\n",
       "  fill_pattern ironing  brim_width  extrusion_default  \\\n",
       "0       Gyroid    True           4           0.413103   \n",
       "\n",
       "   firts_layer_extrusion_width  perimeter_extrusion_width  \\\n",
       "0                     1.561101                   0.516925   \n",
       "\n",
       "   external_perimeter_extrusion_width  infill_extrusion_width  \\\n",
       "0                            0.353658                0.500029   \n",
       "\n",
       "   solid_infill_extrusion_width  top_infill_extrusion_width  \\\n",
       "0                      0.647215                    0.587041   \n",
       "\n",
       "   bridge_flow_ratio  elephant_foot_compensation  flow_multiplier  temperature  \n",
       "0           0.956089                     0.39464         0.920645   208.957871  "
      ]
     },
     "execution_count": 24,
     "metadata": {},
     "output_type": "execute_result"
    }
   ],
   "source": [
    "added = pd.DataFrame({'datetime':pd.Timestamp('2023-01-07 08:40', tz='Europe/Moscow'), 'OH':1, 'GACI':1, 'STR':2, 'DEL':2, 'NOWH':0, 'NOSUPbridge':1,\n",
    "       'NOSUPshell':1, 'BL':0, 'RIN':0}, index=[0])\n",
    "added['AQI'] = added[['OH', 'GACI', 'STR', 'DEL', 'NOWH', 'NOSUPbridge',\n",
    "       'NOSUPshell', 'BL', 'RIN']].sum(axis=1)\n",
    "df2added = pd.DataFrame({'first_layer_height': 0.3769290462677256, 'perimeters': 4, 'top_solid_layers': 5, 'bottom_solid_layers': 1, 'fuzzu_skin': 'External perimeters', 'fuzzu_skin_thickness': 0.3643092434107631, 'fill_pattern': 'Gyroid', 'ironing': 'True', 'brim_width': 4, 'extrusion_default': 0.4131031262012126, 'firts_layer_extrusion_width': 1.561101298754217, 'perimeter_extrusion_width': 0.5169251343794746, 'external_perimeter_extrusion_width': 0.3536576554688383, 'infill_extrusion_width': 0.5000288629889935, 'solid_infill_extrusion_width': 0.6472152722266237, 'top_infill_extrusion_width': 0.5870414135949599, 'bridge_flow_ratio': 0.9560887984128811, 'elephant_foot_compensation': 0.39463966422574426, 'flow_multiplier': 0.9206452013155284, 'temperature': 208.9578705235181}, index=[0])\n",
    "added = added.join(df2added)\n",
    "added"
   ]
  },
  {
   "cell_type": "code",
   "execution_count": 25,
   "metadata": {},
   "outputs": [
    {
     "data": {
      "text/html": [
       "<div>\n",
       "<style scoped>\n",
       "    .dataframe tbody tr th:only-of-type {\n",
       "        vertical-align: middle;\n",
       "    }\n",
       "\n",
       "    .dataframe tbody tr th {\n",
       "        vertical-align: top;\n",
       "    }\n",
       "\n",
       "    .dataframe thead th {\n",
       "        text-align: right;\n",
       "    }\n",
       "</style>\n",
       "<table border=\"1\" class=\"dataframe\">\n",
       "  <thead>\n",
       "    <tr style=\"text-align: right;\">\n",
       "      <th></th>\n",
       "      <th>datetime</th>\n",
       "      <th>OH</th>\n",
       "      <th>GACI</th>\n",
       "      <th>STR</th>\n",
       "      <th>DEL</th>\n",
       "      <th>NOWH</th>\n",
       "      <th>NOSUPbridge</th>\n",
       "      <th>NOSUPshell</th>\n",
       "      <th>BL</th>\n",
       "      <th>RIN</th>\n",
       "      <th>AQI</th>\n",
       "      <th>first_layer_height</th>\n",
       "      <th>perimeters</th>\n",
       "      <th>top_solid_layers</th>\n",
       "      <th>bottom_solid_layers</th>\n",
       "      <th>fuzzu_skin</th>\n",
       "      <th>fuzzu_skin_thickness</th>\n",
       "      <th>fill_pattern</th>\n",
       "      <th>ironing</th>\n",
       "      <th>brim_width</th>\n",
       "      <th>extrusion_default</th>\n",
       "      <th>firts_layer_extrusion_width</th>\n",
       "      <th>perimeter_extrusion_width</th>\n",
       "      <th>external_perimeter_extrusion_width</th>\n",
       "      <th>infill_extrusion_width</th>\n",
       "      <th>solid_infill_extrusion_width</th>\n",
       "      <th>top_infill_extrusion_width</th>\n",
       "      <th>bridge_flow_ratio</th>\n",
       "      <th>elephant_foot_compensation</th>\n",
       "      <th>flow_multiplier</th>\n",
       "      <th>temperature</th>\n",
       "    </tr>\n",
       "  </thead>\n",
       "  <tbody>\n",
       "    <tr>\n",
       "      <th>0</th>\n",
       "      <td>2023-01-06 23:50:00+03:00</td>\n",
       "      <td>2</td>\n",
       "      <td>0</td>\n",
       "      <td>0</td>\n",
       "      <td>2</td>\n",
       "      <td>1</td>\n",
       "      <td>1</td>\n",
       "      <td>2</td>\n",
       "      <td>1</td>\n",
       "      <td>1</td>\n",
       "      <td>10</td>\n",
       "      <td>0.266809</td>\n",
       "      <td>3</td>\n",
       "      <td>1</td>\n",
       "      <td>2</td>\n",
       "      <td>off</td>\n",
       "      <td>0.021439</td>\n",
       "      <td>Gyroid</td>\n",
       "      <td>True</td>\n",
       "      <td>4</td>\n",
       "      <td>0.390890</td>\n",
       "      <td>1.829364</td>\n",
       "      <td>0.355478</td>\n",
       "      <td>0.484094</td>\n",
       "      <td>0.433461</td>\n",
       "      <td>0.539672</td>\n",
       "      <td>0.435097</td>\n",
       "      <td>0.939620</td>\n",
       "      <td>0.400372</td>\n",
       "      <td>1.093652</td>\n",
       "      <td>206.268484</td>\n",
       "    </tr>\n",
       "    <tr>\n",
       "      <th>1</th>\n",
       "      <td>2023-01-07 08:40:00+03:00</td>\n",
       "      <td>1</td>\n",
       "      <td>1</td>\n",
       "      <td>2</td>\n",
       "      <td>2</td>\n",
       "      <td>0</td>\n",
       "      <td>1</td>\n",
       "      <td>1</td>\n",
       "      <td>0</td>\n",
       "      <td>0</td>\n",
       "      <td>8</td>\n",
       "      <td>0.376929</td>\n",
       "      <td>4</td>\n",
       "      <td>5</td>\n",
       "      <td>1</td>\n",
       "      <td>External perimeters</td>\n",
       "      <td>0.364309</td>\n",
       "      <td>Gyroid</td>\n",
       "      <td>True</td>\n",
       "      <td>4</td>\n",
       "      <td>0.413103</td>\n",
       "      <td>1.561101</td>\n",
       "      <td>0.516925</td>\n",
       "      <td>0.353658</td>\n",
       "      <td>0.500029</td>\n",
       "      <td>0.647215</td>\n",
       "      <td>0.587041</td>\n",
       "      <td>0.956089</td>\n",
       "      <td>0.394640</td>\n",
       "      <td>0.920645</td>\n",
       "      <td>208.957871</td>\n",
       "    </tr>\n",
       "  </tbody>\n",
       "</table>\n",
       "</div>"
      ],
      "text/plain": [
       "                   datetime  OH  GACI  STR  DEL  NOWH  NOSUPbridge  \\\n",
       "0 2023-01-06 23:50:00+03:00   2     0    0    2     1            1   \n",
       "1 2023-01-07 08:40:00+03:00   1     1    2    2     0            1   \n",
       "\n",
       "   NOSUPshell  BL  RIN  AQI  first_layer_height  perimeters  top_solid_layers  \\\n",
       "0           2   1    1   10            0.266809           3                 1   \n",
       "1           1   0    0    8            0.376929           4                 5   \n",
       "\n",
       "   bottom_solid_layers           fuzzu_skin  fuzzu_skin_thickness  \\\n",
       "0                    2                  off              0.021439   \n",
       "1                    1  External perimeters              0.364309   \n",
       "\n",
       "  fill_pattern ironing  brim_width  extrusion_default  \\\n",
       "0       Gyroid    True           4           0.390890   \n",
       "1       Gyroid    True           4           0.413103   \n",
       "\n",
       "   firts_layer_extrusion_width  perimeter_extrusion_width  \\\n",
       "0                     1.829364                   0.355478   \n",
       "1                     1.561101                   0.516925   \n",
       "\n",
       "   external_perimeter_extrusion_width  infill_extrusion_width  \\\n",
       "0                            0.484094                0.433461   \n",
       "1                            0.353658                0.500029   \n",
       "\n",
       "   solid_infill_extrusion_width  top_infill_extrusion_width  \\\n",
       "0                      0.539672                    0.435097   \n",
       "1                      0.647215                    0.587041   \n",
       "\n",
       "   bridge_flow_ratio  elephant_foot_compensation  flow_multiplier  temperature  \n",
       "0           0.939620                    0.400372         1.093652   206.268484  \n",
       "1           0.956089                    0.394640         0.920645   208.957871  "
      ]
     },
     "execution_count": 25,
     "metadata": {},
     "output_type": "execute_result"
    }
   ],
   "source": [
    "pd.concat([results,added], ignore_index=True)"
   ]
  },
  {
   "cell_type": "code",
   "execution_count": 26,
   "metadata": {},
   "outputs": [
    {
     "data": {
      "text/plain": [
       "{0: 10, 1: 8, 2: 10, 3: 12, 4: 12, 5: 10}"
      ]
     },
     "execution_count": 26,
     "metadata": {},
     "output_type": "execute_result"
    }
   ],
   "source": [
    "score_dict = {0:10, 1:8, 2:10, 3:12, 4:12, 5:10}\n",
    "score_dict"
   ]
  },
  {
   "cell_type": "code",
   "execution_count": 27,
   "metadata": {},
   "outputs": [
    {
     "name": "stderr",
     "output_type": "stream",
     "text": [
      "\u001b[32m[I 2023-02-07 08:51:37,394]\u001b[0m A new study created in RDB with name: printer_param_find\u001b[0m\n"
     ]
    },
    {
     "name": "stdout",
     "output_type": "stream",
     "text": [
      "A new study created in RDB with name: printer_param_find\n"
     ]
    },
    {
     "name": "stderr",
     "output_type": "stream",
     "text": [
      "\u001b[32m[I 2023-02-07 08:51:37,646]\u001b[0m Trial 0 finished with value: 64.0 and parameters: {'first_layer_height': 0.2668088018810296, 'perimeters': 3, 'top_solid_layers': 1, 'bottom_solid_layers': 2, 'fuzzu_skin': 'off', 'fuzzu_skin_thickness': 0.021438718792543308, 'fill_pattern': 'Gyroid', 'ironing': 'True', 'brim_width': 4, 'extrusion_default': 0.3908904499463035, 'firts_layer_extrusion_width': 1.8293644109473233, 'perimeter_extrusion_width': 0.3554775186395852, 'external_perimeter_extrusion_width': 0.48409350203568047, 'infill_extrusion_width': 0.4334609604734254, 'solid_infill_extrusion_width': 0.539672457111438, 'top_infill_extrusion_width': 0.4350967346488085, 'bridge_flow_ratio': 0.9396202978169758, 'elephant_foot_compensation': 0.40037228433776834, 'flow_multiplier': 1.0936523151438795, 'temperature': 206.26848356318484}. Best is trial 0 with value: 64.0.\u001b[0m\n"
     ]
    },
    {
     "name": "stdout",
     "output_type": "stream",
     "text": [
      "Trial 0 finished with value: 64.0 and parameters: {'first_layer_height': 0.2668088018810296, 'perimeters': 3, 'top_solid_layers': 1, 'bottom_solid_layers': 2, 'fuzzu_skin': 'off', 'fuzzu_skin_thickness': 0.021438718792543308, 'fill_pattern': 'Gyroid', 'ironing': 'True', 'brim_width': 4, 'extrusion_default': 0.3908904499463035, 'firts_layer_extrusion_width': 1.8293644109473233, 'perimeter_extrusion_width': 0.3554775186395852, 'external_perimeter_extrusion_width': 0.48409350203568047, 'infill_extrusion_width': 0.4334609604734254, 'solid_infill_extrusion_width': 0.539672457111438, 'top_infill_extrusion_width': 0.4350967346488085, 'bridge_flow_ratio': 0.9396202978169758, 'elephant_foot_compensation': 0.40037228433776834, 'flow_multiplier': 1.0936523151438795, 'temperature': 206.26848356318484}. Best is trial 0 with value: 64.0.\n"
     ]
    },
    {
     "name": "stderr",
     "output_type": "stream",
     "text": [
      "\u001b[32m[I 2023-02-07 08:51:37,884]\u001b[0m Trial 1 finished with value: 100.0 and parameters: {'first_layer_height': 0.3769290462677256, 'perimeters': 4, 'top_solid_layers': 5, 'bottom_solid_layers': 1, 'fuzzu_skin': 'External perimeters', 'fuzzu_skin_thickness': 0.3643092434107631, 'fill_pattern': 'Gyroid', 'ironing': 'True', 'brim_width': 4, 'extrusion_default': 0.4131031262012126, 'firts_layer_extrusion_width': 1.561101298754217, 'perimeter_extrusion_width': 0.5169251343794746, 'external_perimeter_extrusion_width': 0.3536576554688383, 'infill_extrusion_width': 0.5000288629889935, 'solid_infill_extrusion_width': 0.6472152722266237, 'top_infill_extrusion_width': 0.5870414135949599, 'bridge_flow_ratio': 0.9560887984128811, 'elephant_foot_compensation': 0.39463966422574426, 'flow_multiplier': 0.9206452013155284, 'temperature': 208.9578705235181}. Best is trial 0 with value: 64.0.\u001b[0m\n"
     ]
    },
    {
     "name": "stdout",
     "output_type": "stream",
     "text": [
      "Trial 1 finished with value: 100.0 and parameters: {'first_layer_height': 0.3769290462677256, 'perimeters': 4, 'top_solid_layers': 5, 'bottom_solid_layers': 1, 'fuzzu_skin': 'External perimeters', 'fuzzu_skin_thickness': 0.3643092434107631, 'fill_pattern': 'Gyroid', 'ironing': 'True', 'brim_width': 4, 'extrusion_default': 0.4131031262012126, 'firts_layer_extrusion_width': 1.561101298754217, 'perimeter_extrusion_width': 0.5169251343794746, 'external_perimeter_extrusion_width': 0.3536576554688383, 'infill_extrusion_width': 0.5000288629889935, 'solid_infill_extrusion_width': 0.6472152722266237, 'top_infill_extrusion_width': 0.5870414135949599, 'bridge_flow_ratio': 0.9560887984128811, 'elephant_foot_compensation': 0.39463966422574426, 'flow_multiplier': 0.9206452013155284, 'temperature': 208.9578705235181}. Best is trial 0 with value: 64.0.\n"
     ]
    },
    {
     "name": "stderr",
     "output_type": "stream",
     "text": [
      "\u001b[32m[I 2023-02-07 08:51:38,119]\u001b[0m Trial 2 finished with value: 64.0 and parameters: {'first_layer_height': 0.4634382012372382, 'perimeters': 2, 'top_solid_layers': 2, 'bottom_solid_layers': 1, 'fuzzu_skin': 'External perimeters', 'fuzzu_skin_thickness': 0.023785199534818165, 'fill_pattern': 'Gyroid', 'ironing': 'False', 'brim_width': 1, 'extrusion_default': 0.4678611073806569, 'firts_layer_extrusion_width': 1.5796617040293035, 'perimeter_extrusion_width': 0.37046688576556513, 'external_perimeter_extrusion_width': 0.4328111975639137, 'infill_extrusion_width': 0.48888003154554904, 'solid_infill_extrusion_width': 0.5035448173817256, 'top_infill_extrusion_width': 0.41248836473652184, 'bridge_flow_ratio': 1.0071792811831024, 'elephant_foot_compensation': 0.3318973226098944, 'flow_multiplier': 1.0029778224116617, 'temperature': 218.89189511981627}. Best is trial 0 with value: 64.0.\u001b[0m\n"
     ]
    },
    {
     "name": "stdout",
     "output_type": "stream",
     "text": [
      "Trial 2 finished with value: 64.0 and parameters: {'first_layer_height': 0.4634382012372382, 'perimeters': 2, 'top_solid_layers': 2, 'bottom_solid_layers': 1, 'fuzzu_skin': 'External perimeters', 'fuzzu_skin_thickness': 0.023785199534818165, 'fill_pattern': 'Gyroid', 'ironing': 'False', 'brim_width': 1, 'extrusion_default': 0.4678611073806569, 'firts_layer_extrusion_width': 1.5796617040293035, 'perimeter_extrusion_width': 0.37046688576556513, 'external_perimeter_extrusion_width': 0.4328111975639137, 'infill_extrusion_width': 0.48888003154554904, 'solid_infill_extrusion_width': 0.5035448173817256, 'top_infill_extrusion_width': 0.41248836473652184, 'bridge_flow_ratio': 1.0071792811831024, 'elephant_foot_compensation': 0.3318973226098944, 'flow_multiplier': 1.0029778224116617, 'temperature': 218.89189511981627}. Best is trial 0 with value: 64.0.\n"
     ]
    },
    {
     "data": {
      "application/vnd.plotly.v1+json": {
       "config": {
        "plotlyServerURL": "https://plot.ly"
       },
       "data": [
        {
         "dimensions": [
          {
           "label": "Objective Value",
           "range": [
            64,
            100
           ],
           "values": [
            64,
            100,
            64
           ]
          },
          {
           "label": "fill_pattern",
           "range": [
            0,
            0
           ],
           "ticktext": [
            "Gyroid"
           ],
           "tickvals": [
            0
           ],
           "values": [
            0,
            0,
            0
           ]
          },
          {
           "label": "first_layer_height",
           "range": [
            0.2668088018810296,
            0.4634382012372382
           ],
           "values": [
            0.2668088018810296,
            0.3769290462677256,
            0.4634382012372382
           ]
          },
          {
           "label": "perimeters",
           "range": [
            2,
            4
           ],
           "values": [
            3,
            4,
            2
           ]
          }
         ],
         "labelangle": 30,
         "labelside": "bottom",
         "line": {
          "color": [
           64,
           100,
           64
          ],
          "colorbar": {
           "title": {
            "text": "Objective Value"
           }
          },
          "colorscale": [
           [
            0,
            "rgb(247,251,255)"
           ],
           [
            0.125,
            "rgb(222,235,247)"
           ],
           [
            0.25,
            "rgb(198,219,239)"
           ],
           [
            0.375,
            "rgb(158,202,225)"
           ],
           [
            0.5,
            "rgb(107,174,214)"
           ],
           [
            0.625,
            "rgb(66,146,198)"
           ],
           [
            0.75,
            "rgb(33,113,181)"
           ],
           [
            0.875,
            "rgb(8,81,156)"
           ],
           [
            1,
            "rgb(8,48,107)"
           ]
          ],
          "reversescale": true,
          "showscale": true
         },
         "type": "parcoords"
        }
       ],
       "layout": {
        "template": {
         "data": {
          "bar": [
           {
            "error_x": {
             "color": "#2a3f5f"
            },
            "error_y": {
             "color": "#2a3f5f"
            },
            "marker": {
             "line": {
              "color": "#E5ECF6",
              "width": 0.5
             },
             "pattern": {
              "fillmode": "overlay",
              "size": 10,
              "solidity": 0.2
             }
            },
            "type": "bar"
           }
          ],
          "barpolar": [
           {
            "marker": {
             "line": {
              "color": "#E5ECF6",
              "width": 0.5
             },
             "pattern": {
              "fillmode": "overlay",
              "size": 10,
              "solidity": 0.2
             }
            },
            "type": "barpolar"
           }
          ],
          "carpet": [
           {
            "aaxis": {
             "endlinecolor": "#2a3f5f",
             "gridcolor": "white",
             "linecolor": "white",
             "minorgridcolor": "white",
             "startlinecolor": "#2a3f5f"
            },
            "baxis": {
             "endlinecolor": "#2a3f5f",
             "gridcolor": "white",
             "linecolor": "white",
             "minorgridcolor": "white",
             "startlinecolor": "#2a3f5f"
            },
            "type": "carpet"
           }
          ],
          "choropleth": [
           {
            "colorbar": {
             "outlinewidth": 0,
             "ticks": ""
            },
            "type": "choropleth"
           }
          ],
          "contour": [
           {
            "colorbar": {
             "outlinewidth": 0,
             "ticks": ""
            },
            "colorscale": [
             [
              0,
              "#0d0887"
             ],
             [
              0.1111111111111111,
              "#46039f"
             ],
             [
              0.2222222222222222,
              "#7201a8"
             ],
             [
              0.3333333333333333,
              "#9c179e"
             ],
             [
              0.4444444444444444,
              "#bd3786"
             ],
             [
              0.5555555555555556,
              "#d8576b"
             ],
             [
              0.6666666666666666,
              "#ed7953"
             ],
             [
              0.7777777777777778,
              "#fb9f3a"
             ],
             [
              0.8888888888888888,
              "#fdca26"
             ],
             [
              1,
              "#f0f921"
             ]
            ],
            "type": "contour"
           }
          ],
          "contourcarpet": [
           {
            "colorbar": {
             "outlinewidth": 0,
             "ticks": ""
            },
            "type": "contourcarpet"
           }
          ],
          "heatmap": [
           {
            "colorbar": {
             "outlinewidth": 0,
             "ticks": ""
            },
            "colorscale": [
             [
              0,
              "#0d0887"
             ],
             [
              0.1111111111111111,
              "#46039f"
             ],
             [
              0.2222222222222222,
              "#7201a8"
             ],
             [
              0.3333333333333333,
              "#9c179e"
             ],
             [
              0.4444444444444444,
              "#bd3786"
             ],
             [
              0.5555555555555556,
              "#d8576b"
             ],
             [
              0.6666666666666666,
              "#ed7953"
             ],
             [
              0.7777777777777778,
              "#fb9f3a"
             ],
             [
              0.8888888888888888,
              "#fdca26"
             ],
             [
              1,
              "#f0f921"
             ]
            ],
            "type": "heatmap"
           }
          ],
          "heatmapgl": [
           {
            "colorbar": {
             "outlinewidth": 0,
             "ticks": ""
            },
            "colorscale": [
             [
              0,
              "#0d0887"
             ],
             [
              0.1111111111111111,
              "#46039f"
             ],
             [
              0.2222222222222222,
              "#7201a8"
             ],
             [
              0.3333333333333333,
              "#9c179e"
             ],
             [
              0.4444444444444444,
              "#bd3786"
             ],
             [
              0.5555555555555556,
              "#d8576b"
             ],
             [
              0.6666666666666666,
              "#ed7953"
             ],
             [
              0.7777777777777778,
              "#fb9f3a"
             ],
             [
              0.8888888888888888,
              "#fdca26"
             ],
             [
              1,
              "#f0f921"
             ]
            ],
            "type": "heatmapgl"
           }
          ],
          "histogram": [
           {
            "marker": {
             "pattern": {
              "fillmode": "overlay",
              "size": 10,
              "solidity": 0.2
             }
            },
            "type": "histogram"
           }
          ],
          "histogram2d": [
           {
            "colorbar": {
             "outlinewidth": 0,
             "ticks": ""
            },
            "colorscale": [
             [
              0,
              "#0d0887"
             ],
             [
              0.1111111111111111,
              "#46039f"
             ],
             [
              0.2222222222222222,
              "#7201a8"
             ],
             [
              0.3333333333333333,
              "#9c179e"
             ],
             [
              0.4444444444444444,
              "#bd3786"
             ],
             [
              0.5555555555555556,
              "#d8576b"
             ],
             [
              0.6666666666666666,
              "#ed7953"
             ],
             [
              0.7777777777777778,
              "#fb9f3a"
             ],
             [
              0.8888888888888888,
              "#fdca26"
             ],
             [
              1,
              "#f0f921"
             ]
            ],
            "type": "histogram2d"
           }
          ],
          "histogram2dcontour": [
           {
            "colorbar": {
             "outlinewidth": 0,
             "ticks": ""
            },
            "colorscale": [
             [
              0,
              "#0d0887"
             ],
             [
              0.1111111111111111,
              "#46039f"
             ],
             [
              0.2222222222222222,
              "#7201a8"
             ],
             [
              0.3333333333333333,
              "#9c179e"
             ],
             [
              0.4444444444444444,
              "#bd3786"
             ],
             [
              0.5555555555555556,
              "#d8576b"
             ],
             [
              0.6666666666666666,
              "#ed7953"
             ],
             [
              0.7777777777777778,
              "#fb9f3a"
             ],
             [
              0.8888888888888888,
              "#fdca26"
             ],
             [
              1,
              "#f0f921"
             ]
            ],
            "type": "histogram2dcontour"
           }
          ],
          "mesh3d": [
           {
            "colorbar": {
             "outlinewidth": 0,
             "ticks": ""
            },
            "type": "mesh3d"
           }
          ],
          "parcoords": [
           {
            "line": {
             "colorbar": {
              "outlinewidth": 0,
              "ticks": ""
             }
            },
            "type": "parcoords"
           }
          ],
          "pie": [
           {
            "automargin": true,
            "type": "pie"
           }
          ],
          "scatter": [
           {
            "fillpattern": {
             "fillmode": "overlay",
             "size": 10,
             "solidity": 0.2
            },
            "type": "scatter"
           }
          ],
          "scatter3d": [
           {
            "line": {
             "colorbar": {
              "outlinewidth": 0,
              "ticks": ""
             }
            },
            "marker": {
             "colorbar": {
              "outlinewidth": 0,
              "ticks": ""
             }
            },
            "type": "scatter3d"
           }
          ],
          "scattercarpet": [
           {
            "marker": {
             "colorbar": {
              "outlinewidth": 0,
              "ticks": ""
             }
            },
            "type": "scattercarpet"
           }
          ],
          "scattergeo": [
           {
            "marker": {
             "colorbar": {
              "outlinewidth": 0,
              "ticks": ""
             }
            },
            "type": "scattergeo"
           }
          ],
          "scattergl": [
           {
            "marker": {
             "colorbar": {
              "outlinewidth": 0,
              "ticks": ""
             }
            },
            "type": "scattergl"
           }
          ],
          "scattermapbox": [
           {
            "marker": {
             "colorbar": {
              "outlinewidth": 0,
              "ticks": ""
             }
            },
            "type": "scattermapbox"
           }
          ],
          "scatterpolar": [
           {
            "marker": {
             "colorbar": {
              "outlinewidth": 0,
              "ticks": ""
             }
            },
            "type": "scatterpolar"
           }
          ],
          "scatterpolargl": [
           {
            "marker": {
             "colorbar": {
              "outlinewidth": 0,
              "ticks": ""
             }
            },
            "type": "scatterpolargl"
           }
          ],
          "scatterternary": [
           {
            "marker": {
             "colorbar": {
              "outlinewidth": 0,
              "ticks": ""
             }
            },
            "type": "scatterternary"
           }
          ],
          "surface": [
           {
            "colorbar": {
             "outlinewidth": 0,
             "ticks": ""
            },
            "colorscale": [
             [
              0,
              "#0d0887"
             ],
             [
              0.1111111111111111,
              "#46039f"
             ],
             [
              0.2222222222222222,
              "#7201a8"
             ],
             [
              0.3333333333333333,
              "#9c179e"
             ],
             [
              0.4444444444444444,
              "#bd3786"
             ],
             [
              0.5555555555555556,
              "#d8576b"
             ],
             [
              0.6666666666666666,
              "#ed7953"
             ],
             [
              0.7777777777777778,
              "#fb9f3a"
             ],
             [
              0.8888888888888888,
              "#fdca26"
             ],
             [
              1,
              "#f0f921"
             ]
            ],
            "type": "surface"
           }
          ],
          "table": [
           {
            "cells": {
             "fill": {
              "color": "#EBF0F8"
             },
             "line": {
              "color": "white"
             }
            },
            "header": {
             "fill": {
              "color": "#C8D4E3"
             },
             "line": {
              "color": "white"
             }
            },
            "type": "table"
           }
          ]
         },
         "layout": {
          "annotationdefaults": {
           "arrowcolor": "#2a3f5f",
           "arrowhead": 0,
           "arrowwidth": 1
          },
          "autotypenumbers": "strict",
          "coloraxis": {
           "colorbar": {
            "outlinewidth": 0,
            "ticks": ""
           }
          },
          "colorscale": {
           "diverging": [
            [
             0,
             "#8e0152"
            ],
            [
             0.1,
             "#c51b7d"
            ],
            [
             0.2,
             "#de77ae"
            ],
            [
             0.3,
             "#f1b6da"
            ],
            [
             0.4,
             "#fde0ef"
            ],
            [
             0.5,
             "#f7f7f7"
            ],
            [
             0.6,
             "#e6f5d0"
            ],
            [
             0.7,
             "#b8e186"
            ],
            [
             0.8,
             "#7fbc41"
            ],
            [
             0.9,
             "#4d9221"
            ],
            [
             1,
             "#276419"
            ]
           ],
           "sequential": [
            [
             0,
             "#0d0887"
            ],
            [
             0.1111111111111111,
             "#46039f"
            ],
            [
             0.2222222222222222,
             "#7201a8"
            ],
            [
             0.3333333333333333,
             "#9c179e"
            ],
            [
             0.4444444444444444,
             "#bd3786"
            ],
            [
             0.5555555555555556,
             "#d8576b"
            ],
            [
             0.6666666666666666,
             "#ed7953"
            ],
            [
             0.7777777777777778,
             "#fb9f3a"
            ],
            [
             0.8888888888888888,
             "#fdca26"
            ],
            [
             1,
             "#f0f921"
            ]
           ],
           "sequentialminus": [
            [
             0,
             "#0d0887"
            ],
            [
             0.1111111111111111,
             "#46039f"
            ],
            [
             0.2222222222222222,
             "#7201a8"
            ],
            [
             0.3333333333333333,
             "#9c179e"
            ],
            [
             0.4444444444444444,
             "#bd3786"
            ],
            [
             0.5555555555555556,
             "#d8576b"
            ],
            [
             0.6666666666666666,
             "#ed7953"
            ],
            [
             0.7777777777777778,
             "#fb9f3a"
            ],
            [
             0.8888888888888888,
             "#fdca26"
            ],
            [
             1,
             "#f0f921"
            ]
           ]
          },
          "colorway": [
           "#636efa",
           "#EF553B",
           "#00cc96",
           "#ab63fa",
           "#FFA15A",
           "#19d3f3",
           "#FF6692",
           "#B6E880",
           "#FF97FF",
           "#FECB52"
          ],
          "font": {
           "color": "#2a3f5f"
          },
          "geo": {
           "bgcolor": "white",
           "lakecolor": "white",
           "landcolor": "#E5ECF6",
           "showlakes": true,
           "showland": true,
           "subunitcolor": "white"
          },
          "hoverlabel": {
           "align": "left"
          },
          "hovermode": "closest",
          "mapbox": {
           "style": "light"
          },
          "paper_bgcolor": "white",
          "plot_bgcolor": "#E5ECF6",
          "polar": {
           "angularaxis": {
            "gridcolor": "white",
            "linecolor": "white",
            "ticks": ""
           },
           "bgcolor": "#E5ECF6",
           "radialaxis": {
            "gridcolor": "white",
            "linecolor": "white",
            "ticks": ""
           }
          },
          "scene": {
           "xaxis": {
            "backgroundcolor": "#E5ECF6",
            "gridcolor": "white",
            "gridwidth": 2,
            "linecolor": "white",
            "showbackground": true,
            "ticks": "",
            "zerolinecolor": "white"
           },
           "yaxis": {
            "backgroundcolor": "#E5ECF6",
            "gridcolor": "white",
            "gridwidth": 2,
            "linecolor": "white",
            "showbackground": true,
            "ticks": "",
            "zerolinecolor": "white"
           },
           "zaxis": {
            "backgroundcolor": "#E5ECF6",
            "gridcolor": "white",
            "gridwidth": 2,
            "linecolor": "white",
            "showbackground": true,
            "ticks": "",
            "zerolinecolor": "white"
           }
          },
          "shapedefaults": {
           "line": {
            "color": "#2a3f5f"
           }
          },
          "ternary": {
           "aaxis": {
            "gridcolor": "white",
            "linecolor": "white",
            "ticks": ""
           },
           "baxis": {
            "gridcolor": "white",
            "linecolor": "white",
            "ticks": ""
           },
           "bgcolor": "#E5ECF6",
           "caxis": {
            "gridcolor": "white",
            "linecolor": "white",
            "ticks": ""
           }
          },
          "title": {
           "x": 0.05
          },
          "xaxis": {
           "automargin": true,
           "gridcolor": "white",
           "linecolor": "white",
           "ticks": "",
           "title": {
            "standoff": 15
           },
           "zerolinecolor": "white",
           "zerolinewidth": 2
          },
          "yaxis": {
           "automargin": true,
           "gridcolor": "white",
           "linecolor": "white",
           "ticks": "",
           "title": {
            "standoff": 15
           },
           "zerolinecolor": "white",
           "zerolinewidth": 2
          }
         }
        },
        "title": {
         "text": "Parallel Coordinate Plot"
        }
       }
      }
     },
     "metadata": {},
     "output_type": "display_data"
    }
   ],
   "source": [
    "\n",
    "\n",
    "# Add stream handler of stdout to show the messages\n",
    "optuna.logging.get_logger(\"optuna\").addHandler(logging.StreamHandler(sys.stdout))\n",
    "study_name = \"printer_param_find\"  # Unique identifier of the study.\n",
    "storage_name = \"sqlite:///{}.db\".format(study_name)\n",
    "sampler = optuna.samplers.TPESampler(seed=1)\n",
    "\n",
    "study = optuna.create_study(study_name=study_name, storage=storage_name, sampler=sampler)\n",
    "# study = optuna.create_study(study_name=study_name, sampler=sampler)\n",
    "\n",
    "def objective(trial):\n",
    "    # слои и периметры\n",
    "    layers_01_first_layer = trial.suggest_float(\"first_layer_height\", 0.1, 0.5)\n",
    "    layers_01_perimeters = trial.suggest_int(\"perimeters\", 1, 4)\n",
    "    layers_01_top_solid_layers = trial.suggest_int(\"top_solid_layers\", 1, 5)\n",
    "    layers_01_bottom_solid_layers = trial.suggest_int(\"bottom_solid_layers\", 1, 5)\n",
    "    layers_01_fuzzu_skin = trial.suggest_categorical(\"fuzzu_skin\",[\"off\", \"External perimeters\"])\n",
    "    layers_01_fuzzu_skin = trial.suggest_float(\"fuzzu_skin_thickness\", 0.01, 0.6, log=True)\n",
    "    # заполнение\n",
    "    layers_02_fill_pattern = trial.suggest_categorical(\"fill_pattern\",[\"Adaptive cubic\", \"Gyroid\"])\n",
    "    layers_02_ironing = trial.suggest_categorical(\"ironing\",[\"True\", \"False\"])\n",
    "    # юбка и кайма\n",
    "    layers_03_brim_width = trial.suggest_int(\"brim_width\", 0, 6)\n",
    "    # extrusion\n",
    "    extrusion_default = trial.suggest_float(\"extrusion_default\", 0.35, 0.55)\n",
    "    firts_layer_extrusion_width = trial.suggest_float(\"firts_layer_extrusion_width\", 0.6, 2)\n",
    "    perimeter_extrusion_width = trial.suggest_float(\"perimeter_extrusion_width\", 0.35, 0.55)\n",
    "    external_perimeter_extrusion_width = trial.suggest_float(\"external_perimeter_extrusion_width\", 0.35, 0.55)\n",
    "    infill_extrusion_width = trial.suggest_float(\"infill_extrusion_width\", 0.35, 0.55)\n",
    "    solid_infill_extrusion_width = trial.suggest_float(\"solid_infill_extrusion_width\", 0.4, 0.65)\n",
    "    top_infill_extrusion_width = trial.suggest_float(\"top_infill_extrusion_width\", 0.4, 0.65)\n",
    "    bridge_flow_ratio = trial.suggest_float(\"bridge_flow_ratio\", 0.9, 1.1)\n",
    "    elephant_foot_compensation = trial.suggest_float(\"elephant_foot_compensation\", 0.0, 0.5)\n",
    "    # filament\n",
    "    flow_multiplier = trial.suggest_float(\"flow_multiplier\", 0.9, 1.1)\n",
    "    temperature = trial.suggest_float(\"temperature\", 200, 220)\n",
    "\n",
    "\n",
    "    return (score_dict[trial.number] -18)**2\n",
    "\n",
    "\n",
    "study.optimize(objective, n_trials=3)\n",
    "\n",
    "fig = optuna.visualization.plot_parallel_coordinate(study, params=[\"first_layer_height\", \"perimeters\", \"fill_pattern\"])\n",
    "fig.show()"
   ]
  },
  {
   "cell_type": "code",
   "execution_count": 29,
   "metadata": {},
   "outputs": [
    {
     "data": {
      "text/plain": [
       "{'first_layer_height': 0.4634382012372382,\n",
       " 'perimeters': 2,\n",
       " 'top_solid_layers': 2,\n",
       " 'bottom_solid_layers': 1,\n",
       " 'fuzzu_skin': 'External perimeters',\n",
       " 'fuzzu_skin_thickness': 0.023785199534818165,\n",
       " 'fill_pattern': 'Gyroid',\n",
       " 'ironing': 'False',\n",
       " 'brim_width': 1,\n",
       " 'extrusion_default': 0.4678611073806569,\n",
       " 'firts_layer_extrusion_width': 1.5796617040293035,\n",
       " 'perimeter_extrusion_width': 0.37046688576556513,\n",
       " 'external_perimeter_extrusion_width': 0.4328111975639137,\n",
       " 'infill_extrusion_width': 0.48888003154554904,\n",
       " 'solid_infill_extrusion_width': 0.5035448173817256,\n",
       " 'top_infill_extrusion_width': 0.41248836473652184,\n",
       " 'bridge_flow_ratio': 1.0071792811831024,\n",
       " 'elephant_foot_compensation': 0.3318973226098944,\n",
       " 'flow_multiplier': 1.0029778224116617,\n",
       " 'temperature': 218.89189511981627}"
      ]
     },
     "execution_count": 29,
     "metadata": {},
     "output_type": "execute_result"
    }
   ],
   "source": [
    "{'first_layer_height': 0.4634382012372382, 'perimeters': 2, 'top_solid_layers': 2, 'bottom_solid_layers': 1, 'fuzzu_skin': 'External perimeters', 'fuzzu_skin_thickness': 0.023785199534818165, 'fill_pattern': 'Gyroid', 'ironing': 'False', 'brim_width': 1, 'extrusion_default': 0.4678611073806569, 'firts_layer_extrusion_width': 1.5796617040293035, 'perimeter_extrusion_width': 0.37046688576556513, 'external_perimeter_extrusion_width': 0.4328111975639137, 'infill_extrusion_width': 0.48888003154554904, 'solid_infill_extrusion_width': 0.5035448173817256, 'top_infill_extrusion_width': 0.41248836473652184, 'bridge_flow_ratio': 1.0071792811831024, 'elephant_foot_compensation': 0.3318973226098944, 'flow_multiplier': 1.0029778224116617, 'temperature': 218.89189511981627}"
   ]
  },
  {
   "cell_type": "code",
   "execution_count": 10,
   "metadata": {},
   "outputs": [],
   "source": [
    "# import pickle\n",
    "\n",
    "# # Save the sampler with pickle to be loaded later.\n",
    "# with open(\"sampler.pkl\", \"wb\") as fout:\n",
    "#     pickle.dump(study.sampler, fout)\n",
    "\n",
    "# restored_sampler = pickle.load(open(\"sampler.pkl\", \"rb\"))\n",
    "# study = optuna.create_study(\n",
    "#     study_name=study_name, storage=storage_name, load_if_exists=True, sampler=restored_sampler\n",
    "# )\n",
    "# study.optimize(objective, n_trials=1)"
   ]
  },
  {
   "cell_type": "code",
   "execution_count": null,
   "metadata": {},
   "outputs": [],
   "source": []
  }
 ],
 "metadata": {
  "kernelspec": {
   "display_name": "venv",
   "language": "python",
   "name": "python3"
  },
  "language_info": {
   "codemirror_mode": {
    "name": "ipython",
    "version": 3
   },
   "file_extension": ".py",
   "mimetype": "text/x-python",
   "name": "python",
   "nbconvert_exporter": "python",
   "pygments_lexer": "ipython3",
   "version": "3.10.9"
  },
  "orig_nbformat": 4,
  "vscode": {
   "interpreter": {
    "hash": "395d6f3901f588d6c89f50ec64cca6e13b2db2b7a216577c077781a61232b7ea"
   }
  }
 },
 "nbformat": 4,
 "nbformat_minor": 2
}
