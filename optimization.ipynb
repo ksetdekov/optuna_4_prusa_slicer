{
 "cells": [
  {
   "cell_type": "code",
   "execution_count": 1,
   "metadata": {},
   "outputs": [],
   "source": [
    "# !pip3 install plotly"
   ]
  },
  {
   "attachments": {},
   "cell_type": "markdown",
   "metadata": {},
   "source": [
    "# "
   ]
  },
  {
   "cell_type": "code",
   "execution_count": 2,
   "metadata": {},
   "outputs": [],
   "source": [
    "import numpy as np\n",
    "import logging\n",
    "import sys\n",
    "import pandas as pd\n",
    "import optuna\n",
    "pd.set_option('display.max_columns', 500) "
   ]
  },
  {
   "cell_type": "code",
   "execution_count": 3,
   "metadata": {},
   "outputs": [
    {
     "data": {
      "text/html": [
       "<div>\n",
       "<style scoped>\n",
       "    .dataframe tbody tr th:only-of-type {\n",
       "        vertical-align: middle;\n",
       "    }\n",
       "\n",
       "    .dataframe tbody tr th {\n",
       "        vertical-align: top;\n",
       "    }\n",
       "\n",
       "    .dataframe thead th {\n",
       "        text-align: right;\n",
       "    }\n",
       "</style>\n",
       "<table border=\"1\" class=\"dataframe\">\n",
       "  <thead>\n",
       "    <tr style=\"text-align: right;\">\n",
       "      <th></th>\n",
       "      <th>datetime</th>\n",
       "      <th>OH</th>\n",
       "      <th>GACI</th>\n",
       "      <th>STR</th>\n",
       "      <th>DEL</th>\n",
       "      <th>NOWH</th>\n",
       "      <th>NOSUPbridge</th>\n",
       "      <th>NOSUPshell</th>\n",
       "      <th>BL</th>\n",
       "      <th>RIN</th>\n",
       "    </tr>\n",
       "  </thead>\n",
       "  <tbody>\n",
       "    <tr>\n",
       "      <th>0</th>\n",
       "      <td>2023-01-06 23:50:00+03:00</td>\n",
       "      <td>2</td>\n",
       "      <td>0</td>\n",
       "      <td>0</td>\n",
       "      <td>2</td>\n",
       "      <td>1</td>\n",
       "      <td>1</td>\n",
       "      <td>2</td>\n",
       "      <td>1</td>\n",
       "      <td>1</td>\n",
       "    </tr>\n",
       "  </tbody>\n",
       "</table>\n",
       "</div>"
      ],
      "text/plain": [
       "                   datetime  OH  GACI  STR  DEL  NOWH  NOSUPbridge  \\\n",
       "0 2023-01-06 23:50:00+03:00   2     0    0    2     1            1   \n",
       "\n",
       "   NOSUPshell  BL  RIN  \n",
       "0           2   1    1  "
      ]
     },
     "execution_count": 3,
     "metadata": {},
     "output_type": "execute_result"
    }
   ],
   "source": [
    "results = pd.DataFrame({\n",
    "    'datetime': [pd.Timestamp('2023-01-06 23:50', tz='Europe/Moscow')],\n",
    "    'OH': [2],\n",
    "    'GACI': [0],\n",
    "    'STR': [0],\n",
    "    'DEL': [2],\n",
    "    'NOWH': [1],\n",
    "    'NOSUPbridge': [1],\n",
    "    'NOSUPshell': [2],\n",
    "    'BL': [1],\n",
    "    'RIN': [1]\n",
    "})\n",
    "results\n"
   ]
  },
  {
   "cell_type": "code",
   "execution_count": 4,
   "metadata": {},
   "outputs": [],
   "source": [
    "results['AQI'] = results[['OH', 'GACI', 'STR', 'DEL', 'NOWH', 'NOSUPbridge',\n",
    "       'NOSUPshell', 'BL', 'RIN']].sum(axis=1)"
   ]
  },
  {
   "cell_type": "code",
   "execution_count": 5,
   "metadata": {},
   "outputs": [],
   "source": [
    "df2 = pd.DataFrame({'first_layer_height': 0.2668088018810296, 'perimeters': 3, 'top_solid_layers': 1, 'bottom_solid_layers': 2, 'fuzzu_skin': 'off', 'fuzzu_skin_thickness': 0.021438718792543308, 'fill_pattern': 'Gyroid', 'ironing': 'True', 'brim_width': 4, 'extrusion_default': 0.3908904499463035, 'firts_layer_extrusion_width': 1.8293644109473233, 'perimeter_extrusion_width': 0.3554775186395852, 'external_perimeter_extrusion_width': 0.48409350203568047, 'infill_extrusion_width': 0.4334609604734254, 'solid_infill_extrusion_width': 0.539672457111438, 'top_infill_extrusion_width': 0.4350967346488085, 'bridge_flow_ratio': 0.9396202978169758, 'elephant_foot_compensation': 0.40037228433776834, 'flow_multiplier': 1.0936523151438795, 'temperature': 206.26848356318484}, index=[0])\n",
    "results = results.join(df2)"
   ]
  },
  {
   "cell_type": "code",
   "execution_count": 6,
   "metadata": {},
   "outputs": [
    {
     "data": {
      "text/html": [
       "<div>\n",
       "<style scoped>\n",
       "    .dataframe tbody tr th:only-of-type {\n",
       "        vertical-align: middle;\n",
       "    }\n",
       "\n",
       "    .dataframe tbody tr th {\n",
       "        vertical-align: top;\n",
       "    }\n",
       "\n",
       "    .dataframe thead th {\n",
       "        text-align: right;\n",
       "    }\n",
       "</style>\n",
       "<table border=\"1\" class=\"dataframe\">\n",
       "  <thead>\n",
       "    <tr style=\"text-align: right;\">\n",
       "      <th></th>\n",
       "      <th>datetime</th>\n",
       "      <th>OH</th>\n",
       "      <th>GACI</th>\n",
       "      <th>STR</th>\n",
       "      <th>DEL</th>\n",
       "      <th>NOWH</th>\n",
       "      <th>NOSUPbridge</th>\n",
       "      <th>NOSUPshell</th>\n",
       "      <th>BL</th>\n",
       "      <th>RIN</th>\n",
       "      <th>AQI</th>\n",
       "      <th>first_layer_height</th>\n",
       "      <th>perimeters</th>\n",
       "      <th>top_solid_layers</th>\n",
       "      <th>bottom_solid_layers</th>\n",
       "      <th>fuzzu_skin</th>\n",
       "      <th>fuzzu_skin_thickness</th>\n",
       "      <th>fill_pattern</th>\n",
       "      <th>ironing</th>\n",
       "      <th>brim_width</th>\n",
       "      <th>extrusion_default</th>\n",
       "      <th>firts_layer_extrusion_width</th>\n",
       "      <th>perimeter_extrusion_width</th>\n",
       "      <th>external_perimeter_extrusion_width</th>\n",
       "      <th>infill_extrusion_width</th>\n",
       "      <th>solid_infill_extrusion_width</th>\n",
       "      <th>top_infill_extrusion_width</th>\n",
       "      <th>bridge_flow_ratio</th>\n",
       "      <th>elephant_foot_compensation</th>\n",
       "      <th>flow_multiplier</th>\n",
       "      <th>temperature</th>\n",
       "    </tr>\n",
       "  </thead>\n",
       "  <tbody>\n",
       "    <tr>\n",
       "      <th>0</th>\n",
       "      <td>2023-01-06 23:50:00+03:00</td>\n",
       "      <td>2</td>\n",
       "      <td>0</td>\n",
       "      <td>0</td>\n",
       "      <td>2</td>\n",
       "      <td>1</td>\n",
       "      <td>1</td>\n",
       "      <td>2</td>\n",
       "      <td>1</td>\n",
       "      <td>1</td>\n",
       "      <td>10</td>\n",
       "      <td>0.266809</td>\n",
       "      <td>3</td>\n",
       "      <td>1</td>\n",
       "      <td>2</td>\n",
       "      <td>off</td>\n",
       "      <td>0.021439</td>\n",
       "      <td>Gyroid</td>\n",
       "      <td>True</td>\n",
       "      <td>4</td>\n",
       "      <td>0.39089</td>\n",
       "      <td>1.829364</td>\n",
       "      <td>0.355478</td>\n",
       "      <td>0.484094</td>\n",
       "      <td>0.433461</td>\n",
       "      <td>0.539672</td>\n",
       "      <td>0.435097</td>\n",
       "      <td>0.93962</td>\n",
       "      <td>0.400372</td>\n",
       "      <td>1.093652</td>\n",
       "      <td>206.268484</td>\n",
       "    </tr>\n",
       "  </tbody>\n",
       "</table>\n",
       "</div>"
      ],
      "text/plain": [
       "                   datetime  OH  GACI  STR  DEL  NOWH  NOSUPbridge  \\\n",
       "0 2023-01-06 23:50:00+03:00   2     0    0    2     1            1   \n",
       "\n",
       "   NOSUPshell  BL  RIN  AQI  first_layer_height  perimeters  top_solid_layers  \\\n",
       "0           2   1    1   10            0.266809           3                 1   \n",
       "\n",
       "   bottom_solid_layers fuzzu_skin  fuzzu_skin_thickness fill_pattern ironing  \\\n",
       "0                    2        off              0.021439       Gyroid    True   \n",
       "\n",
       "   brim_width  extrusion_default  firts_layer_extrusion_width  \\\n",
       "0           4            0.39089                     1.829364   \n",
       "\n",
       "   perimeter_extrusion_width  external_perimeter_extrusion_width  \\\n",
       "0                   0.355478                            0.484094   \n",
       "\n",
       "   infill_extrusion_width  solid_infill_extrusion_width  \\\n",
       "0                0.433461                      0.539672   \n",
       "\n",
       "   top_infill_extrusion_width  bridge_flow_ratio  elephant_foot_compensation  \\\n",
       "0                    0.435097            0.93962                    0.400372   \n",
       "\n",
       "   flow_multiplier  temperature  \n",
       "0         1.093652   206.268484  "
      ]
     },
     "execution_count": 6,
     "metadata": {},
     "output_type": "execute_result"
    }
   ],
   "source": [
    "results"
   ]
  },
  {
   "cell_type": "code",
   "execution_count": 7,
   "metadata": {},
   "outputs": [
    {
     "data": {
      "text/html": [
       "<div>\n",
       "<style scoped>\n",
       "    .dataframe tbody tr th:only-of-type {\n",
       "        vertical-align: middle;\n",
       "    }\n",
       "\n",
       "    .dataframe tbody tr th {\n",
       "        vertical-align: top;\n",
       "    }\n",
       "\n",
       "    .dataframe thead th {\n",
       "        text-align: right;\n",
       "    }\n",
       "</style>\n",
       "<table border=\"1\" class=\"dataframe\">\n",
       "  <thead>\n",
       "    <tr style=\"text-align: right;\">\n",
       "      <th></th>\n",
       "      <th>datetime</th>\n",
       "      <th>OH</th>\n",
       "      <th>GACI</th>\n",
       "      <th>STR</th>\n",
       "      <th>DEL</th>\n",
       "      <th>NOWH</th>\n",
       "      <th>NOSUPbridge</th>\n",
       "      <th>NOSUPshell</th>\n",
       "      <th>BL</th>\n",
       "      <th>RIN</th>\n",
       "      <th>AQI</th>\n",
       "      <th>first_layer_height</th>\n",
       "      <th>perimeters</th>\n",
       "      <th>top_solid_layers</th>\n",
       "      <th>bottom_solid_layers</th>\n",
       "      <th>fuzzu_skin</th>\n",
       "      <th>fuzzu_skin_thickness</th>\n",
       "      <th>fill_pattern</th>\n",
       "      <th>ironing</th>\n",
       "      <th>brim_width</th>\n",
       "      <th>extrusion_default</th>\n",
       "      <th>firts_layer_extrusion_width</th>\n",
       "      <th>perimeter_extrusion_width</th>\n",
       "      <th>external_perimeter_extrusion_width</th>\n",
       "      <th>infill_extrusion_width</th>\n",
       "      <th>solid_infill_extrusion_width</th>\n",
       "      <th>top_infill_extrusion_width</th>\n",
       "      <th>bridge_flow_ratio</th>\n",
       "      <th>elephant_foot_compensation</th>\n",
       "      <th>flow_multiplier</th>\n",
       "      <th>temperature</th>\n",
       "    </tr>\n",
       "  </thead>\n",
       "  <tbody>\n",
       "    <tr>\n",
       "      <th>0</th>\n",
       "      <td>2023-01-07 08:40:00+03:00</td>\n",
       "      <td>1</td>\n",
       "      <td>1</td>\n",
       "      <td>2</td>\n",
       "      <td>2</td>\n",
       "      <td>0</td>\n",
       "      <td>1</td>\n",
       "      <td>1</td>\n",
       "      <td>0</td>\n",
       "      <td>0</td>\n",
       "      <td>8</td>\n",
       "      <td>0.376929</td>\n",
       "      <td>4</td>\n",
       "      <td>5</td>\n",
       "      <td>1</td>\n",
       "      <td>External perimeters</td>\n",
       "      <td>0.364309</td>\n",
       "      <td>Gyroid</td>\n",
       "      <td>True</td>\n",
       "      <td>4</td>\n",
       "      <td>0.413103</td>\n",
       "      <td>1.561101</td>\n",
       "      <td>0.516925</td>\n",
       "      <td>0.353658</td>\n",
       "      <td>0.500029</td>\n",
       "      <td>0.647215</td>\n",
       "      <td>0.587041</td>\n",
       "      <td>0.956089</td>\n",
       "      <td>0.39464</td>\n",
       "      <td>0.920645</td>\n",
       "      <td>208.957871</td>\n",
       "    </tr>\n",
       "  </tbody>\n",
       "</table>\n",
       "</div>"
      ],
      "text/plain": [
       "                   datetime  OH  GACI  STR  DEL  NOWH  NOSUPbridge  \\\n",
       "0 2023-01-07 08:40:00+03:00   1     1    2    2     0            1   \n",
       "\n",
       "   NOSUPshell  BL  RIN  AQI  first_layer_height  perimeters  top_solid_layers  \\\n",
       "0           1   0    0    8            0.376929           4                 5   \n",
       "\n",
       "   bottom_solid_layers           fuzzu_skin  fuzzu_skin_thickness  \\\n",
       "0                    1  External perimeters              0.364309   \n",
       "\n",
       "  fill_pattern ironing  brim_width  extrusion_default  \\\n",
       "0       Gyroid    True           4           0.413103   \n",
       "\n",
       "   firts_layer_extrusion_width  perimeter_extrusion_width  \\\n",
       "0                     1.561101                   0.516925   \n",
       "\n",
       "   external_perimeter_extrusion_width  infill_extrusion_width  \\\n",
       "0                            0.353658                0.500029   \n",
       "\n",
       "   solid_infill_extrusion_width  top_infill_extrusion_width  \\\n",
       "0                      0.647215                    0.587041   \n",
       "\n",
       "   bridge_flow_ratio  elephant_foot_compensation  flow_multiplier  temperature  \n",
       "0           0.956089                     0.39464         0.920645   208.957871  "
      ]
     },
     "execution_count": 7,
     "metadata": {},
     "output_type": "execute_result"
    }
   ],
   "source": [
    "added = pd.DataFrame({'datetime':pd.Timestamp('2023-01-07 08:40', tz='Europe/Moscow'), 'OH':1, 'GACI':1, 'STR':2, 'DEL':2, 'NOWH':0, 'NOSUPbridge':1,\n",
    "       'NOSUPshell':1, 'BL':0, 'RIN':0}, index=[0])\n",
    "added['AQI'] = added[['OH', 'GACI', 'STR', 'DEL', 'NOWH', 'NOSUPbridge',\n",
    "       'NOSUPshell', 'BL', 'RIN']].sum(axis=1)\n",
    "df2added = pd.DataFrame({'first_layer_height': 0.3769290462677256, 'perimeters': 4, 'top_solid_layers': 5, 'bottom_solid_layers': 1, 'fuzzu_skin': 'External perimeters', 'fuzzu_skin_thickness': 0.3643092434107631, 'fill_pattern': 'Gyroid', 'ironing': 'True', 'brim_width': 4, 'extrusion_default': 0.4131031262012126, 'firts_layer_extrusion_width': 1.561101298754217, 'perimeter_extrusion_width': 0.5169251343794746, 'external_perimeter_extrusion_width': 0.3536576554688383, 'infill_extrusion_width': 0.5000288629889935, 'solid_infill_extrusion_width': 0.6472152722266237, 'top_infill_extrusion_width': 0.5870414135949599, 'bridge_flow_ratio': 0.9560887984128811, 'elephant_foot_compensation': 0.39463966422574426, 'flow_multiplier': 0.9206452013155284, 'temperature': 208.9578705235181}, index=[0])\n",
    "added = added.join(df2added)\n",
    "added"
   ]
  },
  {
   "cell_type": "code",
   "execution_count": 8,
   "metadata": {},
   "outputs": [
    {
     "data": {
      "text/html": [
       "<div>\n",
       "<style scoped>\n",
       "    .dataframe tbody tr th:only-of-type {\n",
       "        vertical-align: middle;\n",
       "    }\n",
       "\n",
       "    .dataframe tbody tr th {\n",
       "        vertical-align: top;\n",
       "    }\n",
       "\n",
       "    .dataframe thead th {\n",
       "        text-align: right;\n",
       "    }\n",
       "</style>\n",
       "<table border=\"1\" class=\"dataframe\">\n",
       "  <thead>\n",
       "    <tr style=\"text-align: right;\">\n",
       "      <th></th>\n",
       "      <th>datetime</th>\n",
       "      <th>OH</th>\n",
       "      <th>GACI</th>\n",
       "      <th>STR</th>\n",
       "      <th>DEL</th>\n",
       "      <th>NOWH</th>\n",
       "      <th>NOSUPbridge</th>\n",
       "      <th>NOSUPshell</th>\n",
       "      <th>BL</th>\n",
       "      <th>RIN</th>\n",
       "      <th>AQI</th>\n",
       "      <th>first_layer_height</th>\n",
       "      <th>perimeters</th>\n",
       "      <th>top_solid_layers</th>\n",
       "      <th>bottom_solid_layers</th>\n",
       "      <th>fuzzu_skin</th>\n",
       "      <th>fuzzu_skin_thickness</th>\n",
       "      <th>fill_pattern</th>\n",
       "      <th>ironing</th>\n",
       "      <th>brim_width</th>\n",
       "      <th>extrusion_default</th>\n",
       "      <th>firts_layer_extrusion_width</th>\n",
       "      <th>perimeter_extrusion_width</th>\n",
       "      <th>external_perimeter_extrusion_width</th>\n",
       "      <th>infill_extrusion_width</th>\n",
       "      <th>solid_infill_extrusion_width</th>\n",
       "      <th>top_infill_extrusion_width</th>\n",
       "      <th>bridge_flow_ratio</th>\n",
       "      <th>elephant_foot_compensation</th>\n",
       "      <th>flow_multiplier</th>\n",
       "      <th>temperature</th>\n",
       "    </tr>\n",
       "  </thead>\n",
       "  <tbody>\n",
       "    <tr>\n",
       "      <th>0</th>\n",
       "      <td>2023-01-09 23:00:00+03:00</td>\n",
       "      <td>1</td>\n",
       "      <td>0</td>\n",
       "      <td>0</td>\n",
       "      <td>0</td>\n",
       "      <td>1</td>\n",
       "      <td>1</td>\n",
       "      <td>1</td>\n",
       "      <td>0</td>\n",
       "      <td>1</td>\n",
       "      <td>5</td>\n",
       "      <td>0.334622</td>\n",
       "      <td>4</td>\n",
       "      <td>1</td>\n",
       "      <td>1</td>\n",
       "      <td>off</td>\n",
       "      <td>0.01968</td>\n",
       "      <td>Adaptive cubic</td>\n",
       "      <td>True</td>\n",
       "      <td>6</td>\n",
       "      <td>0.474734</td>\n",
       "      <td>1.651319</td>\n",
       "      <td>0.41978</td>\n",
       "      <td>0.403986</td>\n",
       "      <td>0.529177</td>\n",
       "      <td>0.507023</td>\n",
       "      <td>0.64121</td>\n",
       "      <td>1.032688</td>\n",
       "      <td>0.310848</td>\n",
       "      <td>0.922949</td>\n",
       "      <td>218.989785</td>\n",
       "    </tr>\n",
       "  </tbody>\n",
       "</table>\n",
       "</div>"
      ],
      "text/plain": [
       "                   datetime  OH  GACI  STR  DEL  NOWH  NOSUPbridge  \\\n",
       "0 2023-01-09 23:00:00+03:00   1     0    0    0     1            1   \n",
       "\n",
       "   NOSUPshell  BL  RIN  AQI  first_layer_height  perimeters  top_solid_layers  \\\n",
       "0           1   0    1    5            0.334622           4                 1   \n",
       "\n",
       "   bottom_solid_layers fuzzu_skin  fuzzu_skin_thickness    fill_pattern  \\\n",
       "0                    1        off               0.01968  Adaptive cubic   \n",
       "\n",
       "  ironing  brim_width  extrusion_default  firts_layer_extrusion_width  \\\n",
       "0    True           6           0.474734                     1.651319   \n",
       "\n",
       "   perimeter_extrusion_width  external_perimeter_extrusion_width  \\\n",
       "0                    0.41978                            0.403986   \n",
       "\n",
       "   infill_extrusion_width  solid_infill_extrusion_width  \\\n",
       "0                0.529177                      0.507023   \n",
       "\n",
       "   top_infill_extrusion_width  bridge_flow_ratio  elephant_foot_compensation  \\\n",
       "0                     0.64121           1.032688                    0.310848   \n",
       "\n",
       "   flow_multiplier  temperature  \n",
       "0         0.922949   218.989785  "
      ]
     },
     "execution_count": 8,
     "metadata": {},
     "output_type": "execute_result"
    }
   ],
   "source": [
    "added2 = pd.DataFrame({'datetime': pd.Timestamp('2023-01-08 23:00', tz='Europe/Moscow'),\n",
    "                       'OH': 1, 'GACI': 1, 'STR': 1, 'DEL': 2, 'NOWH': 0, 'NOSUPbridge': 1,\n",
    "                       'NOSUPshell': 2, 'BL': 0, 'RIN': 0}, index=[0])\n",
    "added2['AQI'] = added2[['OH', 'GACI', 'STR', 'DEL', 'NOWH', 'NOSUPbridge',\n",
    "                       'NOSUPshell', 'BL', 'RIN']].sum(axis=1)\n",
    "df_settings = pd.DataFrame({'first_layer_height': 0.4634382012372382,\n",
    "                            'perimeters': 2,\n",
    "                            'top_solid_layers': 2,\n",
    "                            'bottom_solid_layers': 1,\n",
    "                            'fuzzu_skin': 'External perimeters',\n",
    "                            'fuzzu_skin_thickness': 0.023785199534818165,\n",
    "                            'fill_pattern': 'Gyroid',\n",
    "                            'ironing': 'False',\n",
    "                            'brim_width': 1,\n",
    "                            'extrusion_default': 0.4678611073806569,\n",
    "                            'firts_layer_extrusion_width': 1.5796617040293035,\n",
    "                            'perimeter_extrusion_width': 0.37046688576556513,\n",
    "                            'external_perimeter_extrusion_width': 0.4328111975639137,\n",
    "                            'infill_extrusion_width': 0.48888003154554904,\n",
    "                            'solid_infill_extrusion_width': 0.5035448173817256,\n",
    "                            'top_infill_extrusion_width': 0.41248836473652184,\n",
    "                            'bridge_flow_ratio': 1.0071792811831024,\n",
    "                            'elephant_foot_compensation': 0.3318973226098944,\n",
    "                            'flow_multiplier': 1.0029778224116617,\n",
    "                            'temperature': 218.89189511981627}, index=[0])\n",
    "added2 = added2.join(df_settings)\n",
    "added2\n",
    "\n",
    "added3 = pd.DataFrame({'datetime': pd.Timestamp('2023-01-09 23:00', tz='Europe/Moscow'),\n",
    "                       'OH': 1, 'GACI': 0, 'STR': 0, 'DEL': 0, 'NOWH': 1, 'NOSUPbridge': 1,\n",
    "                       'NOSUPshell': 1, 'BL': 0, 'RIN': 1}, index=[0])\n",
    "added3['AQI'] = added3[['OH', 'GACI', 'STR', 'DEL', 'NOWH', 'NOSUPbridge',\n",
    "                       'NOSUPshell', 'BL', 'RIN']].sum(axis=1)\n",
    "df_settings = pd.DataFrame({'first_layer_height': 0.3346220162007972, 'perimeters': 4, 'top_solid_layers': 1, 'bottom_solid_layers': 1, 'fuzzu_skin': 'off', 'fuzzu_skin_thickness': 0.019679985420594074, 'fill_pattern': 'Adaptive cubic', 'ironing': 'True', 'brim_width': 6, 'extrusion_default': 0.4747344414111218, 'firts_layer_extrusion_width': 1.651319407638272, 'perimeter_extrusion_width': 0.4197796683955685, 'external_perimeter_extrusion_width': 0.4039855783530052, 'infill_extrusion_width': 0.5291772436392134, 'solid_infill_extrusion_width': 0.5070227974678237, 'top_infill_extrusion_width': 0.6412100117870965, 'bridge_flow_ratio': 1.0326882995636897, 'elephant_foot_compensation': 0.3108478601045609, 'flow_multiplier': 0.922949194590675, 'temperature': 218.98978517414142}, index=[0])\n",
    "added3 = added3.join(df_settings)\n",
    "added3\n"
   ]
  },
  {
   "cell_type": "code",
   "execution_count": 9,
   "metadata": {},
   "outputs": [
    {
     "data": {
      "text/html": [
       "<div>\n",
       "<style scoped>\n",
       "    .dataframe tbody tr th:only-of-type {\n",
       "        vertical-align: middle;\n",
       "    }\n",
       "\n",
       "    .dataframe tbody tr th {\n",
       "        vertical-align: top;\n",
       "    }\n",
       "\n",
       "    .dataframe thead th {\n",
       "        text-align: right;\n",
       "    }\n",
       "</style>\n",
       "<table border=\"1\" class=\"dataframe\">\n",
       "  <thead>\n",
       "    <tr style=\"text-align: right;\">\n",
       "      <th></th>\n",
       "      <th>datetime</th>\n",
       "      <th>OH</th>\n",
       "      <th>GACI</th>\n",
       "      <th>STR</th>\n",
       "      <th>DEL</th>\n",
       "      <th>NOWH</th>\n",
       "      <th>NOSUPbridge</th>\n",
       "      <th>NOSUPshell</th>\n",
       "      <th>BL</th>\n",
       "      <th>RIN</th>\n",
       "      <th>AQI</th>\n",
       "      <th>first_layer_height</th>\n",
       "      <th>perimeters</th>\n",
       "      <th>top_solid_layers</th>\n",
       "      <th>bottom_solid_layers</th>\n",
       "      <th>fuzzu_skin</th>\n",
       "      <th>fuzzu_skin_thickness</th>\n",
       "      <th>fill_pattern</th>\n",
       "      <th>ironing</th>\n",
       "      <th>brim_width</th>\n",
       "      <th>extrusion_default</th>\n",
       "      <th>firts_layer_extrusion_width</th>\n",
       "      <th>perimeter_extrusion_width</th>\n",
       "      <th>external_perimeter_extrusion_width</th>\n",
       "      <th>infill_extrusion_width</th>\n",
       "      <th>solid_infill_extrusion_width</th>\n",
       "      <th>top_infill_extrusion_width</th>\n",
       "      <th>bridge_flow_ratio</th>\n",
       "      <th>elephant_foot_compensation</th>\n",
       "      <th>flow_multiplier</th>\n",
       "      <th>temperature</th>\n",
       "    </tr>\n",
       "  </thead>\n",
       "  <tbody>\n",
       "    <tr>\n",
       "      <th>0</th>\n",
       "      <td>2023-03-31 23:00:00+03:00</td>\n",
       "      <td>2</td>\n",
       "      <td>2</td>\n",
       "      <td>1</td>\n",
       "      <td>2</td>\n",
       "      <td>2</td>\n",
       "      <td>2</td>\n",
       "      <td>1</td>\n",
       "      <td>2</td>\n",
       "      <td>2</td>\n",
       "      <td>16</td>\n",
       "      <td>0.279965</td>\n",
       "      <td>3</td>\n",
       "      <td>3</td>\n",
       "      <td>2</td>\n",
       "      <td>off</td>\n",
       "      <td>0.010118</td>\n",
       "      <td>Adaptive cubic</td>\n",
       "      <td>False</td>\n",
       "      <td>2</td>\n",
       "      <td>0.531707</td>\n",
       "      <td>1.472704</td>\n",
       "      <td>0.353164</td>\n",
       "      <td>0.535887</td>\n",
       "      <td>0.488179</td>\n",
       "      <td>0.649331</td>\n",
       "      <td>0.443085</td>\n",
       "      <td>0.927427</td>\n",
       "      <td>0.466298</td>\n",
       "      <td>1.039364</td>\n",
       "      <td>201.320003</td>\n",
       "    </tr>\n",
       "  </tbody>\n",
       "</table>\n",
       "</div>"
      ],
      "text/plain": [
       "                   datetime  OH  GACI  STR  DEL  NOWH  NOSUPbridge  \\\n",
       "0 2023-03-31 23:00:00+03:00   2     2    1    2     2            2   \n",
       "\n",
       "   NOSUPshell  BL  RIN  AQI  first_layer_height  perimeters  top_solid_layers  \\\n",
       "0           1   2    2   16            0.279965           3                 3   \n",
       "\n",
       "   bottom_solid_layers fuzzu_skin  fuzzu_skin_thickness    fill_pattern  \\\n",
       "0                    2        off              0.010118  Adaptive cubic   \n",
       "\n",
       "  ironing  brim_width  extrusion_default  firts_layer_extrusion_width  \\\n",
       "0   False           2           0.531707                     1.472704   \n",
       "\n",
       "   perimeter_extrusion_width  external_perimeter_extrusion_width  \\\n",
       "0                   0.353164                            0.535887   \n",
       "\n",
       "   infill_extrusion_width  solid_infill_extrusion_width  \\\n",
       "0                0.488179                      0.649331   \n",
       "\n",
       "   top_infill_extrusion_width  bridge_flow_ratio  elephant_foot_compensation  \\\n",
       "0                    0.443085           0.927427                    0.466298   \n",
       "\n",
       "   flow_multiplier  temperature  \n",
       "0         1.039364   201.320003  "
      ]
     },
     "execution_count": 9,
     "metadata": {},
     "output_type": "execute_result"
    }
   ],
   "source": [
    "added4 = pd.DataFrame({'datetime': pd.Timestamp('2023-03-31 23:00', tz='Europe/Moscow'),\n",
    "                       'OH': 2, 'GACI': 2, 'STR': 1, 'DEL': 2, 'NOWH': 2, 'NOSUPbridge': 2,\n",
    "                       'NOSUPshell': 1, 'BL': 2, 'RIN': 2}, index=[0])\n",
    "added4['AQI'] = added4[['OH', 'GACI', 'STR', 'DEL', 'NOWH', 'NOSUPbridge',\n",
    "                       'NOSUPshell', 'BL', 'RIN']].sum(axis=1)\n",
    "df_settings = pd.DataFrame({'first_layer_height': 0.2799648533919762, 'perimeters': 3, 'top_solid_layers': 3, 'bottom_solid_layers': 2, 'fuzzu_skin': 'off', 'fuzzu_skin_thickness': 0.010118214352061325, 'fill_pattern': 'Adaptive cubic', 'ironing': 'False', 'brim_width': 2, 'extrusion_default': 0.5317070301839599, 'firts_layer_extrusion_width': 1.4727041621085237, 'perimeter_extrusion_width': 0.3531642485693112, 'external_perimeter_extrusion_width': 0.5358874467487523, 'infill_extrusion_width': 0.4881793835033848, 'solid_infill_extrusion_width': 0.6493307126128701, 'top_infill_extrusion_width': 0.4430851270863322, 'bridge_flow_ratio': 0.9274271499257756, 'elephant_foot_compensation': 0.4662977315185818, 'flow_multiplier': 1.03936363229798, 'temperature': 201.32000345444126}, index=[0])\n",
    "added4 = added4.join(df_settings)\n",
    "added4"
   ]
  },
  {
   "cell_type": "code",
   "execution_count": 10,
   "metadata": {},
   "outputs": [
    {
     "data": {
      "text/html": [
       "<div>\n",
       "<style scoped>\n",
       "    .dataframe tbody tr th:only-of-type {\n",
       "        vertical-align: middle;\n",
       "    }\n",
       "\n",
       "    .dataframe tbody tr th {\n",
       "        vertical-align: top;\n",
       "    }\n",
       "\n",
       "    .dataframe thead th {\n",
       "        text-align: right;\n",
       "    }\n",
       "</style>\n",
       "<table border=\"1\" class=\"dataframe\">\n",
       "  <thead>\n",
       "    <tr style=\"text-align: right;\">\n",
       "      <th></th>\n",
       "      <th>datetime</th>\n",
       "      <th>OH</th>\n",
       "      <th>GACI</th>\n",
       "      <th>STR</th>\n",
       "      <th>DEL</th>\n",
       "      <th>NOWH</th>\n",
       "      <th>NOSUPbridge</th>\n",
       "      <th>NOSUPshell</th>\n",
       "      <th>BL</th>\n",
       "      <th>RIN</th>\n",
       "      <th>AQI</th>\n",
       "      <th>first_layer_height</th>\n",
       "      <th>perimeters</th>\n",
       "      <th>top_solid_layers</th>\n",
       "      <th>bottom_solid_layers</th>\n",
       "      <th>fuzzu_skin</th>\n",
       "      <th>fuzzu_skin_thickness</th>\n",
       "      <th>fill_pattern</th>\n",
       "      <th>ironing</th>\n",
       "      <th>brim_width</th>\n",
       "      <th>extrusion_default</th>\n",
       "      <th>firts_layer_extrusion_width</th>\n",
       "      <th>perimeter_extrusion_width</th>\n",
       "      <th>external_perimeter_extrusion_width</th>\n",
       "      <th>infill_extrusion_width</th>\n",
       "      <th>solid_infill_extrusion_width</th>\n",
       "      <th>top_infill_extrusion_width</th>\n",
       "      <th>bridge_flow_ratio</th>\n",
       "      <th>elephant_foot_compensation</th>\n",
       "      <th>flow_multiplier</th>\n",
       "      <th>temperature</th>\n",
       "    </tr>\n",
       "  </thead>\n",
       "  <tbody>\n",
       "    <tr>\n",
       "      <th>0</th>\n",
       "      <td>2023-04-03 08:00:00+03:00</td>\n",
       "      <td>1</td>\n",
       "      <td>2</td>\n",
       "      <td>0</td>\n",
       "      <td>0</td>\n",
       "      <td>0</td>\n",
       "      <td>0</td>\n",
       "      <td>0</td>\n",
       "      <td>0</td>\n",
       "      <td>1</td>\n",
       "      <td>4</td>\n",
       "      <td>0.402185</td>\n",
       "      <td>4</td>\n",
       "      <td>5</td>\n",
       "      <td>4</td>\n",
       "      <td>off</td>\n",
       "      <td>0.011133</td>\n",
       "      <td>Gyroid</td>\n",
       "      <td>True</td>\n",
       "      <td>3</td>\n",
       "      <td>0.518406</td>\n",
       "      <td>0.773843</td>\n",
       "      <td>0.405837</td>\n",
       "      <td>0.467152</td>\n",
       "      <td>0.543919</td>\n",
       "      <td>0.540258</td>\n",
       "      <td>0.404662</td>\n",
       "      <td>1.060127</td>\n",
       "      <td>0.116487</td>\n",
       "      <td>1.061421</td>\n",
       "      <td>207.757213</td>\n",
       "    </tr>\n",
       "  </tbody>\n",
       "</table>\n",
       "</div>"
      ],
      "text/plain": [
       "                   datetime  OH  GACI  STR  DEL  NOWH  NOSUPbridge  \\\n",
       "0 2023-04-03 08:00:00+03:00   1     2    0    0     0            0   \n",
       "\n",
       "   NOSUPshell  BL  RIN  AQI  first_layer_height  perimeters  top_solid_layers  \\\n",
       "0           0   0    1    4            0.402185           4                 5   \n",
       "\n",
       "   bottom_solid_layers fuzzu_skin  fuzzu_skin_thickness fill_pattern ironing  \\\n",
       "0                    4        off              0.011133       Gyroid    True   \n",
       "\n",
       "   brim_width  extrusion_default  firts_layer_extrusion_width  \\\n",
       "0           3           0.518406                     0.773843   \n",
       "\n",
       "   perimeter_extrusion_width  external_perimeter_extrusion_width  \\\n",
       "0                   0.405837                            0.467152   \n",
       "\n",
       "   infill_extrusion_width  solid_infill_extrusion_width  \\\n",
       "0                0.543919                      0.540258   \n",
       "\n",
       "   top_infill_extrusion_width  bridge_flow_ratio  elephant_foot_compensation  \\\n",
       "0                    0.404662           1.060127                    0.116487   \n",
       "\n",
       "   flow_multiplier  temperature  \n",
       "0         1.061421   207.757213  "
      ]
     },
     "execution_count": 10,
     "metadata": {},
     "output_type": "execute_result"
    }
   ],
   "source": [
    "added5 = pd.DataFrame({'datetime': pd.Timestamp('2023-04-03 08:00', tz='Europe/Moscow'),\n",
    "                       'OH': 1, 'GACI': 2, 'STR': 0, 'DEL': 0, 'NOWH': 0, 'NOSUPbridge': 0,\n",
    "                       'NOSUPshell': 0, 'BL': 0, 'RIN': 1}, index=[0])\n",
    "added5['AQI'] = added5[['OH', 'GACI', 'STR', 'DEL', 'NOWH', 'NOSUPbridge',\n",
    "                       'NOSUPshell', 'BL', 'RIN']].sum(axis=1)\n",
    "df_settings = pd.DataFrame({'first_layer_height': 0.40218522104098653, 'perimeters': 4, 'top_solid_layers': 5, 'bottom_solid_layers': 4, 'fuzzu_skin': 'off', 'fuzzu_skin_thickness': 0.0111328690081196, 'fill_pattern': 'Gyroid', 'ironing': 'True', 'brim_width': 3, 'extrusion_default': 0.5184061784719212, 'firts_layer_extrusion_width': 0.7738426411678756, 'perimeter_extrusion_width': 0.4058367358022279, 'external_perimeter_extrusion_width': 0.4671518542916576, 'infill_extrusion_width': 0.543919149663935, 'solid_infill_extrusion_width': 0.5402575548139275, 'top_infill_extrusion_width': 0.4046618223432358, 'bridge_flow_ratio': 1.0601265345361233, 'elephant_foot_compensation': 0.11648713692051021, 'flow_multiplier': 1.061421039123756, 'temperature': 207.75721288128344}, index=[0])\n",
    "added5 = added5.join(df_settings)\n",
    "added5"
   ]
  },
  {
   "cell_type": "code",
   "execution_count": 11,
   "metadata": {},
   "outputs": [
    {
     "data": {
      "text/html": [
       "<div>\n",
       "<style scoped>\n",
       "    .dataframe tbody tr th:only-of-type {\n",
       "        vertical-align: middle;\n",
       "    }\n",
       "\n",
       "    .dataframe tbody tr th {\n",
       "        vertical-align: top;\n",
       "    }\n",
       "\n",
       "    .dataframe thead th {\n",
       "        text-align: right;\n",
       "    }\n",
       "</style>\n",
       "<table border=\"1\" class=\"dataframe\">\n",
       "  <thead>\n",
       "    <tr style=\"text-align: right;\">\n",
       "      <th></th>\n",
       "      <th>datetime</th>\n",
       "      <th>OH</th>\n",
       "      <th>GACI</th>\n",
       "      <th>STR</th>\n",
       "      <th>DEL</th>\n",
       "      <th>NOWH</th>\n",
       "      <th>NOSUPbridge</th>\n",
       "      <th>NOSUPshell</th>\n",
       "      <th>BL</th>\n",
       "      <th>RIN</th>\n",
       "      <th>AQI</th>\n",
       "      <th>first_layer_height</th>\n",
       "      <th>perimeters</th>\n",
       "      <th>top_solid_layers</th>\n",
       "      <th>bottom_solid_layers</th>\n",
       "      <th>fuzzu_skin</th>\n",
       "      <th>fuzzu_skin_thickness</th>\n",
       "      <th>fill_pattern</th>\n",
       "      <th>ironing</th>\n",
       "      <th>brim_width</th>\n",
       "      <th>extrusion_default</th>\n",
       "      <th>firts_layer_extrusion_width</th>\n",
       "      <th>perimeter_extrusion_width</th>\n",
       "      <th>external_perimeter_extrusion_width</th>\n",
       "      <th>infill_extrusion_width</th>\n",
       "      <th>solid_infill_extrusion_width</th>\n",
       "      <th>top_infill_extrusion_width</th>\n",
       "      <th>bridge_flow_ratio</th>\n",
       "      <th>elephant_foot_compensation</th>\n",
       "      <th>flow_multiplier</th>\n",
       "      <th>temperature</th>\n",
       "    </tr>\n",
       "  </thead>\n",
       "  <tbody>\n",
       "    <tr>\n",
       "      <th>0</th>\n",
       "      <td>2023-04-06 08:00:00+03:00</td>\n",
       "      <td>2</td>\n",
       "      <td>1</td>\n",
       "      <td>2</td>\n",
       "      <td>0</td>\n",
       "      <td>0</td>\n",
       "      <td>1</td>\n",
       "      <td>1</td>\n",
       "      <td>0</td>\n",
       "      <td>2</td>\n",
       "      <td>9</td>\n",
       "      <td>0.445417</td>\n",
       "      <td>3</td>\n",
       "      <td>3</td>\n",
       "      <td>1</td>\n",
       "      <td>External perimeters</td>\n",
       "      <td>0.012001</td>\n",
       "      <td>Gyroid</td>\n",
       "      <td>True</td>\n",
       "      <td>0</td>\n",
       "      <td>0.364395</td>\n",
       "      <td>1.954187</td>\n",
       "      <td>0.46362</td>\n",
       "      <td>0.390659</td>\n",
       "      <td>0.400465</td>\n",
       "      <td>0.585956</td>\n",
       "      <td>0.448857</td>\n",
       "      <td>1.016272</td>\n",
       "      <td>0.48501</td>\n",
       "      <td>1.069366</td>\n",
       "      <td>204.796955</td>\n",
       "    </tr>\n",
       "  </tbody>\n",
       "</table>\n",
       "</div>"
      ],
      "text/plain": [
       "                   datetime  OH  GACI  STR  DEL  NOWH  NOSUPbridge  \\\n",
       "0 2023-04-06 08:00:00+03:00   2     1    2    0     0            1   \n",
       "\n",
       "   NOSUPshell  BL  RIN  AQI  first_layer_height  perimeters  top_solid_layers  \\\n",
       "0           1   0    2    9            0.445417           3                 3   \n",
       "\n",
       "   bottom_solid_layers           fuzzu_skin  fuzzu_skin_thickness  \\\n",
       "0                    1  External perimeters              0.012001   \n",
       "\n",
       "  fill_pattern ironing  brim_width  extrusion_default  \\\n",
       "0       Gyroid    True           0           0.364395   \n",
       "\n",
       "   firts_layer_extrusion_width  perimeter_extrusion_width  \\\n",
       "0                     1.954187                    0.46362   \n",
       "\n",
       "   external_perimeter_extrusion_width  infill_extrusion_width  \\\n",
       "0                            0.390659                0.400465   \n",
       "\n",
       "   solid_infill_extrusion_width  top_infill_extrusion_width  \\\n",
       "0                      0.585956                    0.448857   \n",
       "\n",
       "   bridge_flow_ratio  elephant_foot_compensation  flow_multiplier  temperature  \n",
       "0           1.016272                     0.48501         1.069366   204.796955  "
      ]
     },
     "execution_count": 11,
     "metadata": {},
     "output_type": "execute_result"
    }
   ],
   "source": [
    "added6 = pd.DataFrame({'datetime': pd.Timestamp('2023-04-06 08:00', tz='Europe/Moscow'),\n",
    "                       'OH': 2, 'GACI': 1, 'STR': 2, 'DEL': 0, 'NOWH': 0, 'NOSUPbridge': 1,\n",
    "                       'NOSUPshell': 1, 'BL': 0, 'RIN': 2}, index=[0])\n",
    "added6['AQI'] = added6[['OH', 'GACI', 'STR', 'DEL', 'NOWH', 'NOSUPbridge',\n",
    "                       'NOSUPshell', 'BL', 'RIN']].sum(axis=1)\n",
    "df_settings = pd.DataFrame({'first_layer_height': 0.44541674182377144, 'perimeters': 3, 'top_solid_layers': 3, 'bottom_solid_layers': 1, 'fuzzu_skin': 'External perimeters', 'fuzzu_skin_thickness': 0.012001070266075902, 'fill_pattern': 'Gyroid', 'ironing': 'True', 'brim_width': 0, 'extrusion_default': 0.36439485593789733, 'firts_layer_extrusion_width': 1.9541868620003808, 'perimeter_extrusion_width': 0.46362009238398844, 'external_perimeter_extrusion_width': 0.3906586469321981, 'infill_extrusion_width': 0.4004651489140647, 'solid_infill_extrusion_width': 0.5859564635187733, 'top_infill_extrusion_width': 0.44885737027732975, 'bridge_flow_ratio': 1.0162717854546517, 'elephant_foot_compensation': 0.48500999454415616, 'flow_multiplier': 1.0693657602980071, 'temperature': 204.79695518295173}, index=[0])\n",
    "added6 = added6.join(df_settings)\n",
    "added6"
   ]
  },
  {
   "cell_type": "code",
   "execution_count": 12,
   "metadata": {},
   "outputs": [
    {
     "data": {
      "text/html": [
       "<div>\n",
       "<style scoped>\n",
       "    .dataframe tbody tr th:only-of-type {\n",
       "        vertical-align: middle;\n",
       "    }\n",
       "\n",
       "    .dataframe tbody tr th {\n",
       "        vertical-align: top;\n",
       "    }\n",
       "\n",
       "    .dataframe thead th {\n",
       "        text-align: right;\n",
       "    }\n",
       "</style>\n",
       "<table border=\"1\" class=\"dataframe\">\n",
       "  <thead>\n",
       "    <tr style=\"text-align: right;\">\n",
       "      <th></th>\n",
       "      <th>datetime</th>\n",
       "      <th>OH</th>\n",
       "      <th>GACI</th>\n",
       "      <th>STR</th>\n",
       "      <th>DEL</th>\n",
       "      <th>NOWH</th>\n",
       "      <th>NOSUPbridge</th>\n",
       "      <th>NOSUPshell</th>\n",
       "      <th>BL</th>\n",
       "      <th>RIN</th>\n",
       "      <th>AQI</th>\n",
       "      <th>first_layer_height</th>\n",
       "      <th>perimeters</th>\n",
       "      <th>top_solid_layers</th>\n",
       "      <th>bottom_solid_layers</th>\n",
       "      <th>fuzzu_skin</th>\n",
       "      <th>fuzzu_skin_thickness</th>\n",
       "      <th>fill_pattern</th>\n",
       "      <th>ironing</th>\n",
       "      <th>brim_width</th>\n",
       "      <th>extrusion_default</th>\n",
       "      <th>firts_layer_extrusion_width</th>\n",
       "      <th>perimeter_extrusion_width</th>\n",
       "      <th>external_perimeter_extrusion_width</th>\n",
       "      <th>infill_extrusion_width</th>\n",
       "      <th>solid_infill_extrusion_width</th>\n",
       "      <th>top_infill_extrusion_width</th>\n",
       "      <th>bridge_flow_ratio</th>\n",
       "      <th>elephant_foot_compensation</th>\n",
       "      <th>flow_multiplier</th>\n",
       "      <th>temperature</th>\n",
       "    </tr>\n",
       "  </thead>\n",
       "  <tbody>\n",
       "    <tr>\n",
       "      <th>0</th>\n",
       "      <td>2023-04-07 08:00:00+03:00</td>\n",
       "      <td>1</td>\n",
       "      <td>1</td>\n",
       "      <td>0</td>\n",
       "      <td>0</td>\n",
       "      <td>0</td>\n",
       "      <td>1</td>\n",
       "      <td>1</td>\n",
       "      <td>0</td>\n",
       "      <td>1</td>\n",
       "      <td>5</td>\n",
       "      <td>0.297508</td>\n",
       "      <td>3</td>\n",
       "      <td>5</td>\n",
       "      <td>1</td>\n",
       "      <td>External perimeters</td>\n",
       "      <td>0.073248</td>\n",
       "      <td>Adaptive cubic</td>\n",
       "      <td>False</td>\n",
       "      <td>4</td>\n",
       "      <td>0.426028</td>\n",
       "      <td>1.371328</td>\n",
       "      <td>0.499067</td>\n",
       "      <td>0.483847</td>\n",
       "      <td>0.402984</td>\n",
       "      <td>0.416584</td>\n",
       "      <td>0.492521</td>\n",
       "      <td>1.025944</td>\n",
       "      <td>0.105087</td>\n",
       "      <td>1.050551</td>\n",
       "      <td>201.33073</td>\n",
       "    </tr>\n",
       "  </tbody>\n",
       "</table>\n",
       "</div>"
      ],
      "text/plain": [
       "                   datetime  OH  GACI  STR  DEL  NOWH  NOSUPbridge  \\\n",
       "0 2023-04-07 08:00:00+03:00   1     1    0    0     0            1   \n",
       "\n",
       "   NOSUPshell  BL  RIN  AQI  first_layer_height  perimeters  top_solid_layers  \\\n",
       "0           1   0    1    5            0.297508           3                 5   \n",
       "\n",
       "   bottom_solid_layers           fuzzu_skin  fuzzu_skin_thickness  \\\n",
       "0                    1  External perimeters              0.073248   \n",
       "\n",
       "     fill_pattern ironing  brim_width  extrusion_default  \\\n",
       "0  Adaptive cubic   False           4           0.426028   \n",
       "\n",
       "   firts_layer_extrusion_width  perimeter_extrusion_width  \\\n",
       "0                     1.371328                   0.499067   \n",
       "\n",
       "   external_perimeter_extrusion_width  infill_extrusion_width  \\\n",
       "0                            0.483847                0.402984   \n",
       "\n",
       "   solid_infill_extrusion_width  top_infill_extrusion_width  \\\n",
       "0                      0.416584                    0.492521   \n",
       "\n",
       "   bridge_flow_ratio  elephant_foot_compensation  flow_multiplier  temperature  \n",
       "0           1.025944                    0.105087         1.050551    201.33073  "
      ]
     },
     "execution_count": 12,
     "metadata": {},
     "output_type": "execute_result"
    }
   ],
   "source": [
    "added7 = pd.DataFrame({'datetime': pd.Timestamp('2023-04-07 08:00', tz='Europe/Moscow'),\n",
    "                       'OH': 1, 'GACI': 1, 'STR': 0, 'DEL': 0, 'NOWH': 0, 'NOSUPbridge': 1,\n",
    "                       'NOSUPshell': 1, 'BL': 0, 'RIN': 1}, index=[0])\n",
    "added7['AQI'] = added7[['OH', 'GACI', 'STR', 'DEL', 'NOWH', 'NOSUPbridge',\n",
    "                       'NOSUPshell', 'BL', 'RIN']].sum(axis=1)\n",
    "df_settings = pd.DataFrame({'first_layer_height': 0.297507885707492, 'perimeters': 3, 'top_solid_layers': 5, 'bottom_solid_layers': 1, 'fuzzu_skin': 'External perimeters', 'fuzzu_skin_thickness': 0.07324789815255255, 'fill_pattern': 'Adaptive cubic', 'ironing': 'False', 'brim_width': 4, 'extrusion_default': 0.42602823452471006, 'firts_layer_extrusion_width': 1.3713275067650554, 'perimeter_extrusion_width': 0.49906688618130046, 'external_perimeter_extrusion_width': 0.48384657869063696, 'infill_extrusion_width': 0.40298391153256186, 'solid_infill_extrusion_width': 0.4165837086071104, 'top_infill_extrusion_width': 0.4925210494785266, 'bridge_flow_ratio': 1.025943501404313, 'elephant_foot_compensation': 0.1050870049574198, 'flow_multiplier': 1.0505511107477628, 'temperature': 201.3307296270823}, index=[0])\n",
    "added7 = added7.join(df_settings)\n",
    "added7"
   ]
  },
  {
   "cell_type": "code",
   "execution_count": 13,
   "metadata": {},
   "outputs": [
    {
     "data": {
      "text/html": [
       "<div>\n",
       "<style scoped>\n",
       "    .dataframe tbody tr th:only-of-type {\n",
       "        vertical-align: middle;\n",
       "    }\n",
       "\n",
       "    .dataframe tbody tr th {\n",
       "        vertical-align: top;\n",
       "    }\n",
       "\n",
       "    .dataframe thead th {\n",
       "        text-align: right;\n",
       "    }\n",
       "</style>\n",
       "<table border=\"1\" class=\"dataframe\">\n",
       "  <thead>\n",
       "    <tr style=\"text-align: right;\">\n",
       "      <th></th>\n",
       "      <th>datetime</th>\n",
       "      <th>OH</th>\n",
       "      <th>GACI</th>\n",
       "      <th>STR</th>\n",
       "      <th>DEL</th>\n",
       "      <th>NOWH</th>\n",
       "      <th>NOSUPbridge</th>\n",
       "      <th>NOSUPshell</th>\n",
       "      <th>BL</th>\n",
       "      <th>RIN</th>\n",
       "      <th>AQI</th>\n",
       "      <th>first_layer_height</th>\n",
       "      <th>perimeters</th>\n",
       "      <th>top_solid_layers</th>\n",
       "      <th>bottom_solid_layers</th>\n",
       "      <th>fuzzu_skin</th>\n",
       "      <th>fuzzu_skin_thickness</th>\n",
       "      <th>fill_pattern</th>\n",
       "      <th>ironing</th>\n",
       "      <th>brim_width</th>\n",
       "      <th>extrusion_default</th>\n",
       "      <th>firts_layer_extrusion_width</th>\n",
       "      <th>perimeter_extrusion_width</th>\n",
       "      <th>external_perimeter_extrusion_width</th>\n",
       "      <th>infill_extrusion_width</th>\n",
       "      <th>solid_infill_extrusion_width</th>\n",
       "      <th>top_infill_extrusion_width</th>\n",
       "      <th>bridge_flow_ratio</th>\n",
       "      <th>elephant_foot_compensation</th>\n",
       "      <th>flow_multiplier</th>\n",
       "      <th>temperature</th>\n",
       "    </tr>\n",
       "  </thead>\n",
       "  <tbody>\n",
       "    <tr>\n",
       "      <th>0</th>\n",
       "      <td>2023-04-10 01:00:00+03:00</td>\n",
       "      <td>2</td>\n",
       "      <td>0</td>\n",
       "      <td>1</td>\n",
       "      <td>1</td>\n",
       "      <td>0</td>\n",
       "      <td>1</td>\n",
       "      <td>1</td>\n",
       "      <td>0</td>\n",
       "      <td>0</td>\n",
       "      <td>6</td>\n",
       "      <td>0.297508</td>\n",
       "      <td>3</td>\n",
       "      <td>5</td>\n",
       "      <td>1</td>\n",
       "      <td>External perimeters</td>\n",
       "      <td>0.073248</td>\n",
       "      <td>Adaptive cubic</td>\n",
       "      <td>False</td>\n",
       "      <td>4</td>\n",
       "      <td>0.426028</td>\n",
       "      <td>1.371328</td>\n",
       "      <td>0.499067</td>\n",
       "      <td>0.483847</td>\n",
       "      <td>0.402984</td>\n",
       "      <td>0.416584</td>\n",
       "      <td>0.492521</td>\n",
       "      <td>1.025944</td>\n",
       "      <td>0.105087</td>\n",
       "      <td>1.050551</td>\n",
       "      <td>201.33073</td>\n",
       "    </tr>\n",
       "  </tbody>\n",
       "</table>\n",
       "</div>"
      ],
      "text/plain": [
       "                   datetime  OH  GACI  STR  DEL  NOWH  NOSUPbridge  \\\n",
       "0 2023-04-10 01:00:00+03:00   2     0    1    1     0            1   \n",
       "\n",
       "   NOSUPshell  BL  RIN  AQI  first_layer_height  perimeters  top_solid_layers  \\\n",
       "0           1   0    0    6            0.297508           3                 5   \n",
       "\n",
       "   bottom_solid_layers           fuzzu_skin  fuzzu_skin_thickness  \\\n",
       "0                    1  External perimeters              0.073248   \n",
       "\n",
       "     fill_pattern ironing  brim_width  extrusion_default  \\\n",
       "0  Adaptive cubic   False           4           0.426028   \n",
       "\n",
       "   firts_layer_extrusion_width  perimeter_extrusion_width  \\\n",
       "0                     1.371328                   0.499067   \n",
       "\n",
       "   external_perimeter_extrusion_width  infill_extrusion_width  \\\n",
       "0                            0.483847                0.402984   \n",
       "\n",
       "   solid_infill_extrusion_width  top_infill_extrusion_width  \\\n",
       "0                      0.416584                    0.492521   \n",
       "\n",
       "   bridge_flow_ratio  elephant_foot_compensation  flow_multiplier  temperature  \n",
       "0           1.025944                    0.105087         1.050551    201.33073  "
      ]
     },
     "execution_count": 13,
     "metadata": {},
     "output_type": "execute_result"
    }
   ],
   "source": [
    "added8 = pd.DataFrame({'datetime': pd.Timestamp('2023-04-10 01:00', tz='Europe/Moscow'),\n",
    "                       'OH': 2, 'GACI': 0, 'STR': 1, 'DEL': 1, 'NOWH': 0, 'NOSUPbridge': 1,\n",
    "                       'NOSUPshell': 1, 'BL': 0, 'RIN': 0}, index=[0])\n",
    "added8['AQI'] = added8[['OH', 'GACI', 'STR', 'DEL', 'NOWH', 'NOSUPbridge',\n",
    "                       'NOSUPshell', 'BL', 'RIN']].sum(axis=1)\n",
    "df_settings = pd.DataFrame({'first_layer_height': 0.297507885707492, 'perimeters': 3, 'top_solid_layers': 5, 'bottom_solid_layers': 1, 'fuzzu_skin': 'External perimeters', 'fuzzu_skin_thickness': 0.07324789815255255, 'fill_pattern': 'Adaptive cubic', 'ironing': 'False', 'brim_width': 4, 'extrusion_default': 0.42602823452471006, 'firts_layer_extrusion_width': 1.3713275067650554, 'perimeter_extrusion_width': 0.49906688618130046, 'external_perimeter_extrusion_width': 0.48384657869063696, 'infill_extrusion_width': 0.40298391153256186, 'solid_infill_extrusion_width': 0.4165837086071104, 'top_infill_extrusion_width': 0.4925210494785266, 'bridge_flow_ratio': 1.025943501404313, 'elephant_foot_compensation': 0.1050870049574198, 'flow_multiplier': 1.0505511107477628, 'temperature': 201.3307296270823}, index=[0])\n",
    "added8 = added8.join(df_settings)\n",
    "added8"
   ]
  },
  {
   "cell_type": "code",
   "execution_count": 14,
   "metadata": {},
   "outputs": [
    {
     "data": {
      "text/html": [
       "<div>\n",
       "<style scoped>\n",
       "    .dataframe tbody tr th:only-of-type {\n",
       "        vertical-align: middle;\n",
       "    }\n",
       "\n",
       "    .dataframe tbody tr th {\n",
       "        vertical-align: top;\n",
       "    }\n",
       "\n",
       "    .dataframe thead th {\n",
       "        text-align: right;\n",
       "    }\n",
       "</style>\n",
       "<table border=\"1\" class=\"dataframe\">\n",
       "  <thead>\n",
       "    <tr style=\"text-align: right;\">\n",
       "      <th></th>\n",
       "      <th>datetime</th>\n",
       "      <th>OH</th>\n",
       "      <th>GACI</th>\n",
       "      <th>STR</th>\n",
       "      <th>DEL</th>\n",
       "      <th>NOWH</th>\n",
       "      <th>NOSUPbridge</th>\n",
       "      <th>NOSUPshell</th>\n",
       "      <th>BL</th>\n",
       "      <th>RIN</th>\n",
       "      <th>AQI</th>\n",
       "      <th>first_layer_height</th>\n",
       "      <th>perimeters</th>\n",
       "      <th>top_solid_layers</th>\n",
       "      <th>bottom_solid_layers</th>\n",
       "      <th>fuzzu_skin</th>\n",
       "      <th>fuzzu_skin_thickness</th>\n",
       "      <th>fill_pattern</th>\n",
       "      <th>ironing</th>\n",
       "      <th>brim_width</th>\n",
       "      <th>extrusion_default</th>\n",
       "      <th>firts_layer_extrusion_width</th>\n",
       "      <th>perimeter_extrusion_width</th>\n",
       "      <th>external_perimeter_extrusion_width</th>\n",
       "      <th>infill_extrusion_width</th>\n",
       "      <th>solid_infill_extrusion_width</th>\n",
       "      <th>top_infill_extrusion_width</th>\n",
       "      <th>bridge_flow_ratio</th>\n",
       "      <th>elephant_foot_compensation</th>\n",
       "      <th>flow_multiplier</th>\n",
       "      <th>temperature</th>\n",
       "    </tr>\n",
       "  </thead>\n",
       "  <tbody>\n",
       "    <tr>\n",
       "      <th>0</th>\n",
       "      <td>2023-04-10 09:00:00+03:00</td>\n",
       "      <td>2</td>\n",
       "      <td>2</td>\n",
       "      <td>0</td>\n",
       "      <td>2</td>\n",
       "      <td>2</td>\n",
       "      <td>2</td>\n",
       "      <td>1</td>\n",
       "      <td>2</td>\n",
       "      <td>1</td>\n",
       "      <td>14</td>\n",
       "      <td>0.319819</td>\n",
       "      <td>4</td>\n",
       "      <td>5</td>\n",
       "      <td>2</td>\n",
       "      <td>off</td>\n",
       "      <td>0.016774</td>\n",
       "      <td>Gyroid</td>\n",
       "      <td>False</td>\n",
       "      <td>5</td>\n",
       "      <td>0.353004</td>\n",
       "      <td>0.846675</td>\n",
       "      <td>0.416413</td>\n",
       "      <td>0.376199</td>\n",
       "      <td>0.511898</td>\n",
       "      <td>0.486184</td>\n",
       "      <td>0.635027</td>\n",
       "      <td>1.016403</td>\n",
       "      <td>0.439416</td>\n",
       "      <td>1.068947</td>\n",
       "      <td>218.107846</td>\n",
       "    </tr>\n",
       "  </tbody>\n",
       "</table>\n",
       "</div>"
      ],
      "text/plain": [
       "                   datetime  OH  GACI  STR  DEL  NOWH  NOSUPbridge  \\\n",
       "0 2023-04-10 09:00:00+03:00   2     2    0    2     2            2   \n",
       "\n",
       "   NOSUPshell  BL  RIN  AQI  first_layer_height  perimeters  top_solid_layers  \\\n",
       "0           1   2    1   14            0.319819           4                 5   \n",
       "\n",
       "   bottom_solid_layers fuzzu_skin  fuzzu_skin_thickness fill_pattern ironing  \\\n",
       "0                    2        off              0.016774       Gyroid   False   \n",
       "\n",
       "   brim_width  extrusion_default  firts_layer_extrusion_width  \\\n",
       "0           5           0.353004                     0.846675   \n",
       "\n",
       "   perimeter_extrusion_width  external_perimeter_extrusion_width  \\\n",
       "0                   0.416413                            0.376199   \n",
       "\n",
       "   infill_extrusion_width  solid_infill_extrusion_width  \\\n",
       "0                0.511898                      0.486184   \n",
       "\n",
       "   top_infill_extrusion_width  bridge_flow_ratio  elephant_foot_compensation  \\\n",
       "0                    0.635027           1.016403                    0.439416   \n",
       "\n",
       "   flow_multiplier  temperature  \n",
       "0         1.068947   218.107846  "
      ]
     },
     "execution_count": 14,
     "metadata": {},
     "output_type": "execute_result"
    }
   ],
   "source": [
    "added9 = pd.DataFrame({'datetime': pd.Timestamp('2023-04-10 09:00', tz='Europe/Moscow'),\n",
    "                       'OH': 2, 'GACI': 2, 'STR': 0, 'DEL': 2, 'NOWH': 2, 'NOSUPbridge': 2,\n",
    "                       'NOSUPshell': 1, 'BL': 2, 'RIN': 1}, index=[0])\n",
    "added9['AQI'] = added9[['OH', 'GACI', 'STR', 'DEL', 'NOWH', 'NOSUPbridge',\n",
    "                       'NOSUPshell', 'BL', 'RIN']].sum(axis=1)\n",
    "df_settings = pd.DataFrame({'first_layer_height': 0.3198191686034251, 'perimeters': 4, 'top_solid_layers': 5, 'bottom_solid_layers': 2, 'fuzzu_skin': 'off', 'fuzzu_skin_thickness': 0.01677385918953098, 'fill_pattern': 'Gyroid', 'ironing': 'False', 'brim_width': 5, 'extrusion_default': 0.3530037961484245, 'firts_layer_extrusion_width': 0.8466747578050773, 'perimeter_extrusion_width': 0.4164127148733674, 'external_perimeter_extrusion_width': 0.37619936896218337, 'infill_extrusion_width': 0.5118981384253165, 'solid_infill_extrusion_width': 0.48618416317082336, 'top_infill_extrusion_width': 0.6350268705833418, 'bridge_flow_ratio': 1.0164028359894162, 'elephant_foot_compensation': 0.43941599220592203, 'flow_multiplier': 1.0689468890784444, 'temperature': 218.107846374173}, index=[0])\n",
    "added9 = added9.join(df_settings)\n",
    "added9"
   ]
  },
  {
   "cell_type": "code",
   "execution_count": 15,
   "metadata": {},
   "outputs": [
    {
     "data": {
      "text/html": [
       "<div>\n",
       "<style scoped>\n",
       "    .dataframe tbody tr th:only-of-type {\n",
       "        vertical-align: middle;\n",
       "    }\n",
       "\n",
       "    .dataframe tbody tr th {\n",
       "        vertical-align: top;\n",
       "    }\n",
       "\n",
       "    .dataframe thead th {\n",
       "        text-align: right;\n",
       "    }\n",
       "</style>\n",
       "<table border=\"1\" class=\"dataframe\">\n",
       "  <thead>\n",
       "    <tr style=\"text-align: right;\">\n",
       "      <th></th>\n",
       "      <th>datetime</th>\n",
       "      <th>OH</th>\n",
       "      <th>GACI</th>\n",
       "      <th>STR</th>\n",
       "      <th>DEL</th>\n",
       "      <th>NOWH</th>\n",
       "      <th>NOSUPbridge</th>\n",
       "      <th>NOSUPshell</th>\n",
       "      <th>BL</th>\n",
       "      <th>RIN</th>\n",
       "      <th>AQI</th>\n",
       "      <th>first_layer_height</th>\n",
       "      <th>perimeters</th>\n",
       "      <th>top_solid_layers</th>\n",
       "      <th>bottom_solid_layers</th>\n",
       "      <th>fuzzu_skin</th>\n",
       "      <th>fuzzu_skin_thickness</th>\n",
       "      <th>fill_pattern</th>\n",
       "      <th>ironing</th>\n",
       "      <th>brim_width</th>\n",
       "      <th>extrusion_default</th>\n",
       "      <th>firts_layer_extrusion_width</th>\n",
       "      <th>perimeter_extrusion_width</th>\n",
       "      <th>external_perimeter_extrusion_width</th>\n",
       "      <th>infill_extrusion_width</th>\n",
       "      <th>solid_infill_extrusion_width</th>\n",
       "      <th>top_infill_extrusion_width</th>\n",
       "      <th>bridge_flow_ratio</th>\n",
       "      <th>elephant_foot_compensation</th>\n",
       "      <th>flow_multiplier</th>\n",
       "      <th>temperature</th>\n",
       "    </tr>\n",
       "  </thead>\n",
       "  <tbody>\n",
       "    <tr>\n",
       "      <th>0</th>\n",
       "      <td>2023-01-06 23:50:00+03:00</td>\n",
       "      <td>2</td>\n",
       "      <td>0</td>\n",
       "      <td>0</td>\n",
       "      <td>2</td>\n",
       "      <td>1</td>\n",
       "      <td>1</td>\n",
       "      <td>2</td>\n",
       "      <td>1</td>\n",
       "      <td>1</td>\n",
       "      <td>10</td>\n",
       "      <td>0.266809</td>\n",
       "      <td>3</td>\n",
       "      <td>1</td>\n",
       "      <td>2</td>\n",
       "      <td>off</td>\n",
       "      <td>0.021439</td>\n",
       "      <td>Gyroid</td>\n",
       "      <td>True</td>\n",
       "      <td>4</td>\n",
       "      <td>0.390890</td>\n",
       "      <td>1.829364</td>\n",
       "      <td>0.355478</td>\n",
       "      <td>0.484094</td>\n",
       "      <td>0.433461</td>\n",
       "      <td>0.539672</td>\n",
       "      <td>0.435097</td>\n",
       "      <td>0.939620</td>\n",
       "      <td>0.400372</td>\n",
       "      <td>1.093652</td>\n",
       "      <td>206.268484</td>\n",
       "    </tr>\n",
       "    <tr>\n",
       "      <th>1</th>\n",
       "      <td>2023-01-07 08:40:00+03:00</td>\n",
       "      <td>1</td>\n",
       "      <td>1</td>\n",
       "      <td>2</td>\n",
       "      <td>2</td>\n",
       "      <td>0</td>\n",
       "      <td>1</td>\n",
       "      <td>1</td>\n",
       "      <td>0</td>\n",
       "      <td>0</td>\n",
       "      <td>8</td>\n",
       "      <td>0.376929</td>\n",
       "      <td>4</td>\n",
       "      <td>5</td>\n",
       "      <td>1</td>\n",
       "      <td>External perimeters</td>\n",
       "      <td>0.364309</td>\n",
       "      <td>Gyroid</td>\n",
       "      <td>True</td>\n",
       "      <td>4</td>\n",
       "      <td>0.413103</td>\n",
       "      <td>1.561101</td>\n",
       "      <td>0.516925</td>\n",
       "      <td>0.353658</td>\n",
       "      <td>0.500029</td>\n",
       "      <td>0.647215</td>\n",
       "      <td>0.587041</td>\n",
       "      <td>0.956089</td>\n",
       "      <td>0.394640</td>\n",
       "      <td>0.920645</td>\n",
       "      <td>208.957871</td>\n",
       "    </tr>\n",
       "    <tr>\n",
       "      <th>2</th>\n",
       "      <td>2023-01-08 23:00:00+03:00</td>\n",
       "      <td>1</td>\n",
       "      <td>1</td>\n",
       "      <td>1</td>\n",
       "      <td>2</td>\n",
       "      <td>0</td>\n",
       "      <td>1</td>\n",
       "      <td>2</td>\n",
       "      <td>0</td>\n",
       "      <td>0</td>\n",
       "      <td>8</td>\n",
       "      <td>0.463438</td>\n",
       "      <td>2</td>\n",
       "      <td>2</td>\n",
       "      <td>1</td>\n",
       "      <td>External perimeters</td>\n",
       "      <td>0.023785</td>\n",
       "      <td>Gyroid</td>\n",
       "      <td>False</td>\n",
       "      <td>1</td>\n",
       "      <td>0.467861</td>\n",
       "      <td>1.579662</td>\n",
       "      <td>0.370467</td>\n",
       "      <td>0.432811</td>\n",
       "      <td>0.488880</td>\n",
       "      <td>0.503545</td>\n",
       "      <td>0.412488</td>\n",
       "      <td>1.007179</td>\n",
       "      <td>0.331897</td>\n",
       "      <td>1.002978</td>\n",
       "      <td>218.891895</td>\n",
       "    </tr>\n",
       "    <tr>\n",
       "      <th>3</th>\n",
       "      <td>2023-01-09 23:00:00+03:00</td>\n",
       "      <td>1</td>\n",
       "      <td>0</td>\n",
       "      <td>0</td>\n",
       "      <td>0</td>\n",
       "      <td>1</td>\n",
       "      <td>1</td>\n",
       "      <td>1</td>\n",
       "      <td>0</td>\n",
       "      <td>1</td>\n",
       "      <td>5</td>\n",
       "      <td>0.334622</td>\n",
       "      <td>4</td>\n",
       "      <td>1</td>\n",
       "      <td>1</td>\n",
       "      <td>off</td>\n",
       "      <td>0.019680</td>\n",
       "      <td>Adaptive cubic</td>\n",
       "      <td>True</td>\n",
       "      <td>6</td>\n",
       "      <td>0.474734</td>\n",
       "      <td>1.651319</td>\n",
       "      <td>0.419780</td>\n",
       "      <td>0.403986</td>\n",
       "      <td>0.529177</td>\n",
       "      <td>0.507023</td>\n",
       "      <td>0.641210</td>\n",
       "      <td>1.032688</td>\n",
       "      <td>0.310848</td>\n",
       "      <td>0.922949</td>\n",
       "      <td>218.989785</td>\n",
       "    </tr>\n",
       "    <tr>\n",
       "      <th>4</th>\n",
       "      <td>2023-03-31 23:00:00+03:00</td>\n",
       "      <td>2</td>\n",
       "      <td>2</td>\n",
       "      <td>1</td>\n",
       "      <td>2</td>\n",
       "      <td>2</td>\n",
       "      <td>2</td>\n",
       "      <td>1</td>\n",
       "      <td>2</td>\n",
       "      <td>2</td>\n",
       "      <td>16</td>\n",
       "      <td>0.279965</td>\n",
       "      <td>3</td>\n",
       "      <td>3</td>\n",
       "      <td>2</td>\n",
       "      <td>off</td>\n",
       "      <td>0.010118</td>\n",
       "      <td>Adaptive cubic</td>\n",
       "      <td>False</td>\n",
       "      <td>2</td>\n",
       "      <td>0.531707</td>\n",
       "      <td>1.472704</td>\n",
       "      <td>0.353164</td>\n",
       "      <td>0.535887</td>\n",
       "      <td>0.488179</td>\n",
       "      <td>0.649331</td>\n",
       "      <td>0.443085</td>\n",
       "      <td>0.927427</td>\n",
       "      <td>0.466298</td>\n",
       "      <td>1.039364</td>\n",
       "      <td>201.320003</td>\n",
       "    </tr>\n",
       "    <tr>\n",
       "      <th>5</th>\n",
       "      <td>2023-04-03 08:00:00+03:00</td>\n",
       "      <td>1</td>\n",
       "      <td>2</td>\n",
       "      <td>0</td>\n",
       "      <td>0</td>\n",
       "      <td>0</td>\n",
       "      <td>0</td>\n",
       "      <td>0</td>\n",
       "      <td>0</td>\n",
       "      <td>1</td>\n",
       "      <td>4</td>\n",
       "      <td>0.402185</td>\n",
       "      <td>4</td>\n",
       "      <td>5</td>\n",
       "      <td>4</td>\n",
       "      <td>off</td>\n",
       "      <td>0.011133</td>\n",
       "      <td>Gyroid</td>\n",
       "      <td>True</td>\n",
       "      <td>3</td>\n",
       "      <td>0.518406</td>\n",
       "      <td>0.773843</td>\n",
       "      <td>0.405837</td>\n",
       "      <td>0.467152</td>\n",
       "      <td>0.543919</td>\n",
       "      <td>0.540258</td>\n",
       "      <td>0.404662</td>\n",
       "      <td>1.060127</td>\n",
       "      <td>0.116487</td>\n",
       "      <td>1.061421</td>\n",
       "      <td>207.757213</td>\n",
       "    </tr>\n",
       "    <tr>\n",
       "      <th>6</th>\n",
       "      <td>2023-04-06 08:00:00+03:00</td>\n",
       "      <td>2</td>\n",
       "      <td>1</td>\n",
       "      <td>2</td>\n",
       "      <td>0</td>\n",
       "      <td>0</td>\n",
       "      <td>1</td>\n",
       "      <td>1</td>\n",
       "      <td>0</td>\n",
       "      <td>2</td>\n",
       "      <td>9</td>\n",
       "      <td>0.445417</td>\n",
       "      <td>3</td>\n",
       "      <td>3</td>\n",
       "      <td>1</td>\n",
       "      <td>External perimeters</td>\n",
       "      <td>0.012001</td>\n",
       "      <td>Gyroid</td>\n",
       "      <td>True</td>\n",
       "      <td>0</td>\n",
       "      <td>0.364395</td>\n",
       "      <td>1.954187</td>\n",
       "      <td>0.463620</td>\n",
       "      <td>0.390659</td>\n",
       "      <td>0.400465</td>\n",
       "      <td>0.585956</td>\n",
       "      <td>0.448857</td>\n",
       "      <td>1.016272</td>\n",
       "      <td>0.485010</td>\n",
       "      <td>1.069366</td>\n",
       "      <td>204.796955</td>\n",
       "    </tr>\n",
       "    <tr>\n",
       "      <th>7</th>\n",
       "      <td>2023-04-07 08:00:00+03:00</td>\n",
       "      <td>1</td>\n",
       "      <td>1</td>\n",
       "      <td>0</td>\n",
       "      <td>0</td>\n",
       "      <td>0</td>\n",
       "      <td>1</td>\n",
       "      <td>1</td>\n",
       "      <td>0</td>\n",
       "      <td>1</td>\n",
       "      <td>5</td>\n",
       "      <td>0.297508</td>\n",
       "      <td>3</td>\n",
       "      <td>5</td>\n",
       "      <td>1</td>\n",
       "      <td>External perimeters</td>\n",
       "      <td>0.073248</td>\n",
       "      <td>Adaptive cubic</td>\n",
       "      <td>False</td>\n",
       "      <td>4</td>\n",
       "      <td>0.426028</td>\n",
       "      <td>1.371328</td>\n",
       "      <td>0.499067</td>\n",
       "      <td>0.483847</td>\n",
       "      <td>0.402984</td>\n",
       "      <td>0.416584</td>\n",
       "      <td>0.492521</td>\n",
       "      <td>1.025944</td>\n",
       "      <td>0.105087</td>\n",
       "      <td>1.050551</td>\n",
       "      <td>201.330730</td>\n",
       "    </tr>\n",
       "    <tr>\n",
       "      <th>8</th>\n",
       "      <td>2023-04-10 01:00:00+03:00</td>\n",
       "      <td>2</td>\n",
       "      <td>0</td>\n",
       "      <td>1</td>\n",
       "      <td>1</td>\n",
       "      <td>0</td>\n",
       "      <td>1</td>\n",
       "      <td>1</td>\n",
       "      <td>0</td>\n",
       "      <td>0</td>\n",
       "      <td>6</td>\n",
       "      <td>0.297508</td>\n",
       "      <td>3</td>\n",
       "      <td>5</td>\n",
       "      <td>1</td>\n",
       "      <td>External perimeters</td>\n",
       "      <td>0.073248</td>\n",
       "      <td>Adaptive cubic</td>\n",
       "      <td>False</td>\n",
       "      <td>4</td>\n",
       "      <td>0.426028</td>\n",
       "      <td>1.371328</td>\n",
       "      <td>0.499067</td>\n",
       "      <td>0.483847</td>\n",
       "      <td>0.402984</td>\n",
       "      <td>0.416584</td>\n",
       "      <td>0.492521</td>\n",
       "      <td>1.025944</td>\n",
       "      <td>0.105087</td>\n",
       "      <td>1.050551</td>\n",
       "      <td>201.330730</td>\n",
       "    </tr>\n",
       "    <tr>\n",
       "      <th>9</th>\n",
       "      <td>2023-04-10 09:00:00+03:00</td>\n",
       "      <td>2</td>\n",
       "      <td>2</td>\n",
       "      <td>0</td>\n",
       "      <td>2</td>\n",
       "      <td>2</td>\n",
       "      <td>2</td>\n",
       "      <td>1</td>\n",
       "      <td>2</td>\n",
       "      <td>1</td>\n",
       "      <td>14</td>\n",
       "      <td>0.319819</td>\n",
       "      <td>4</td>\n",
       "      <td>5</td>\n",
       "      <td>2</td>\n",
       "      <td>off</td>\n",
       "      <td>0.016774</td>\n",
       "      <td>Gyroid</td>\n",
       "      <td>False</td>\n",
       "      <td>5</td>\n",
       "      <td>0.353004</td>\n",
       "      <td>0.846675</td>\n",
       "      <td>0.416413</td>\n",
       "      <td>0.376199</td>\n",
       "      <td>0.511898</td>\n",
       "      <td>0.486184</td>\n",
       "      <td>0.635027</td>\n",
       "      <td>1.016403</td>\n",
       "      <td>0.439416</td>\n",
       "      <td>1.068947</td>\n",
       "      <td>218.107846</td>\n",
       "    </tr>\n",
       "  </tbody>\n",
       "</table>\n",
       "</div>"
      ],
      "text/plain": [
       "                   datetime  OH  GACI  STR  DEL  NOWH  NOSUPbridge  \\\n",
       "0 2023-01-06 23:50:00+03:00   2     0    0    2     1            1   \n",
       "1 2023-01-07 08:40:00+03:00   1     1    2    2     0            1   \n",
       "2 2023-01-08 23:00:00+03:00   1     1    1    2     0            1   \n",
       "3 2023-01-09 23:00:00+03:00   1     0    0    0     1            1   \n",
       "4 2023-03-31 23:00:00+03:00   2     2    1    2     2            2   \n",
       "5 2023-04-03 08:00:00+03:00   1     2    0    0     0            0   \n",
       "6 2023-04-06 08:00:00+03:00   2     1    2    0     0            1   \n",
       "7 2023-04-07 08:00:00+03:00   1     1    0    0     0            1   \n",
       "8 2023-04-10 01:00:00+03:00   2     0    1    1     0            1   \n",
       "9 2023-04-10 09:00:00+03:00   2     2    0    2     2            2   \n",
       "\n",
       "   NOSUPshell  BL  RIN  AQI  first_layer_height  perimeters  top_solid_layers  \\\n",
       "0           2   1    1   10            0.266809           3                 1   \n",
       "1           1   0    0    8            0.376929           4                 5   \n",
       "2           2   0    0    8            0.463438           2                 2   \n",
       "3           1   0    1    5            0.334622           4                 1   \n",
       "4           1   2    2   16            0.279965           3                 3   \n",
       "5           0   0    1    4            0.402185           4                 5   \n",
       "6           1   0    2    9            0.445417           3                 3   \n",
       "7           1   0    1    5            0.297508           3                 5   \n",
       "8           1   0    0    6            0.297508           3                 5   \n",
       "9           1   2    1   14            0.319819           4                 5   \n",
       "\n",
       "   bottom_solid_layers           fuzzu_skin  fuzzu_skin_thickness  \\\n",
       "0                    2                  off              0.021439   \n",
       "1                    1  External perimeters              0.364309   \n",
       "2                    1  External perimeters              0.023785   \n",
       "3                    1                  off              0.019680   \n",
       "4                    2                  off              0.010118   \n",
       "5                    4                  off              0.011133   \n",
       "6                    1  External perimeters              0.012001   \n",
       "7                    1  External perimeters              0.073248   \n",
       "8                    1  External perimeters              0.073248   \n",
       "9                    2                  off              0.016774   \n",
       "\n",
       "     fill_pattern ironing  brim_width  extrusion_default  \\\n",
       "0          Gyroid    True           4           0.390890   \n",
       "1          Gyroid    True           4           0.413103   \n",
       "2          Gyroid   False           1           0.467861   \n",
       "3  Adaptive cubic    True           6           0.474734   \n",
       "4  Adaptive cubic   False           2           0.531707   \n",
       "5          Gyroid    True           3           0.518406   \n",
       "6          Gyroid    True           0           0.364395   \n",
       "7  Adaptive cubic   False           4           0.426028   \n",
       "8  Adaptive cubic   False           4           0.426028   \n",
       "9          Gyroid   False           5           0.353004   \n",
       "\n",
       "   firts_layer_extrusion_width  perimeter_extrusion_width  \\\n",
       "0                     1.829364                   0.355478   \n",
       "1                     1.561101                   0.516925   \n",
       "2                     1.579662                   0.370467   \n",
       "3                     1.651319                   0.419780   \n",
       "4                     1.472704                   0.353164   \n",
       "5                     0.773843                   0.405837   \n",
       "6                     1.954187                   0.463620   \n",
       "7                     1.371328                   0.499067   \n",
       "8                     1.371328                   0.499067   \n",
       "9                     0.846675                   0.416413   \n",
       "\n",
       "   external_perimeter_extrusion_width  infill_extrusion_width  \\\n",
       "0                            0.484094                0.433461   \n",
       "1                            0.353658                0.500029   \n",
       "2                            0.432811                0.488880   \n",
       "3                            0.403986                0.529177   \n",
       "4                            0.535887                0.488179   \n",
       "5                            0.467152                0.543919   \n",
       "6                            0.390659                0.400465   \n",
       "7                            0.483847                0.402984   \n",
       "8                            0.483847                0.402984   \n",
       "9                            0.376199                0.511898   \n",
       "\n",
       "   solid_infill_extrusion_width  top_infill_extrusion_width  \\\n",
       "0                      0.539672                    0.435097   \n",
       "1                      0.647215                    0.587041   \n",
       "2                      0.503545                    0.412488   \n",
       "3                      0.507023                    0.641210   \n",
       "4                      0.649331                    0.443085   \n",
       "5                      0.540258                    0.404662   \n",
       "6                      0.585956                    0.448857   \n",
       "7                      0.416584                    0.492521   \n",
       "8                      0.416584                    0.492521   \n",
       "9                      0.486184                    0.635027   \n",
       "\n",
       "   bridge_flow_ratio  elephant_foot_compensation  flow_multiplier  temperature  \n",
       "0           0.939620                    0.400372         1.093652   206.268484  \n",
       "1           0.956089                    0.394640         0.920645   208.957871  \n",
       "2           1.007179                    0.331897         1.002978   218.891895  \n",
       "3           1.032688                    0.310848         0.922949   218.989785  \n",
       "4           0.927427                    0.466298         1.039364   201.320003  \n",
       "5           1.060127                    0.116487         1.061421   207.757213  \n",
       "6           1.016272                    0.485010         1.069366   204.796955  \n",
       "7           1.025944                    0.105087         1.050551   201.330730  \n",
       "8           1.025944                    0.105087         1.050551   201.330730  \n",
       "9           1.016403                    0.439416         1.068947   218.107846  "
      ]
     },
     "execution_count": 15,
     "metadata": {},
     "output_type": "execute_result"
    }
   ],
   "source": [
    "results = pd.concat([results,added, added2, added3, added4, added5, added6, added7, added8, added9], ignore_index=True)\n",
    "results"
   ]
  },
  {
   "cell_type": "code",
   "execution_count": 16,
   "metadata": {},
   "outputs": [],
   "source": [
    "score_dict = {0:10, 1:8, 2:8, 3:5, 4:16, 5:4, 6:9, 7:5, 8:6, 9:14, 10:6}\n",
    "score_dict\n",
    "# get score dict length\n",
    "score_dict_len = len(score_dict)\n"
   ]
  },
  {
   "cell_type": "code",
   "execution_count": 17,
   "metadata": {},
   "outputs": [
    {
     "name": "stderr",
     "output_type": "stream",
     "text": [
      "\u001b[32m[I 2023-04-10 22:55:28,241]\u001b[0m A new study created in memory with name: printer_param_find\u001b[0m\n"
     ]
    },
    {
     "name": "stdout",
     "output_type": "stream",
     "text": [
      "A new study created in memory with name: printer_param_find\n"
     ]
    },
    {
     "name": "stderr",
     "output_type": "stream",
     "text": [
      "\u001b[32m[I 2023-04-10 22:55:28,253]\u001b[0m Trial 0 finished with value: 64.0 and parameters: {'first_layer_height': 0.2668088018810296, 'perimeters': 3, 'top_solid_layers': 1, 'bottom_solid_layers': 2, 'fuzzu_skin': 'off', 'fuzzu_skin_thickness': 0.021438718792543308, 'fill_pattern': 'Gyroid', 'ironing': 'True', 'brim_width': 4, 'extrusion_default': 0.3908904499463035, 'firts_layer_extrusion_width': 1.8293644109473233, 'perimeter_extrusion_width': 0.3554775186395852, 'external_perimeter_extrusion_width': 0.48409350203568047, 'infill_extrusion_width': 0.4334609604734254, 'solid_infill_extrusion_width': 0.539672457111438, 'top_infill_extrusion_width': 0.4350967346488085, 'bridge_flow_ratio': 0.9396202978169758, 'elephant_foot_compensation': 0.40037228433776834, 'flow_multiplier': 1.0936523151438795, 'temperature': 206.26848356318484}. Best is trial 0 with value: 64.0.\u001b[0m\n"
     ]
    },
    {
     "name": "stdout",
     "output_type": "stream",
     "text": [
      "Trial 0 finished with value: 64.0 and parameters: {'first_layer_height': 0.2668088018810296, 'perimeters': 3, 'top_solid_layers': 1, 'bottom_solid_layers': 2, 'fuzzu_skin': 'off', 'fuzzu_skin_thickness': 0.021438718792543308, 'fill_pattern': 'Gyroid', 'ironing': 'True', 'brim_width': 4, 'extrusion_default': 0.3908904499463035, 'firts_layer_extrusion_width': 1.8293644109473233, 'perimeter_extrusion_width': 0.3554775186395852, 'external_perimeter_extrusion_width': 0.48409350203568047, 'infill_extrusion_width': 0.4334609604734254, 'solid_infill_extrusion_width': 0.539672457111438, 'top_infill_extrusion_width': 0.4350967346488085, 'bridge_flow_ratio': 0.9396202978169758, 'elephant_foot_compensation': 0.40037228433776834, 'flow_multiplier': 1.0936523151438795, 'temperature': 206.26848356318484}. Best is trial 0 with value: 64.0.\n"
     ]
    },
    {
     "name": "stderr",
     "output_type": "stream",
     "text": [
      "\u001b[32m[I 2023-04-10 22:55:28,261]\u001b[0m Trial 1 finished with value: 100.0 and parameters: {'first_layer_height': 0.3769290462677256, 'perimeters': 4, 'top_solid_layers': 5, 'bottom_solid_layers': 1, 'fuzzu_skin': 'External perimeters', 'fuzzu_skin_thickness': 0.3643092434107631, 'fill_pattern': 'Gyroid', 'ironing': 'True', 'brim_width': 4, 'extrusion_default': 0.4131031262012126, 'firts_layer_extrusion_width': 1.561101298754217, 'perimeter_extrusion_width': 0.5169251343794746, 'external_perimeter_extrusion_width': 0.3536576554688383, 'infill_extrusion_width': 0.5000288629889935, 'solid_infill_extrusion_width': 0.6472152722266237, 'top_infill_extrusion_width': 0.5870414135949599, 'bridge_flow_ratio': 0.9560887984128811, 'elephant_foot_compensation': 0.39463966422574426, 'flow_multiplier': 0.9206452013155284, 'temperature': 208.9578705235181}. Best is trial 0 with value: 64.0.\u001b[0m\n"
     ]
    },
    {
     "name": "stdout",
     "output_type": "stream",
     "text": [
      "Trial 1 finished with value: 100.0 and parameters: {'first_layer_height': 0.3769290462677256, 'perimeters': 4, 'top_solid_layers': 5, 'bottom_solid_layers': 1, 'fuzzu_skin': 'External perimeters', 'fuzzu_skin_thickness': 0.3643092434107631, 'fill_pattern': 'Gyroid', 'ironing': 'True', 'brim_width': 4, 'extrusion_default': 0.4131031262012126, 'firts_layer_extrusion_width': 1.561101298754217, 'perimeter_extrusion_width': 0.5169251343794746, 'external_perimeter_extrusion_width': 0.3536576554688383, 'infill_extrusion_width': 0.5000288629889935, 'solid_infill_extrusion_width': 0.6472152722266237, 'top_infill_extrusion_width': 0.5870414135949599, 'bridge_flow_ratio': 0.9560887984128811, 'elephant_foot_compensation': 0.39463966422574426, 'flow_multiplier': 0.9206452013155284, 'temperature': 208.9578705235181}. Best is trial 0 with value: 64.0.\n"
     ]
    },
    {
     "name": "stderr",
     "output_type": "stream",
     "text": [
      "\u001b[32m[I 2023-04-10 22:55:28,271]\u001b[0m Trial 2 finished with value: 100.0 and parameters: {'first_layer_height': 0.4634382012372382, 'perimeters': 2, 'top_solid_layers': 2, 'bottom_solid_layers': 1, 'fuzzu_skin': 'External perimeters', 'fuzzu_skin_thickness': 0.023785199534818165, 'fill_pattern': 'Gyroid', 'ironing': 'False', 'brim_width': 1, 'extrusion_default': 0.4678611073806569, 'firts_layer_extrusion_width': 1.5796617040293035, 'perimeter_extrusion_width': 0.37046688576556513, 'external_perimeter_extrusion_width': 0.4328111975639137, 'infill_extrusion_width': 0.48888003154554904, 'solid_infill_extrusion_width': 0.5035448173817256, 'top_infill_extrusion_width': 0.41248836473652184, 'bridge_flow_ratio': 1.0071792811831024, 'elephant_foot_compensation': 0.3318973226098944, 'flow_multiplier': 1.0029778224116617, 'temperature': 218.89189511981627}. Best is trial 0 with value: 64.0.\u001b[0m\n"
     ]
    },
    {
     "name": "stdout",
     "output_type": "stream",
     "text": [
      "Trial 2 finished with value: 100.0 and parameters: {'first_layer_height': 0.4634382012372382, 'perimeters': 2, 'top_solid_layers': 2, 'bottom_solid_layers': 1, 'fuzzu_skin': 'External perimeters', 'fuzzu_skin_thickness': 0.023785199534818165, 'fill_pattern': 'Gyroid', 'ironing': 'False', 'brim_width': 1, 'extrusion_default': 0.4678611073806569, 'firts_layer_extrusion_width': 1.5796617040293035, 'perimeter_extrusion_width': 0.37046688576556513, 'external_perimeter_extrusion_width': 0.4328111975639137, 'infill_extrusion_width': 0.48888003154554904, 'solid_infill_extrusion_width': 0.5035448173817256, 'top_infill_extrusion_width': 0.41248836473652184, 'bridge_flow_ratio': 1.0071792811831024, 'elephant_foot_compensation': 0.3318973226098944, 'flow_multiplier': 1.0029778224116617, 'temperature': 218.89189511981627}. Best is trial 0 with value: 64.0.\n"
     ]
    },
    {
     "name": "stderr",
     "output_type": "stream",
     "text": [
      "\u001b[32m[I 2023-04-10 22:55:28,278]\u001b[0m Trial 3 finished with value: 169.0 and parameters: {'first_layer_height': 0.3346220162007972, 'perimeters': 4, 'top_solid_layers': 1, 'bottom_solid_layers': 1, 'fuzzu_skin': 'off', 'fuzzu_skin_thickness': 0.019679985420594074, 'fill_pattern': 'Adaptive cubic', 'ironing': 'True', 'brim_width': 6, 'extrusion_default': 0.4747344414111218, 'firts_layer_extrusion_width': 1.651319407638272, 'perimeter_extrusion_width': 0.4197796683955685, 'external_perimeter_extrusion_width': 0.4039855783530052, 'infill_extrusion_width': 0.5291772436392134, 'solid_infill_extrusion_width': 0.5070227974678237, 'top_infill_extrusion_width': 0.6412100117870965, 'bridge_flow_ratio': 1.0326882995636897, 'elephant_foot_compensation': 0.3108478601045609, 'flow_multiplier': 0.922949194590675, 'temperature': 218.98978517414142}. Best is trial 0 with value: 64.0.\u001b[0m\n"
     ]
    },
    {
     "name": "stdout",
     "output_type": "stream",
     "text": [
      "Trial 3 finished with value: 169.0 and parameters: {'first_layer_height': 0.3346220162007972, 'perimeters': 4, 'top_solid_layers': 1, 'bottom_solid_layers': 1, 'fuzzu_skin': 'off', 'fuzzu_skin_thickness': 0.019679985420594074, 'fill_pattern': 'Adaptive cubic', 'ironing': 'True', 'brim_width': 6, 'extrusion_default': 0.4747344414111218, 'firts_layer_extrusion_width': 1.651319407638272, 'perimeter_extrusion_width': 0.4197796683955685, 'external_perimeter_extrusion_width': 0.4039855783530052, 'infill_extrusion_width': 0.5291772436392134, 'solid_infill_extrusion_width': 0.5070227974678237, 'top_infill_extrusion_width': 0.6412100117870965, 'bridge_flow_ratio': 1.0326882995636897, 'elephant_foot_compensation': 0.3108478601045609, 'flow_multiplier': 0.922949194590675, 'temperature': 218.98978517414142}. Best is trial 0 with value: 64.0.\n"
     ]
    },
    {
     "name": "stderr",
     "output_type": "stream",
     "text": [
      "\u001b[32m[I 2023-04-10 22:55:28,285]\u001b[0m Trial 4 finished with value: 4.0 and parameters: {'first_layer_height': 0.2799648533919762, 'perimeters': 3, 'top_solid_layers': 3, 'bottom_solid_layers': 2, 'fuzzu_skin': 'off', 'fuzzu_skin_thickness': 0.010118214352061325, 'fill_pattern': 'Adaptive cubic', 'ironing': 'False', 'brim_width': 2, 'extrusion_default': 0.5317070301839599, 'firts_layer_extrusion_width': 1.4727041621085237, 'perimeter_extrusion_width': 0.3531642485693112, 'external_perimeter_extrusion_width': 0.5358874467487523, 'infill_extrusion_width': 0.4881793835033848, 'solid_infill_extrusion_width': 0.6493307126128701, 'top_infill_extrusion_width': 0.4430851270863322, 'bridge_flow_ratio': 0.9274271499257756, 'elephant_foot_compensation': 0.4662977315185818, 'flow_multiplier': 1.03936363229798, 'temperature': 201.32000345444126}. Best is trial 4 with value: 4.0.\u001b[0m\n"
     ]
    },
    {
     "name": "stdout",
     "output_type": "stream",
     "text": [
      "Trial 4 finished with value: 4.0 and parameters: {'first_layer_height': 0.2799648533919762, 'perimeters': 3, 'top_solid_layers': 3, 'bottom_solid_layers': 2, 'fuzzu_skin': 'off', 'fuzzu_skin_thickness': 0.010118214352061325, 'fill_pattern': 'Adaptive cubic', 'ironing': 'False', 'brim_width': 2, 'extrusion_default': 0.5317070301839599, 'firts_layer_extrusion_width': 1.4727041621085237, 'perimeter_extrusion_width': 0.3531642485693112, 'external_perimeter_extrusion_width': 0.5358874467487523, 'infill_extrusion_width': 0.4881793835033848, 'solid_infill_extrusion_width': 0.6493307126128701, 'top_infill_extrusion_width': 0.4430851270863322, 'bridge_flow_ratio': 0.9274271499257756, 'elephant_foot_compensation': 0.4662977315185818, 'flow_multiplier': 1.03936363229798, 'temperature': 201.32000345444126}. Best is trial 4 with value: 4.0.\n"
     ]
    },
    {
     "name": "stderr",
     "output_type": "stream",
     "text": [
      "\u001b[32m[I 2023-04-10 22:55:28,292]\u001b[0m Trial 5 finished with value: 196.0 and parameters: {'first_layer_height': 0.40218522104098653, 'perimeters': 4, 'top_solid_layers': 5, 'bottom_solid_layers': 4, 'fuzzu_skin': 'off', 'fuzzu_skin_thickness': 0.0111328690081196, 'fill_pattern': 'Gyroid', 'ironing': 'True', 'brim_width': 3, 'extrusion_default': 0.5184061784719212, 'firts_layer_extrusion_width': 0.7738426411678756, 'perimeter_extrusion_width': 0.4058367358022279, 'external_perimeter_extrusion_width': 0.4671518542916576, 'infill_extrusion_width': 0.543919149663935, 'solid_infill_extrusion_width': 0.5402575548139275, 'top_infill_extrusion_width': 0.4046618223432358, 'bridge_flow_ratio': 1.0601265345361233, 'elephant_foot_compensation': 0.11648713692051021, 'flow_multiplier': 1.061421039123756, 'temperature': 207.75721288128344}. Best is trial 4 with value: 4.0.\u001b[0m\n"
     ]
    },
    {
     "name": "stdout",
     "output_type": "stream",
     "text": [
      "Trial 5 finished with value: 196.0 and parameters: {'first_layer_height': 0.40218522104098653, 'perimeters': 4, 'top_solid_layers': 5, 'bottom_solid_layers': 4, 'fuzzu_skin': 'off', 'fuzzu_skin_thickness': 0.0111328690081196, 'fill_pattern': 'Gyroid', 'ironing': 'True', 'brim_width': 3, 'extrusion_default': 0.5184061784719212, 'firts_layer_extrusion_width': 0.7738426411678756, 'perimeter_extrusion_width': 0.4058367358022279, 'external_perimeter_extrusion_width': 0.4671518542916576, 'infill_extrusion_width': 0.543919149663935, 'solid_infill_extrusion_width': 0.5402575548139275, 'top_infill_extrusion_width': 0.4046618223432358, 'bridge_flow_ratio': 1.0601265345361233, 'elephant_foot_compensation': 0.11648713692051021, 'flow_multiplier': 1.061421039123756, 'temperature': 207.75721288128344}. Best is trial 4 with value: 4.0.\n"
     ]
    },
    {
     "name": "stderr",
     "output_type": "stream",
     "text": [
      "\u001b[32m[I 2023-04-10 22:55:28,301]\u001b[0m Trial 6 finished with value: 81.0 and parameters: {'first_layer_height': 0.44541674182377144, 'perimeters': 3, 'top_solid_layers': 3, 'bottom_solid_layers': 1, 'fuzzu_skin': 'External perimeters', 'fuzzu_skin_thickness': 0.012001070266075902, 'fill_pattern': 'Gyroid', 'ironing': 'True', 'brim_width': 0, 'extrusion_default': 0.36439485593789733, 'firts_layer_extrusion_width': 1.9541868620003808, 'perimeter_extrusion_width': 0.46362009238398844, 'external_perimeter_extrusion_width': 0.3906586469321981, 'infill_extrusion_width': 0.4004651489140647, 'solid_infill_extrusion_width': 0.5859564635187733, 'top_infill_extrusion_width': 0.44885737027732975, 'bridge_flow_ratio': 1.0162717854546517, 'elephant_foot_compensation': 0.48500999454415616, 'flow_multiplier': 1.0693657602980071, 'temperature': 204.79695518295173}. Best is trial 4 with value: 4.0.\u001b[0m\n"
     ]
    },
    {
     "name": "stdout",
     "output_type": "stream",
     "text": [
      "Trial 6 finished with value: 81.0 and parameters: {'first_layer_height': 0.44541674182377144, 'perimeters': 3, 'top_solid_layers': 3, 'bottom_solid_layers': 1, 'fuzzu_skin': 'External perimeters', 'fuzzu_skin_thickness': 0.012001070266075902, 'fill_pattern': 'Gyroid', 'ironing': 'True', 'brim_width': 0, 'extrusion_default': 0.36439485593789733, 'firts_layer_extrusion_width': 1.9541868620003808, 'perimeter_extrusion_width': 0.46362009238398844, 'external_perimeter_extrusion_width': 0.3906586469321981, 'infill_extrusion_width': 0.4004651489140647, 'solid_infill_extrusion_width': 0.5859564635187733, 'top_infill_extrusion_width': 0.44885737027732975, 'bridge_flow_ratio': 1.0162717854546517, 'elephant_foot_compensation': 0.48500999454415616, 'flow_multiplier': 1.0693657602980071, 'temperature': 204.79695518295173}. Best is trial 4 with value: 4.0.\n"
     ]
    },
    {
     "name": "stderr",
     "output_type": "stream",
     "text": [
      "\u001b[32m[I 2023-04-10 22:55:28,309]\u001b[0m Trial 7 finished with value: 169.0 and parameters: {'first_layer_height': 0.297507885707492, 'perimeters': 3, 'top_solid_layers': 5, 'bottom_solid_layers': 1, 'fuzzu_skin': 'External perimeters', 'fuzzu_skin_thickness': 0.07324789815255255, 'fill_pattern': 'Adaptive cubic', 'ironing': 'False', 'brim_width': 4, 'extrusion_default': 0.42602823452471006, 'firts_layer_extrusion_width': 1.3713275067650554, 'perimeter_extrusion_width': 0.49906688618130046, 'external_perimeter_extrusion_width': 0.48384657869063696, 'infill_extrusion_width': 0.40298391153256186, 'solid_infill_extrusion_width': 0.4165837086071104, 'top_infill_extrusion_width': 0.4925210494785266, 'bridge_flow_ratio': 1.025943501404313, 'elephant_foot_compensation': 0.1050870049574198, 'flow_multiplier': 1.0505511107477628, 'temperature': 201.3307296270823}. Best is trial 4 with value: 4.0.\u001b[0m\n"
     ]
    },
    {
     "name": "stdout",
     "output_type": "stream",
     "text": [
      "Trial 7 finished with value: 169.0 and parameters: {'first_layer_height': 0.297507885707492, 'perimeters': 3, 'top_solid_layers': 5, 'bottom_solid_layers': 1, 'fuzzu_skin': 'External perimeters', 'fuzzu_skin_thickness': 0.07324789815255255, 'fill_pattern': 'Adaptive cubic', 'ironing': 'False', 'brim_width': 4, 'extrusion_default': 0.42602823452471006, 'firts_layer_extrusion_width': 1.3713275067650554, 'perimeter_extrusion_width': 0.49906688618130046, 'external_perimeter_extrusion_width': 0.48384657869063696, 'infill_extrusion_width': 0.40298391153256186, 'solid_infill_extrusion_width': 0.4165837086071104, 'top_infill_extrusion_width': 0.4925210494785266, 'bridge_flow_ratio': 1.025943501404313, 'elephant_foot_compensation': 0.1050870049574198, 'flow_multiplier': 1.0505511107477628, 'temperature': 201.3307296270823}. Best is trial 4 with value: 4.0.\n"
     ]
    },
    {
     "name": "stderr",
     "output_type": "stream",
     "text": [
      "\u001b[32m[I 2023-04-10 22:55:28,317]\u001b[0m Trial 8 finished with value: 144.0 and parameters: {'first_layer_height': 0.20412603943141638, 'perimeters': 4, 'top_solid_layers': 1, 'bottom_solid_layers': 4, 'fuzzu_skin': 'External perimeters', 'fuzzu_skin_thickness': 0.0293887748463043, 'fill_pattern': 'Gyroid', 'ironing': 'False', 'brim_width': 6, 'extrusion_default': 0.3527903145951194, 'firts_layer_extrusion_width': 0.9281069205699887, 'perimeter_extrusion_width': 0.4733556714003315, 'external_perimeter_extrusion_width': 0.5398032641375233, 'infill_extrusion_width': 0.5400352238494159, 'solid_infill_extrusion_width': 0.5391632970487892, 'top_infill_extrusion_width': 0.6289015874415687, 'bridge_flow_ratio': 1.0283132417892675, 'elephant_foot_compensation': 0.19500385707062312, 'flow_multiplier': 0.997198133419382, 'temperature': 212.08620965839947}. Best is trial 4 with value: 4.0.\u001b[0m\n"
     ]
    },
    {
     "name": "stdout",
     "output_type": "stream",
     "text": [
      "Trial 8 finished with value: 144.0 and parameters: {'first_layer_height': 0.20412603943141638, 'perimeters': 4, 'top_solid_layers': 1, 'bottom_solid_layers': 4, 'fuzzu_skin': 'External perimeters', 'fuzzu_skin_thickness': 0.0293887748463043, 'fill_pattern': 'Gyroid', 'ironing': 'False', 'brim_width': 6, 'extrusion_default': 0.3527903145951194, 'firts_layer_extrusion_width': 0.9281069205699887, 'perimeter_extrusion_width': 0.4733556714003315, 'external_perimeter_extrusion_width': 0.5398032641375233, 'infill_extrusion_width': 0.5400352238494159, 'solid_infill_extrusion_width': 0.5391632970487892, 'top_infill_extrusion_width': 0.6289015874415687, 'bridge_flow_ratio': 1.0283132417892675, 'elephant_foot_compensation': 0.19500385707062312, 'flow_multiplier': 0.997198133419382, 'temperature': 212.08620965839947}. Best is trial 4 with value: 4.0.\n"
     ]
    },
    {
     "name": "stderr",
     "output_type": "stream",
     "text": [
      "\u001b[32m[I 2023-04-10 22:55:28,327]\u001b[0m Trial 9 finished with value: 16.0 and parameters: {'first_layer_height': 0.3198191686034251, 'perimeters': 4, 'top_solid_layers': 5, 'bottom_solid_layers': 2, 'fuzzu_skin': 'off', 'fuzzu_skin_thickness': 0.01677385918953098, 'fill_pattern': 'Gyroid', 'ironing': 'False', 'brim_width': 5, 'extrusion_default': 0.3530037961484245, 'firts_layer_extrusion_width': 0.8466747578050773, 'perimeter_extrusion_width': 0.4164127148733674, 'external_perimeter_extrusion_width': 0.37619936896218337, 'infill_extrusion_width': 0.5118981384253165, 'solid_infill_extrusion_width': 0.48618416317082336, 'top_infill_extrusion_width': 0.6350268705833418, 'bridge_flow_ratio': 1.0164028359894162, 'elephant_foot_compensation': 0.43941599220592203, 'flow_multiplier': 1.0689468890784444, 'temperature': 218.107846374173}. Best is trial 4 with value: 4.0.\u001b[0m\n"
     ]
    },
    {
     "name": "stdout",
     "output_type": "stream",
     "text": [
      "Trial 9 finished with value: 16.0 and parameters: {'first_layer_height': 0.3198191686034251, 'perimeters': 4, 'top_solid_layers': 5, 'bottom_solid_layers': 2, 'fuzzu_skin': 'off', 'fuzzu_skin_thickness': 0.01677385918953098, 'fill_pattern': 'Gyroid', 'ironing': 'False', 'brim_width': 5, 'extrusion_default': 0.3530037961484245, 'firts_layer_extrusion_width': 0.8466747578050773, 'perimeter_extrusion_width': 0.4164127148733674, 'external_perimeter_extrusion_width': 0.37619936896218337, 'infill_extrusion_width': 0.5118981384253165, 'solid_infill_extrusion_width': 0.48618416317082336, 'top_infill_extrusion_width': 0.6350268705833418, 'bridge_flow_ratio': 1.0164028359894162, 'elephant_foot_compensation': 0.43941599220592203, 'flow_multiplier': 1.0689468890784444, 'temperature': 218.107846374173}. Best is trial 4 with value: 4.0.\n"
     ]
    },
    {
     "name": "stderr",
     "output_type": "stream",
     "text": [
      "\u001b[32m[I 2023-04-10 22:55:28,470]\u001b[0m Trial 10 finished with value: 144.0 and parameters: {'first_layer_height': 0.11231922054202215, 'perimeters': 1, 'top_solid_layers': 3, 'bottom_solid_layers': 5, 'fuzzu_skin': 'off', 'fuzzu_skin_thickness': 0.054533787244688006, 'fill_pattern': 'Adaptive cubic', 'ironing': 'False', 'brim_width': 2, 'extrusion_default': 0.5461931978418108, 'firts_layer_extrusion_width': 1.1837447664071101, 'perimeter_extrusion_width': 0.35062602220699796, 'external_perimeter_extrusion_width': 0.5448218169371519, 'infill_extrusion_width': 0.4639108238815979, 'solid_infill_extrusion_width': 0.6316061815759493, 'top_infill_extrusion_width': 0.5004823229956704, 'bridge_flow_ratio': 0.9029838100533132, 'elephant_foot_compensation': 0.492724196255976, 'flow_multiplier': 1.0136742591121628, 'temperature': 200.19841755231724}. Best is trial 4 with value: 4.0.\u001b[0m\n"
     ]
    },
    {
     "name": "stdout",
     "output_type": "stream",
     "text": [
      "Trial 10 finished with value: 144.0 and parameters: {'first_layer_height': 0.11231922054202215, 'perimeters': 1, 'top_solid_layers': 3, 'bottom_solid_layers': 5, 'fuzzu_skin': 'off', 'fuzzu_skin_thickness': 0.054533787244688006, 'fill_pattern': 'Adaptive cubic', 'ironing': 'False', 'brim_width': 2, 'extrusion_default': 0.5461931978418108, 'firts_layer_extrusion_width': 1.1837447664071101, 'perimeter_extrusion_width': 0.35062602220699796, 'external_perimeter_extrusion_width': 0.5448218169371519, 'infill_extrusion_width': 0.4639108238815979, 'solid_infill_extrusion_width': 0.6316061815759493, 'top_infill_extrusion_width': 0.5004823229956704, 'bridge_flow_ratio': 0.9029838100533132, 'elephant_foot_compensation': 0.492724196255976, 'flow_multiplier': 1.0136742591121628, 'temperature': 200.19841755231724}. Best is trial 4 with value: 4.0.\n"
     ]
    }
   ],
   "source": [
    "\n",
    "\n",
    "# Add stream handler of stdout to show the messages\n",
    "optuna.logging.get_logger(\"optuna\").addHandler(logging.StreamHandler(sys.stdout))\n",
    "study_name = \"printer_param_find\"  # Unique identifier of the study.\n",
    "# storage_name = \"sqlite:///{}.db\".format(study_name)\n",
    "sampler = optuna.samplers.TPESampler(seed=1)\n",
    "\n",
    "# study = optuna.create_study(study_name=study_name, storage=storage_name, sampler=sampler)\n",
    "study = optuna.create_study(study_name=study_name, sampler=sampler)\n",
    "\n",
    "def objective(trial):\n",
    "    # слои и периметры\n",
    "    layers_01_first_layer = trial.suggest_float(\"first_layer_height\", 0.1, 0.5)\n",
    "    layers_01_perimeters = trial.suggest_int(\"perimeters\", 1, 4)\n",
    "    layers_01_top_solid_layers = trial.suggest_int(\"top_solid_layers\", 1, 5)\n",
    "    layers_01_bottom_solid_layers = trial.suggest_int(\"bottom_solid_layers\", 1, 5)\n",
    "    layers_01_fuzzu_skin = trial.suggest_categorical(\"fuzzu_skin\",[\"off\", \"External perimeters\"])\n",
    "    layers_01_fuzzu_skin = trial.suggest_float(\"fuzzu_skin_thickness\", 0.01, 0.6, log=True)\n",
    "    # заполнение\n",
    "    layers_02_fill_pattern = trial.suggest_categorical(\"fill_pattern\",[\"Adaptive cubic\", \"Gyroid\"])\n",
    "    layers_02_ironing = trial.suggest_categorical(\"ironing\",[\"True\", \"False\"])\n",
    "    # юбка и кайма\n",
    "    layers_03_brim_width = trial.suggest_int(\"brim_width\", 0, 6)\n",
    "    # extrusion\n",
    "    extrusion_default = trial.suggest_float(\"extrusion_default\", 0.35, 0.55)\n",
    "    firts_layer_extrusion_width = trial.suggest_float(\"firts_layer_extrusion_width\", 0.6, 2)\n",
    "    perimeter_extrusion_width = trial.suggest_float(\"perimeter_extrusion_width\", 0.35, 0.55)\n",
    "    external_perimeter_extrusion_width = trial.suggest_float(\"external_perimeter_extrusion_width\", 0.35, 0.55)\n",
    "    infill_extrusion_width = trial.suggest_float(\"infill_extrusion_width\", 0.35, 0.55)\n",
    "    solid_infill_extrusion_width = trial.suggest_float(\"solid_infill_extrusion_width\", 0.4, 0.65)\n",
    "    top_infill_extrusion_width = trial.suggest_float(\"top_infill_extrusion_width\", 0.4, 0.65)\n",
    "    bridge_flow_ratio = trial.suggest_float(\"bridge_flow_ratio\", 0.9, 1.1)\n",
    "    elephant_foot_compensation = trial.suggest_float(\"elephant_foot_compensation\", 0.0, 0.5)\n",
    "    # filament\n",
    "    flow_multiplier = trial.suggest_float(\"flow_multiplier\", 0.9, 1.1)\n",
    "    temperature = trial.suggest_float(\"temperature\", 200, 220)\n",
    "\n",
    "    #  if trial.number is higher than score_dict_len, then return (0 - 18)**2\n",
    "    if trial.number < score_dict_len:\n",
    "        return (score_dict[trial.number] -18)**2\n",
    "    else:\n",
    "        return (0 - 18)**2\n",
    "\n",
    "    # for i in range(0, score_dict_len):\n",
    "    #     if i == trial.number:\n",
    "    #         return (score_dict[i] -18)**2\n",
    "    #     else:\n",
    "    #         return (0 - 18)**2\n",
    "        \n",
    "    \n",
    "\n",
    "study.optimize(objective, n_trials=score_dict_len)\n",
    "\n"
   ]
  },
  {
   "cell_type": "code",
   "execution_count": 17,
   "metadata": {},
   "outputs": [
    {
     "data": {
      "application/vnd.plotly.v1+json": {
       "config": {
        "plotlyServerURL": "https://plot.ly"
       },
       "data": [
        {
         "dimensions": [
          {
           "label": "Objective Value",
           "range": [
            4,
            196
           ],
           "values": [
            64,
            100,
            100,
            169,
            4,
            196,
            81,
            169,
            144,
            144
           ]
          },
          {
           "label": "bottom_solid_layers",
           "range": [
            1,
            4
           ],
           "values": [
            2,
            1,
            1,
            1,
            2,
            4,
            1,
            1,
            4,
            2
           ]
          },
          {
           "label": "bridge_flow_ratio",
           "range": [
            0.9274271499257756,
            1.0601265345361233
           ],
           "values": [
            0.9396202978169758,
            0.9560887984128811,
            1.0071792811831024,
            1.0326882995636897,
            0.9274271499257756,
            1.0601265345361233,
            1.0162717854546517,
            1.025943501404313,
            1.0283132417892675,
            1.0164028359894162
           ]
          },
          {
           "label": "brim_width",
           "range": [
            0,
            6
           ],
           "values": [
            4,
            4,
            1,
            6,
            2,
            3,
            0,
            4,
            6,
            5
           ]
          },
          {
           "label": "elephant_foot_com...",
           "range": [
            0.1050870049574198,
            0.48500999454415616
           ],
           "values": [
            0.40037228433776834,
            0.39463966422574426,
            0.3318973226098944,
            0.3108478601045609,
            0.4662977315185818,
            0.11648713692051021,
            0.48500999454415616,
            0.1050870049574198,
            0.19500385707062312,
            0.43941599220592203
           ]
          },
          {
           "label": "external_perimete...",
           "range": [
            0.3536576554688383,
            0.5398032641375233
           ],
           "values": [
            0.48409350203568047,
            0.3536576554688383,
            0.4328111975639137,
            0.4039855783530052,
            0.5358874467487523,
            0.4671518542916576,
            0.3906586469321981,
            0.48384657869063696,
            0.5398032641375233,
            0.37619936896218337
           ]
          },
          {
           "label": "extrusion_default",
           "range": [
            0.3527903145951194,
            0.5317070301839599
           ],
           "values": [
            0.3908904499463035,
            0.4131031262012126,
            0.4678611073806569,
            0.4747344414111218,
            0.5317070301839599,
            0.5184061784719212,
            0.36439485593789733,
            0.42602823452471006,
            0.3527903145951194,
            0.3530037961484245
           ]
          },
          {
           "label": "fill_pattern",
           "range": [
            0,
            1
           ],
           "ticktext": [
            "Gyroid",
            "Adaptive cubic"
           ],
           "tickvals": [
            0,
            1
           ],
           "values": [
            0,
            0,
            0,
            1,
            1,
            0,
            0,
            1,
            0,
            0
           ]
          },
          {
           "label": "first_layer_height",
           "range": [
            0.20412603943141638,
            0.4634382012372382
           ],
           "values": [
            0.2668088018810296,
            0.3769290462677256,
            0.4634382012372382,
            0.3346220162007972,
            0.2799648533919762,
            0.40218522104098653,
            0.44541674182377144,
            0.297507885707492,
            0.20412603943141638,
            0.3198191686034251
           ]
          },
          {
           "label": "firts_layer_extru...",
           "range": [
            0.7738426411678756,
            1.9541868620003808
           ],
           "values": [
            1.8293644109473233,
            1.561101298754217,
            1.5796617040293035,
            1.651319407638272,
            1.4727041621085237,
            0.7738426411678756,
            1.9541868620003808,
            1.3713275067650554,
            0.9281069205699887,
            0.8466747578050773
           ]
          },
          {
           "label": "flow_multiplier",
           "range": [
            0.9206452013155284,
            1.0936523151438795
           ],
           "values": [
            1.0936523151438795,
            0.9206452013155284,
            1.0029778224116617,
            0.922949194590675,
            1.03936363229798,
            1.061421039123756,
            1.0693657602980071,
            1.0505511107477628,
            0.997198133419382,
            1.0689468890784444
           ]
          },
          {
           "label": "fuzzu_skin",
           "range": [
            0,
            1
           ],
           "ticktext": [
            "off",
            "External perimeters"
           ],
           "tickvals": [
            0,
            1
           ],
           "values": [
            0,
            1,
            1,
            0,
            0,
            0,
            1,
            1,
            1,
            0
           ]
          },
          {
           "label": "fuzzu_skin_thickn...",
           "range": [
            -1.9948961244005345,
            -0.43852980951196585
           ],
           "ticktext": [
            "0.0101",
            "0.1",
            "0.364"
           ],
           "tickvals": [
            -1.9948961244005345,
            -1,
            -0.43852980951196585
           ],
           "values": [
            -1.6688011722420726,
            -0.43852980951196585,
            -1.6236932009181602,
            -1.7059752276403424,
            -1.9948961244005345,
            -1.953392900909594,
            -1.9207800214586916,
            -1.135204832869345,
            -1.5318185183363682,
            -1.7753670070480438
           ]
          },
          {
           "label": "infill_extrusion_...",
           "range": [
            0.4004651489140647,
            0.543919149663935
           ],
           "values": [
            0.4334609604734254,
            0.5000288629889935,
            0.48888003154554904,
            0.5291772436392134,
            0.4881793835033848,
            0.543919149663935,
            0.4004651489140647,
            0.40298391153256186,
            0.5400352238494159,
            0.5118981384253165
           ]
          },
          {
           "label": "ironing",
           "range": [
            0,
            1
           ],
           "ticktext": [
            "True",
            "False"
           ],
           "tickvals": [
            0,
            1
           ],
           "values": [
            0,
            0,
            1,
            0,
            1,
            0,
            0,
            1,
            1,
            1
           ]
          },
          {
           "label": "perimeter_extrusi...",
           "range": [
            0.3531642485693112,
            0.5169251343794746
           ],
           "values": [
            0.3554775186395852,
            0.5169251343794746,
            0.37046688576556513,
            0.4197796683955685,
            0.3531642485693112,
            0.4058367358022279,
            0.46362009238398844,
            0.49906688618130046,
            0.4733556714003315,
            0.4164127148733674
           ]
          },
          {
           "label": "perimeters",
           "range": [
            2,
            4
           ],
           "values": [
            3,
            4,
            2,
            4,
            3,
            4,
            3,
            3,
            4,
            4
           ]
          },
          {
           "label": "solid_infill_extr...",
           "range": [
            0.4165837086071104,
            0.6493307126128701
           ],
           "values": [
            0.539672457111438,
            0.6472152722266237,
            0.5035448173817256,
            0.5070227974678237,
            0.6493307126128701,
            0.5402575548139275,
            0.5859564635187733,
            0.4165837086071104,
            0.5391632970487892,
            0.48618416317082336
           ]
          },
          {
           "label": "temperature",
           "range": [
            201.32000345444126,
            218.98978517414142
           ],
           "values": [
            206.26848356318484,
            208.9578705235181,
            218.89189511981627,
            218.98978517414142,
            201.32000345444126,
            207.75721288128344,
            204.79695518295173,
            201.3307296270823,
            212.08620965839947,
            218.107846374173
           ]
          },
          {
           "label": "top_infill_extrus...",
           "range": [
            0.4046618223432358,
            0.6412100117870965
           ],
           "values": [
            0.4350967346488085,
            0.5870414135949599,
            0.41248836473652184,
            0.6412100117870965,
            0.4430851270863322,
            0.4046618223432358,
            0.44885737027732975,
            0.4925210494785266,
            0.6289015874415687,
            0.6350268705833418
           ]
          },
          {
           "label": "top_solid_layers",
           "range": [
            1,
            5
           ],
           "values": [
            1,
            5,
            2,
            1,
            3,
            5,
            3,
            5,
            1,
            5
           ]
          }
         ],
         "labelangle": 30,
         "labelside": "bottom",
         "line": {
          "color": [
           64,
           100,
           100,
           169,
           4,
           196,
           81,
           169,
           144,
           144
          ],
          "colorbar": {
           "title": {
            "text": "Objective Value"
           }
          },
          "colorscale": [
           [
            0,
            "rgb(247,251,255)"
           ],
           [
            0.125,
            "rgb(222,235,247)"
           ],
           [
            0.25,
            "rgb(198,219,239)"
           ],
           [
            0.375,
            "rgb(158,202,225)"
           ],
           [
            0.5,
            "rgb(107,174,214)"
           ],
           [
            0.625,
            "rgb(66,146,198)"
           ],
           [
            0.75,
            "rgb(33,113,181)"
           ],
           [
            0.875,
            "rgb(8,81,156)"
           ],
           [
            1,
            "rgb(8,48,107)"
           ]
          ],
          "reversescale": true,
          "showscale": true
         },
         "type": "parcoords"
        }
       ],
       "layout": {
        "template": {
         "data": {
          "bar": [
           {
            "error_x": {
             "color": "#2a3f5f"
            },
            "error_y": {
             "color": "#2a3f5f"
            },
            "marker": {
             "line": {
              "color": "#E5ECF6",
              "width": 0.5
             },
             "pattern": {
              "fillmode": "overlay",
              "size": 10,
              "solidity": 0.2
             }
            },
            "type": "bar"
           }
          ],
          "barpolar": [
           {
            "marker": {
             "line": {
              "color": "#E5ECF6",
              "width": 0.5
             },
             "pattern": {
              "fillmode": "overlay",
              "size": 10,
              "solidity": 0.2
             }
            },
            "type": "barpolar"
           }
          ],
          "carpet": [
           {
            "aaxis": {
             "endlinecolor": "#2a3f5f",
             "gridcolor": "white",
             "linecolor": "white",
             "minorgridcolor": "white",
             "startlinecolor": "#2a3f5f"
            },
            "baxis": {
             "endlinecolor": "#2a3f5f",
             "gridcolor": "white",
             "linecolor": "white",
             "minorgridcolor": "white",
             "startlinecolor": "#2a3f5f"
            },
            "type": "carpet"
           }
          ],
          "choropleth": [
           {
            "colorbar": {
             "outlinewidth": 0,
             "ticks": ""
            },
            "type": "choropleth"
           }
          ],
          "contour": [
           {
            "colorbar": {
             "outlinewidth": 0,
             "ticks": ""
            },
            "colorscale": [
             [
              0,
              "#0d0887"
             ],
             [
              0.1111111111111111,
              "#46039f"
             ],
             [
              0.2222222222222222,
              "#7201a8"
             ],
             [
              0.3333333333333333,
              "#9c179e"
             ],
             [
              0.4444444444444444,
              "#bd3786"
             ],
             [
              0.5555555555555556,
              "#d8576b"
             ],
             [
              0.6666666666666666,
              "#ed7953"
             ],
             [
              0.7777777777777778,
              "#fb9f3a"
             ],
             [
              0.8888888888888888,
              "#fdca26"
             ],
             [
              1,
              "#f0f921"
             ]
            ],
            "type": "contour"
           }
          ],
          "contourcarpet": [
           {
            "colorbar": {
             "outlinewidth": 0,
             "ticks": ""
            },
            "type": "contourcarpet"
           }
          ],
          "heatmap": [
           {
            "colorbar": {
             "outlinewidth": 0,
             "ticks": ""
            },
            "colorscale": [
             [
              0,
              "#0d0887"
             ],
             [
              0.1111111111111111,
              "#46039f"
             ],
             [
              0.2222222222222222,
              "#7201a8"
             ],
             [
              0.3333333333333333,
              "#9c179e"
             ],
             [
              0.4444444444444444,
              "#bd3786"
             ],
             [
              0.5555555555555556,
              "#d8576b"
             ],
             [
              0.6666666666666666,
              "#ed7953"
             ],
             [
              0.7777777777777778,
              "#fb9f3a"
             ],
             [
              0.8888888888888888,
              "#fdca26"
             ],
             [
              1,
              "#f0f921"
             ]
            ],
            "type": "heatmap"
           }
          ],
          "heatmapgl": [
           {
            "colorbar": {
             "outlinewidth": 0,
             "ticks": ""
            },
            "colorscale": [
             [
              0,
              "#0d0887"
             ],
             [
              0.1111111111111111,
              "#46039f"
             ],
             [
              0.2222222222222222,
              "#7201a8"
             ],
             [
              0.3333333333333333,
              "#9c179e"
             ],
             [
              0.4444444444444444,
              "#bd3786"
             ],
             [
              0.5555555555555556,
              "#d8576b"
             ],
             [
              0.6666666666666666,
              "#ed7953"
             ],
             [
              0.7777777777777778,
              "#fb9f3a"
             ],
             [
              0.8888888888888888,
              "#fdca26"
             ],
             [
              1,
              "#f0f921"
             ]
            ],
            "type": "heatmapgl"
           }
          ],
          "histogram": [
           {
            "marker": {
             "pattern": {
              "fillmode": "overlay",
              "size": 10,
              "solidity": 0.2
             }
            },
            "type": "histogram"
           }
          ],
          "histogram2d": [
           {
            "colorbar": {
             "outlinewidth": 0,
             "ticks": ""
            },
            "colorscale": [
             [
              0,
              "#0d0887"
             ],
             [
              0.1111111111111111,
              "#46039f"
             ],
             [
              0.2222222222222222,
              "#7201a8"
             ],
             [
              0.3333333333333333,
              "#9c179e"
             ],
             [
              0.4444444444444444,
              "#bd3786"
             ],
             [
              0.5555555555555556,
              "#d8576b"
             ],
             [
              0.6666666666666666,
              "#ed7953"
             ],
             [
              0.7777777777777778,
              "#fb9f3a"
             ],
             [
              0.8888888888888888,
              "#fdca26"
             ],
             [
              1,
              "#f0f921"
             ]
            ],
            "type": "histogram2d"
           }
          ],
          "histogram2dcontour": [
           {
            "colorbar": {
             "outlinewidth": 0,
             "ticks": ""
            },
            "colorscale": [
             [
              0,
              "#0d0887"
             ],
             [
              0.1111111111111111,
              "#46039f"
             ],
             [
              0.2222222222222222,
              "#7201a8"
             ],
             [
              0.3333333333333333,
              "#9c179e"
             ],
             [
              0.4444444444444444,
              "#bd3786"
             ],
             [
              0.5555555555555556,
              "#d8576b"
             ],
             [
              0.6666666666666666,
              "#ed7953"
             ],
             [
              0.7777777777777778,
              "#fb9f3a"
             ],
             [
              0.8888888888888888,
              "#fdca26"
             ],
             [
              1,
              "#f0f921"
             ]
            ],
            "type": "histogram2dcontour"
           }
          ],
          "mesh3d": [
           {
            "colorbar": {
             "outlinewidth": 0,
             "ticks": ""
            },
            "type": "mesh3d"
           }
          ],
          "parcoords": [
           {
            "line": {
             "colorbar": {
              "outlinewidth": 0,
              "ticks": ""
             }
            },
            "type": "parcoords"
           }
          ],
          "pie": [
           {
            "automargin": true,
            "type": "pie"
           }
          ],
          "scatter": [
           {
            "fillpattern": {
             "fillmode": "overlay",
             "size": 10,
             "solidity": 0.2
            },
            "type": "scatter"
           }
          ],
          "scatter3d": [
           {
            "line": {
             "colorbar": {
              "outlinewidth": 0,
              "ticks": ""
             }
            },
            "marker": {
             "colorbar": {
              "outlinewidth": 0,
              "ticks": ""
             }
            },
            "type": "scatter3d"
           }
          ],
          "scattercarpet": [
           {
            "marker": {
             "colorbar": {
              "outlinewidth": 0,
              "ticks": ""
             }
            },
            "type": "scattercarpet"
           }
          ],
          "scattergeo": [
           {
            "marker": {
             "colorbar": {
              "outlinewidth": 0,
              "ticks": ""
             }
            },
            "type": "scattergeo"
           }
          ],
          "scattergl": [
           {
            "marker": {
             "colorbar": {
              "outlinewidth": 0,
              "ticks": ""
             }
            },
            "type": "scattergl"
           }
          ],
          "scattermapbox": [
           {
            "marker": {
             "colorbar": {
              "outlinewidth": 0,
              "ticks": ""
             }
            },
            "type": "scattermapbox"
           }
          ],
          "scatterpolar": [
           {
            "marker": {
             "colorbar": {
              "outlinewidth": 0,
              "ticks": ""
             }
            },
            "type": "scatterpolar"
           }
          ],
          "scatterpolargl": [
           {
            "marker": {
             "colorbar": {
              "outlinewidth": 0,
              "ticks": ""
             }
            },
            "type": "scatterpolargl"
           }
          ],
          "scatterternary": [
           {
            "marker": {
             "colorbar": {
              "outlinewidth": 0,
              "ticks": ""
             }
            },
            "type": "scatterternary"
           }
          ],
          "surface": [
           {
            "colorbar": {
             "outlinewidth": 0,
             "ticks": ""
            },
            "colorscale": [
             [
              0,
              "#0d0887"
             ],
             [
              0.1111111111111111,
              "#46039f"
             ],
             [
              0.2222222222222222,
              "#7201a8"
             ],
             [
              0.3333333333333333,
              "#9c179e"
             ],
             [
              0.4444444444444444,
              "#bd3786"
             ],
             [
              0.5555555555555556,
              "#d8576b"
             ],
             [
              0.6666666666666666,
              "#ed7953"
             ],
             [
              0.7777777777777778,
              "#fb9f3a"
             ],
             [
              0.8888888888888888,
              "#fdca26"
             ],
             [
              1,
              "#f0f921"
             ]
            ],
            "type": "surface"
           }
          ],
          "table": [
           {
            "cells": {
             "fill": {
              "color": "#EBF0F8"
             },
             "line": {
              "color": "white"
             }
            },
            "header": {
             "fill": {
              "color": "#C8D4E3"
             },
             "line": {
              "color": "white"
             }
            },
            "type": "table"
           }
          ]
         },
         "layout": {
          "annotationdefaults": {
           "arrowcolor": "#2a3f5f",
           "arrowhead": 0,
           "arrowwidth": 1
          },
          "autotypenumbers": "strict",
          "coloraxis": {
           "colorbar": {
            "outlinewidth": 0,
            "ticks": ""
           }
          },
          "colorscale": {
           "diverging": [
            [
             0,
             "#8e0152"
            ],
            [
             0.1,
             "#c51b7d"
            ],
            [
             0.2,
             "#de77ae"
            ],
            [
             0.3,
             "#f1b6da"
            ],
            [
             0.4,
             "#fde0ef"
            ],
            [
             0.5,
             "#f7f7f7"
            ],
            [
             0.6,
             "#e6f5d0"
            ],
            [
             0.7,
             "#b8e186"
            ],
            [
             0.8,
             "#7fbc41"
            ],
            [
             0.9,
             "#4d9221"
            ],
            [
             1,
             "#276419"
            ]
           ],
           "sequential": [
            [
             0,
             "#0d0887"
            ],
            [
             0.1111111111111111,
             "#46039f"
            ],
            [
             0.2222222222222222,
             "#7201a8"
            ],
            [
             0.3333333333333333,
             "#9c179e"
            ],
            [
             0.4444444444444444,
             "#bd3786"
            ],
            [
             0.5555555555555556,
             "#d8576b"
            ],
            [
             0.6666666666666666,
             "#ed7953"
            ],
            [
             0.7777777777777778,
             "#fb9f3a"
            ],
            [
             0.8888888888888888,
             "#fdca26"
            ],
            [
             1,
             "#f0f921"
            ]
           ],
           "sequentialminus": [
            [
             0,
             "#0d0887"
            ],
            [
             0.1111111111111111,
             "#46039f"
            ],
            [
             0.2222222222222222,
             "#7201a8"
            ],
            [
             0.3333333333333333,
             "#9c179e"
            ],
            [
             0.4444444444444444,
             "#bd3786"
            ],
            [
             0.5555555555555556,
             "#d8576b"
            ],
            [
             0.6666666666666666,
             "#ed7953"
            ],
            [
             0.7777777777777778,
             "#fb9f3a"
            ],
            [
             0.8888888888888888,
             "#fdca26"
            ],
            [
             1,
             "#f0f921"
            ]
           ]
          },
          "colorway": [
           "#636efa",
           "#EF553B",
           "#00cc96",
           "#ab63fa",
           "#FFA15A",
           "#19d3f3",
           "#FF6692",
           "#B6E880",
           "#FF97FF",
           "#FECB52"
          ],
          "font": {
           "color": "#2a3f5f"
          },
          "geo": {
           "bgcolor": "white",
           "lakecolor": "white",
           "landcolor": "#E5ECF6",
           "showlakes": true,
           "showland": true,
           "subunitcolor": "white"
          },
          "hoverlabel": {
           "align": "left"
          },
          "hovermode": "closest",
          "mapbox": {
           "style": "light"
          },
          "paper_bgcolor": "white",
          "plot_bgcolor": "#E5ECF6",
          "polar": {
           "angularaxis": {
            "gridcolor": "white",
            "linecolor": "white",
            "ticks": ""
           },
           "bgcolor": "#E5ECF6",
           "radialaxis": {
            "gridcolor": "white",
            "linecolor": "white",
            "ticks": ""
           }
          },
          "scene": {
           "xaxis": {
            "backgroundcolor": "#E5ECF6",
            "gridcolor": "white",
            "gridwidth": 2,
            "linecolor": "white",
            "showbackground": true,
            "ticks": "",
            "zerolinecolor": "white"
           },
           "yaxis": {
            "backgroundcolor": "#E5ECF6",
            "gridcolor": "white",
            "gridwidth": 2,
            "linecolor": "white",
            "showbackground": true,
            "ticks": "",
            "zerolinecolor": "white"
           },
           "zaxis": {
            "backgroundcolor": "#E5ECF6",
            "gridcolor": "white",
            "gridwidth": 2,
            "linecolor": "white",
            "showbackground": true,
            "ticks": "",
            "zerolinecolor": "white"
           }
          },
          "shapedefaults": {
           "line": {
            "color": "#2a3f5f"
           }
          },
          "ternary": {
           "aaxis": {
            "gridcolor": "white",
            "linecolor": "white",
            "ticks": ""
           },
           "baxis": {
            "gridcolor": "white",
            "linecolor": "white",
            "ticks": ""
           },
           "bgcolor": "#E5ECF6",
           "caxis": {
            "gridcolor": "white",
            "linecolor": "white",
            "ticks": ""
           }
          },
          "title": {
           "x": 0.05
          },
          "xaxis": {
           "automargin": true,
           "gridcolor": "white",
           "linecolor": "white",
           "ticks": "",
           "title": {
            "standoff": 15
           },
           "zerolinecolor": "white",
           "zerolinewidth": 2
          },
          "yaxis": {
           "automargin": true,
           "gridcolor": "white",
           "linecolor": "white",
           "ticks": "",
           "title": {
            "standoff": 15
           },
           "zerolinecolor": "white",
           "zerolinewidth": 2
          }
         }
        },
        "title": {
         "text": "Parallel Coordinate Plot"
        }
       }
      }
     },
     "metadata": {},
     "output_type": "display_data"
    }
   ],
   "source": [
    "fig = optuna.visualization.plot_parallel_coordinate(study, params=['first_layer_height', 'perimeters', 'top_solid_layers', 'bottom_solid_layers', 'fuzzu_skin', 'fuzzu_skin_thickness', 'fill_pattern', 'ironing', 'brim_width', 'extrusion_default', 'firts_layer_extrusion_width', 'perimeter_extrusion_width', 'external_perimeter_extrusion_width', 'infill_extrusion_width', 'solid_infill_extrusion_width', 'top_infill_extrusion_width', 'bridge_flow_ratio', 'elephant_foot_compensation', 'flow_multiplier', 'temperature'])\n",
    "fig.show()\n"
   ]
  },
  {
   "cell_type": "code",
   "execution_count": 18,
   "metadata": {},
   "outputs": [
    {
     "data": {
      "text/html": [
       "<div>\n",
       "<style scoped>\n",
       "    .dataframe tbody tr th:only-of-type {\n",
       "        vertical-align: middle;\n",
       "    }\n",
       "\n",
       "    .dataframe tbody tr th {\n",
       "        vertical-align: top;\n",
       "    }\n",
       "\n",
       "    .dataframe thead th {\n",
       "        text-align: right;\n",
       "    }\n",
       "</style>\n",
       "<table border=\"1\" class=\"dataframe\">\n",
       "  <thead>\n",
       "    <tr style=\"text-align: right;\">\n",
       "      <th></th>\n",
       "      <th>datetime</th>\n",
       "      <th>OH</th>\n",
       "      <th>GACI</th>\n",
       "      <th>STR</th>\n",
       "      <th>DEL</th>\n",
       "      <th>NOWH</th>\n",
       "      <th>NOSUPbridge</th>\n",
       "      <th>NOSUPshell</th>\n",
       "      <th>BL</th>\n",
       "      <th>RIN</th>\n",
       "      <th>AQI</th>\n",
       "      <th>first_layer_height</th>\n",
       "      <th>perimeters</th>\n",
       "      <th>top_solid_layers</th>\n",
       "      <th>bottom_solid_layers</th>\n",
       "      <th>fuzzu_skin</th>\n",
       "      <th>fuzzu_skin_thickness</th>\n",
       "      <th>fill_pattern</th>\n",
       "      <th>ironing</th>\n",
       "      <th>brim_width</th>\n",
       "      <th>extrusion_default</th>\n",
       "      <th>firts_layer_extrusion_width</th>\n",
       "      <th>perimeter_extrusion_width</th>\n",
       "      <th>external_perimeter_extrusion_width</th>\n",
       "      <th>infill_extrusion_width</th>\n",
       "      <th>solid_infill_extrusion_width</th>\n",
       "      <th>top_infill_extrusion_width</th>\n",
       "      <th>bridge_flow_ratio</th>\n",
       "      <th>elephant_foot_compensation</th>\n",
       "      <th>flow_multiplier</th>\n",
       "      <th>temperature</th>\n",
       "    </tr>\n",
       "  </thead>\n",
       "  <tbody>\n",
       "    <tr>\n",
       "      <th>0</th>\n",
       "      <td>2023-01-06 23:50:00+03:00</td>\n",
       "      <td>2</td>\n",
       "      <td>0</td>\n",
       "      <td>0</td>\n",
       "      <td>2</td>\n",
       "      <td>1</td>\n",
       "      <td>1</td>\n",
       "      <td>2</td>\n",
       "      <td>1</td>\n",
       "      <td>1</td>\n",
       "      <td>10</td>\n",
       "      <td>0.266809</td>\n",
       "      <td>3</td>\n",
       "      <td>1</td>\n",
       "      <td>2</td>\n",
       "      <td>off</td>\n",
       "      <td>0.021439</td>\n",
       "      <td>Gyroid</td>\n",
       "      <td>True</td>\n",
       "      <td>4</td>\n",
       "      <td>0.390890</td>\n",
       "      <td>1.829364</td>\n",
       "      <td>0.355478</td>\n",
       "      <td>0.484094</td>\n",
       "      <td>0.433461</td>\n",
       "      <td>0.539672</td>\n",
       "      <td>0.435097</td>\n",
       "      <td>0.939620</td>\n",
       "      <td>0.400372</td>\n",
       "      <td>1.093652</td>\n",
       "      <td>206.268484</td>\n",
       "    </tr>\n",
       "    <tr>\n",
       "      <th>1</th>\n",
       "      <td>2023-01-07 08:40:00+03:00</td>\n",
       "      <td>1</td>\n",
       "      <td>1</td>\n",
       "      <td>2</td>\n",
       "      <td>2</td>\n",
       "      <td>0</td>\n",
       "      <td>1</td>\n",
       "      <td>1</td>\n",
       "      <td>0</td>\n",
       "      <td>0</td>\n",
       "      <td>8</td>\n",
       "      <td>0.376929</td>\n",
       "      <td>4</td>\n",
       "      <td>5</td>\n",
       "      <td>1</td>\n",
       "      <td>External perimeters</td>\n",
       "      <td>0.364309</td>\n",
       "      <td>Gyroid</td>\n",
       "      <td>True</td>\n",
       "      <td>4</td>\n",
       "      <td>0.413103</td>\n",
       "      <td>1.561101</td>\n",
       "      <td>0.516925</td>\n",
       "      <td>0.353658</td>\n",
       "      <td>0.500029</td>\n",
       "      <td>0.647215</td>\n",
       "      <td>0.587041</td>\n",
       "      <td>0.956089</td>\n",
       "      <td>0.394640</td>\n",
       "      <td>0.920645</td>\n",
       "      <td>208.957871</td>\n",
       "    </tr>\n",
       "    <tr>\n",
       "      <th>2</th>\n",
       "      <td>2023-01-08 23:00:00+03:00</td>\n",
       "      <td>1</td>\n",
       "      <td>1</td>\n",
       "      <td>1</td>\n",
       "      <td>2</td>\n",
       "      <td>0</td>\n",
       "      <td>1</td>\n",
       "      <td>2</td>\n",
       "      <td>0</td>\n",
       "      <td>0</td>\n",
       "      <td>8</td>\n",
       "      <td>0.463438</td>\n",
       "      <td>2</td>\n",
       "      <td>2</td>\n",
       "      <td>1</td>\n",
       "      <td>External perimeters</td>\n",
       "      <td>0.023785</td>\n",
       "      <td>Gyroid</td>\n",
       "      <td>False</td>\n",
       "      <td>1</td>\n",
       "      <td>0.467861</td>\n",
       "      <td>1.579662</td>\n",
       "      <td>0.370467</td>\n",
       "      <td>0.432811</td>\n",
       "      <td>0.488880</td>\n",
       "      <td>0.503545</td>\n",
       "      <td>0.412488</td>\n",
       "      <td>1.007179</td>\n",
       "      <td>0.331897</td>\n",
       "      <td>1.002978</td>\n",
       "      <td>218.891895</td>\n",
       "    </tr>\n",
       "    <tr>\n",
       "      <th>3</th>\n",
       "      <td>2023-01-09 23:00:00+03:00</td>\n",
       "      <td>1</td>\n",
       "      <td>0</td>\n",
       "      <td>0</td>\n",
       "      <td>0</td>\n",
       "      <td>1</td>\n",
       "      <td>1</td>\n",
       "      <td>1</td>\n",
       "      <td>0</td>\n",
       "      <td>1</td>\n",
       "      <td>5</td>\n",
       "      <td>0.334622</td>\n",
       "      <td>4</td>\n",
       "      <td>1</td>\n",
       "      <td>1</td>\n",
       "      <td>off</td>\n",
       "      <td>0.019680</td>\n",
       "      <td>Adaptive cubic</td>\n",
       "      <td>True</td>\n",
       "      <td>6</td>\n",
       "      <td>0.474734</td>\n",
       "      <td>1.651319</td>\n",
       "      <td>0.419780</td>\n",
       "      <td>0.403986</td>\n",
       "      <td>0.529177</td>\n",
       "      <td>0.507023</td>\n",
       "      <td>0.641210</td>\n",
       "      <td>1.032688</td>\n",
       "      <td>0.310848</td>\n",
       "      <td>0.922949</td>\n",
       "      <td>218.989785</td>\n",
       "    </tr>\n",
       "    <tr>\n",
       "      <th>4</th>\n",
       "      <td>2023-03-31 23:00:00+03:00</td>\n",
       "      <td>2</td>\n",
       "      <td>2</td>\n",
       "      <td>1</td>\n",
       "      <td>2</td>\n",
       "      <td>2</td>\n",
       "      <td>2</td>\n",
       "      <td>1</td>\n",
       "      <td>2</td>\n",
       "      <td>2</td>\n",
       "      <td>16</td>\n",
       "      <td>0.279965</td>\n",
       "      <td>3</td>\n",
       "      <td>3</td>\n",
       "      <td>2</td>\n",
       "      <td>off</td>\n",
       "      <td>0.010118</td>\n",
       "      <td>Adaptive cubic</td>\n",
       "      <td>False</td>\n",
       "      <td>2</td>\n",
       "      <td>0.531707</td>\n",
       "      <td>1.472704</td>\n",
       "      <td>0.353164</td>\n",
       "      <td>0.535887</td>\n",
       "      <td>0.488179</td>\n",
       "      <td>0.649331</td>\n",
       "      <td>0.443085</td>\n",
       "      <td>0.927427</td>\n",
       "      <td>0.466298</td>\n",
       "      <td>1.039364</td>\n",
       "      <td>201.320003</td>\n",
       "    </tr>\n",
       "    <tr>\n",
       "      <th>5</th>\n",
       "      <td>2023-04-03 08:00:00+03:00</td>\n",
       "      <td>1</td>\n",
       "      <td>2</td>\n",
       "      <td>0</td>\n",
       "      <td>0</td>\n",
       "      <td>0</td>\n",
       "      <td>0</td>\n",
       "      <td>0</td>\n",
       "      <td>0</td>\n",
       "      <td>1</td>\n",
       "      <td>4</td>\n",
       "      <td>0.402185</td>\n",
       "      <td>4</td>\n",
       "      <td>5</td>\n",
       "      <td>4</td>\n",
       "      <td>off</td>\n",
       "      <td>0.011133</td>\n",
       "      <td>Gyroid</td>\n",
       "      <td>True</td>\n",
       "      <td>3</td>\n",
       "      <td>0.518406</td>\n",
       "      <td>0.773843</td>\n",
       "      <td>0.405837</td>\n",
       "      <td>0.467152</td>\n",
       "      <td>0.543919</td>\n",
       "      <td>0.540258</td>\n",
       "      <td>0.404662</td>\n",
       "      <td>1.060127</td>\n",
       "      <td>0.116487</td>\n",
       "      <td>1.061421</td>\n",
       "      <td>207.757213</td>\n",
       "    </tr>\n",
       "    <tr>\n",
       "      <th>6</th>\n",
       "      <td>2023-04-06 08:00:00+03:00</td>\n",
       "      <td>2</td>\n",
       "      <td>1</td>\n",
       "      <td>2</td>\n",
       "      <td>0</td>\n",
       "      <td>0</td>\n",
       "      <td>1</td>\n",
       "      <td>1</td>\n",
       "      <td>0</td>\n",
       "      <td>2</td>\n",
       "      <td>9</td>\n",
       "      <td>0.445417</td>\n",
       "      <td>3</td>\n",
       "      <td>3</td>\n",
       "      <td>1</td>\n",
       "      <td>External perimeters</td>\n",
       "      <td>0.012001</td>\n",
       "      <td>Gyroid</td>\n",
       "      <td>True</td>\n",
       "      <td>0</td>\n",
       "      <td>0.364395</td>\n",
       "      <td>1.954187</td>\n",
       "      <td>0.463620</td>\n",
       "      <td>0.390659</td>\n",
       "      <td>0.400465</td>\n",
       "      <td>0.585956</td>\n",
       "      <td>0.448857</td>\n",
       "      <td>1.016272</td>\n",
       "      <td>0.485010</td>\n",
       "      <td>1.069366</td>\n",
       "      <td>204.796955</td>\n",
       "    </tr>\n",
       "    <tr>\n",
       "      <th>7</th>\n",
       "      <td>2023-04-07 08:00:00+03:00</td>\n",
       "      <td>1</td>\n",
       "      <td>1</td>\n",
       "      <td>0</td>\n",
       "      <td>0</td>\n",
       "      <td>0</td>\n",
       "      <td>1</td>\n",
       "      <td>1</td>\n",
       "      <td>0</td>\n",
       "      <td>1</td>\n",
       "      <td>5</td>\n",
       "      <td>0.297508</td>\n",
       "      <td>3</td>\n",
       "      <td>5</td>\n",
       "      <td>1</td>\n",
       "      <td>External perimeters</td>\n",
       "      <td>0.073248</td>\n",
       "      <td>Adaptive cubic</td>\n",
       "      <td>False</td>\n",
       "      <td>4</td>\n",
       "      <td>0.426028</td>\n",
       "      <td>1.371328</td>\n",
       "      <td>0.499067</td>\n",
       "      <td>0.483847</td>\n",
       "      <td>0.402984</td>\n",
       "      <td>0.416584</td>\n",
       "      <td>0.492521</td>\n",
       "      <td>1.025944</td>\n",
       "      <td>0.105087</td>\n",
       "      <td>1.050551</td>\n",
       "      <td>201.330730</td>\n",
       "    </tr>\n",
       "    <tr>\n",
       "      <th>8</th>\n",
       "      <td>2023-04-10 01:00:00+03:00</td>\n",
       "      <td>2</td>\n",
       "      <td>0</td>\n",
       "      <td>1</td>\n",
       "      <td>1</td>\n",
       "      <td>0</td>\n",
       "      <td>1</td>\n",
       "      <td>1</td>\n",
       "      <td>0</td>\n",
       "      <td>0</td>\n",
       "      <td>6</td>\n",
       "      <td>0.297508</td>\n",
       "      <td>3</td>\n",
       "      <td>5</td>\n",
       "      <td>1</td>\n",
       "      <td>External perimeters</td>\n",
       "      <td>0.073248</td>\n",
       "      <td>Adaptive cubic</td>\n",
       "      <td>False</td>\n",
       "      <td>4</td>\n",
       "      <td>0.426028</td>\n",
       "      <td>1.371328</td>\n",
       "      <td>0.499067</td>\n",
       "      <td>0.483847</td>\n",
       "      <td>0.402984</td>\n",
       "      <td>0.416584</td>\n",
       "      <td>0.492521</td>\n",
       "      <td>1.025944</td>\n",
       "      <td>0.105087</td>\n",
       "      <td>1.050551</td>\n",
       "      <td>201.330730</td>\n",
       "    </tr>\n",
       "    <tr>\n",
       "      <th>9</th>\n",
       "      <td>2023-04-10 09:00:00+03:00</td>\n",
       "      <td>2</td>\n",
       "      <td>2</td>\n",
       "      <td>0</td>\n",
       "      <td>2</td>\n",
       "      <td>2</td>\n",
       "      <td>2</td>\n",
       "      <td>1</td>\n",
       "      <td>2</td>\n",
       "      <td>1</td>\n",
       "      <td>14</td>\n",
       "      <td>0.319819</td>\n",
       "      <td>4</td>\n",
       "      <td>5</td>\n",
       "      <td>2</td>\n",
       "      <td>off</td>\n",
       "      <td>0.016774</td>\n",
       "      <td>Gyroid</td>\n",
       "      <td>False</td>\n",
       "      <td>5</td>\n",
       "      <td>0.353004</td>\n",
       "      <td>0.846675</td>\n",
       "      <td>0.416413</td>\n",
       "      <td>0.376199</td>\n",
       "      <td>0.511898</td>\n",
       "      <td>0.486184</td>\n",
       "      <td>0.635027</td>\n",
       "      <td>1.016403</td>\n",
       "      <td>0.439416</td>\n",
       "      <td>1.068947</td>\n",
       "      <td>218.107846</td>\n",
       "    </tr>\n",
       "  </tbody>\n",
       "</table>\n",
       "</div>"
      ],
      "text/plain": [
       "                   datetime  OH  GACI  STR  DEL  NOWH  NOSUPbridge  \\\n",
       "0 2023-01-06 23:50:00+03:00   2     0    0    2     1            1   \n",
       "1 2023-01-07 08:40:00+03:00   1     1    2    2     0            1   \n",
       "2 2023-01-08 23:00:00+03:00   1     1    1    2     0            1   \n",
       "3 2023-01-09 23:00:00+03:00   1     0    0    0     1            1   \n",
       "4 2023-03-31 23:00:00+03:00   2     2    1    2     2            2   \n",
       "5 2023-04-03 08:00:00+03:00   1     2    0    0     0            0   \n",
       "6 2023-04-06 08:00:00+03:00   2     1    2    0     0            1   \n",
       "7 2023-04-07 08:00:00+03:00   1     1    0    0     0            1   \n",
       "8 2023-04-10 01:00:00+03:00   2     0    1    1     0            1   \n",
       "9 2023-04-10 09:00:00+03:00   2     2    0    2     2            2   \n",
       "\n",
       "   NOSUPshell  BL  RIN  AQI  first_layer_height  perimeters  top_solid_layers  \\\n",
       "0           2   1    1   10            0.266809           3                 1   \n",
       "1           1   0    0    8            0.376929           4                 5   \n",
       "2           2   0    0    8            0.463438           2                 2   \n",
       "3           1   0    1    5            0.334622           4                 1   \n",
       "4           1   2    2   16            0.279965           3                 3   \n",
       "5           0   0    1    4            0.402185           4                 5   \n",
       "6           1   0    2    9            0.445417           3                 3   \n",
       "7           1   0    1    5            0.297508           3                 5   \n",
       "8           1   0    0    6            0.297508           3                 5   \n",
       "9           1   2    1   14            0.319819           4                 5   \n",
       "\n",
       "   bottom_solid_layers           fuzzu_skin  fuzzu_skin_thickness  \\\n",
       "0                    2                  off              0.021439   \n",
       "1                    1  External perimeters              0.364309   \n",
       "2                    1  External perimeters              0.023785   \n",
       "3                    1                  off              0.019680   \n",
       "4                    2                  off              0.010118   \n",
       "5                    4                  off              0.011133   \n",
       "6                    1  External perimeters              0.012001   \n",
       "7                    1  External perimeters              0.073248   \n",
       "8                    1  External perimeters              0.073248   \n",
       "9                    2                  off              0.016774   \n",
       "\n",
       "     fill_pattern ironing  brim_width  extrusion_default  \\\n",
       "0          Gyroid    True           4           0.390890   \n",
       "1          Gyroid    True           4           0.413103   \n",
       "2          Gyroid   False           1           0.467861   \n",
       "3  Adaptive cubic    True           6           0.474734   \n",
       "4  Adaptive cubic   False           2           0.531707   \n",
       "5          Gyroid    True           3           0.518406   \n",
       "6          Gyroid    True           0           0.364395   \n",
       "7  Adaptive cubic   False           4           0.426028   \n",
       "8  Adaptive cubic   False           4           0.426028   \n",
       "9          Gyroid   False           5           0.353004   \n",
       "\n",
       "   firts_layer_extrusion_width  perimeter_extrusion_width  \\\n",
       "0                     1.829364                   0.355478   \n",
       "1                     1.561101                   0.516925   \n",
       "2                     1.579662                   0.370467   \n",
       "3                     1.651319                   0.419780   \n",
       "4                     1.472704                   0.353164   \n",
       "5                     0.773843                   0.405837   \n",
       "6                     1.954187                   0.463620   \n",
       "7                     1.371328                   0.499067   \n",
       "8                     1.371328                   0.499067   \n",
       "9                     0.846675                   0.416413   \n",
       "\n",
       "   external_perimeter_extrusion_width  infill_extrusion_width  \\\n",
       "0                            0.484094                0.433461   \n",
       "1                            0.353658                0.500029   \n",
       "2                            0.432811                0.488880   \n",
       "3                            0.403986                0.529177   \n",
       "4                            0.535887                0.488179   \n",
       "5                            0.467152                0.543919   \n",
       "6                            0.390659                0.400465   \n",
       "7                            0.483847                0.402984   \n",
       "8                            0.483847                0.402984   \n",
       "9                            0.376199                0.511898   \n",
       "\n",
       "   solid_infill_extrusion_width  top_infill_extrusion_width  \\\n",
       "0                      0.539672                    0.435097   \n",
       "1                      0.647215                    0.587041   \n",
       "2                      0.503545                    0.412488   \n",
       "3                      0.507023                    0.641210   \n",
       "4                      0.649331                    0.443085   \n",
       "5                      0.540258                    0.404662   \n",
       "6                      0.585956                    0.448857   \n",
       "7                      0.416584                    0.492521   \n",
       "8                      0.416584                    0.492521   \n",
       "9                      0.486184                    0.635027   \n",
       "\n",
       "   bridge_flow_ratio  elephant_foot_compensation  flow_multiplier  temperature  \n",
       "0           0.939620                    0.400372         1.093652   206.268484  \n",
       "1           0.956089                    0.394640         0.920645   208.957871  \n",
       "2           1.007179                    0.331897         1.002978   218.891895  \n",
       "3           1.032688                    0.310848         0.922949   218.989785  \n",
       "4           0.927427                    0.466298         1.039364   201.320003  \n",
       "5           1.060127                    0.116487         1.061421   207.757213  \n",
       "6           1.016272                    0.485010         1.069366   204.796955  \n",
       "7           1.025944                    0.105087         1.050551   201.330730  \n",
       "8           1.025944                    0.105087         1.050551   201.330730  \n",
       "9           1.016403                    0.439416         1.068947   218.107846  "
      ]
     },
     "execution_count": 18,
     "metadata": {},
     "output_type": "execute_result"
    }
   ],
   "source": [
    "results"
   ]
  },
  {
   "cell_type": "code",
   "execution_count": 19,
   "metadata": {},
   "outputs": [],
   "source": [
    "# # save the sampler with pickle after each iteration\n",
    "# import pickle\n",
    "# # ArgumentError: Could not parse SQLAlchemy URL from string 'store'. Please make sure that the URL is correctly formatted.\n",
    "# storage_name = 'sqlite:///{}.db'.format(study_name)\n",
    "\n",
    "# with open('sampler.pkl', 'wb') as f:\n",
    "#     pickle.dump(study.sampler, f)\n",
    "    \n",
    "# with open('sampler.pkl', 'rb') as f:\n",
    "#     sampler = pickle.load(f)\n",
    "#     # use storage in a database\n",
    "#     study = optuna.create_study(study_name=study_name, storage=storage_name, sampler=sampler)\n",
    "\n",
    "\n",
    "# study.optimize(objective, n_trials=1)"
   ]
  }
 ],
 "metadata": {
  "kernelspec": {
   "display_name": "venv",
   "language": "python",
   "name": "python3"
  },
  "language_info": {
   "codemirror_mode": {
    "name": "ipython",
    "version": 3
   },
   "file_extension": ".py",
   "mimetype": "text/x-python",
   "name": "python",
   "nbconvert_exporter": "python",
   "pygments_lexer": "ipython3",
   "version": "3.10.10"
  },
  "orig_nbformat": 4,
  "vscode": {
   "interpreter": {
    "hash": "395d6f3901f588d6c89f50ec64cca6e13b2db2b7a216577c077781a61232b7ea"
   }
  }
 },
 "nbformat": 4,
 "nbformat_minor": 2
}
